{
 "cells": [
  {
   "cell_type": "markdown",
   "metadata": {
    "collapsed": true
   },
   "source": [
    "# Salt pond bin LDA dev 0.02\n",
    "\n",
    "### Goal: Which traits (KOs) differentiate bins positively or negatively correlated with CH4?\n",
    "From JZZ bins, Feb 2018 -- IMG annots?\n",
    "Using WHH CNPS KO ontology.  SDA method from Hartman et al. 2017 ISME.\n",
    "\n",
    "Early script includes dead lines where cells borrowed from other notebooks"
   ]
  },
  {
   "cell_type": "code",
   "execution_count": 1,
   "metadata": {},
   "outputs": [
    {
     "data": {
      "text/html": [
       "'/Volumes/due/Desktop/salt_ponds'"
      ],
      "text/latex": [
       "'/Volumes/due/Desktop/salt\\_ponds'"
      ],
      "text/markdown": [
       "'/Volumes/due/Desktop/salt_ponds'"
      ],
      "text/plain": [
       "[1] \"/Volumes/due/Desktop/salt_ponds\""
      ]
     },
     "metadata": {},
     "output_type": "display_data"
    }
   ],
   "source": [
    "setwd(\"~/Desktop/salt_ponds\")\n",
    "getwd()"
   ]
  },
  {
   "cell_type": "code",
   "execution_count": 2,
   "metadata": {},
   "outputs": [
    {
     "name": "stderr",
     "output_type": "stream",
     "text": [
      "Loading required package: lattice\n",
      "Loading required package: survival\n",
      "Loading required package: Formula\n",
      "Loading required package: ggplot2\n",
      "\n",
      "Attaching package: ‘Hmisc’\n",
      "\n",
      "The following objects are masked from ‘package:base’:\n",
      "\n",
      "    format.pval, round.POSIXt, trunc.POSIXt, units\n",
      "\n",
      "Loading required package: entropy\n",
      "Loading required package: corpcor\n"
     ]
    }
   ],
   "source": [
    "# Load packages\n",
    "library(Hmisc)\n",
    "library(fdrtool)\n",
    "library(sda)\n",
    "library(ggplot2)\n",
    "#library(cowplot)"
   ]
  },
  {
   "cell_type": "markdown",
   "metadata": {},
   "source": [
    "# A) Import data and reformat \n",
    "- 1) Metadata (chemistry, gas fluxes)\n",
    "- 2) Bin abundances\n",
    "- 3) Bin abund merged with CH4 for corr calcs.\n",
    "- 4) Bin KO counts, corr (calc previously and filtered to abs(r) > 0.5)\n",
    "- 5) KO ontology (for CNPS cycling)\n",
    "- 6) Import KO colors, merge with ontol.\n",
    "- 7) 4) is merged with 3) to get bin KOs within the CNPS ontology.\n",
    "\n",
    "#### next section B) combines these to prepare + or - correlated bins used in C) the LDA\n",
    "\n"
   ]
  },
  {
   "cell_type": "markdown",
   "metadata": {},
   "source": [
    "### 1) Get metadata"
   ]
  },
  {
   "cell_type": "code",
   "execution_count": 3,
   "metadata": {},
   "outputs": [
    {
     "data": {
      "text/html": [
       "<ol class=list-inline>\n",
       "\t<li>'New_index'</li>\n",
       "\t<li>'Sample_name'</li>\n",
       "\t<li>'Sample'</li>\n",
       "\t<li>'Site'</li>\n",
       "\t<li>'Core'</li>\n",
       "\t<li>'Depth'</li>\n",
       "\t<li>'Restoration'</li>\n",
       "\t<li>'Hydrol'</li>\n",
       "\t<li>'Date'</li>\n",
       "\t<li>'Lat'</li>\n",
       "\t<li>'Long'</li>\n",
       "\t<li>'Salinity'</li>\n",
       "\t<li>'Cond_uS_cm'</li>\n",
       "\t<li>'Temp'</li>\n",
       "\t<li>'DO_perc'</li>\n",
       "\t<li>'DO_mg_L'</li>\n",
       "\t<li>'Redox'</li>\n",
       "\t<li>'pH_YSI'</li>\n",
       "\t<li>'CH4_umol_m2_d'</li>\n",
       "\t<li>'CO2_umol_m2_d'</li>\n",
       "\t<li>'pH'</li>\n",
       "\t<li>'Cl'</li>\n",
       "\t<li>'SO4_S'</li>\n",
       "\t<li>'TOC'</li>\n",
       "\t<li>'OM_LOI'</li>\n",
       "\t<li>'C_Org_LOI'</li>\n",
       "\t<li>'C'</li>\n",
       "\t<li>'N'</li>\n",
       "\t<li>'P'</li>\n",
       "\t<li>'NO3'</li>\n",
       "\t<li>'NH4'</li>\n",
       "\t<li>'Olsen_P'</li>\n",
       "\t<li>'K_ppm'</li>\n",
       "\t<li>'K_meq'</li>\n",
       "\t<li>'Na_ppm'</li>\n",
       "\t<li>'Na_meq'</li>\n",
       "\t<li>'Ca'</li>\n",
       "\t<li>'Mg'</li>\n",
       "\t<li>'Zn'</li>\n",
       "\t<li>'Mn'</li>\n",
       "\t<li>'Cu'</li>\n",
       "\t<li>'Fe'</li>\n",
       "</ol>\n"
      ],
      "text/latex": [
       "\\begin{enumerate*}\n",
       "\\item 'New\\_index'\n",
       "\\item 'Sample\\_name'\n",
       "\\item 'Sample'\n",
       "\\item 'Site'\n",
       "\\item 'Core'\n",
       "\\item 'Depth'\n",
       "\\item 'Restoration'\n",
       "\\item 'Hydrol'\n",
       "\\item 'Date'\n",
       "\\item 'Lat'\n",
       "\\item 'Long'\n",
       "\\item 'Salinity'\n",
       "\\item 'Cond\\_uS\\_cm'\n",
       "\\item 'Temp'\n",
       "\\item 'DO\\_perc'\n",
       "\\item 'DO\\_mg\\_L'\n",
       "\\item 'Redox'\n",
       "\\item 'pH\\_YSI'\n",
       "\\item 'CH4\\_umol\\_m2\\_d'\n",
       "\\item 'CO2\\_umol\\_m2\\_d'\n",
       "\\item 'pH'\n",
       "\\item 'Cl'\n",
       "\\item 'SO4\\_S'\n",
       "\\item 'TOC'\n",
       "\\item 'OM\\_LOI'\n",
       "\\item 'C\\_Org\\_LOI'\n",
       "\\item 'C'\n",
       "\\item 'N'\n",
       "\\item 'P'\n",
       "\\item 'NO3'\n",
       "\\item 'NH4'\n",
       "\\item 'Olsen\\_P'\n",
       "\\item 'K\\_ppm'\n",
       "\\item 'K\\_meq'\n",
       "\\item 'Na\\_ppm'\n",
       "\\item 'Na\\_meq'\n",
       "\\item 'Ca'\n",
       "\\item 'Mg'\n",
       "\\item 'Zn'\n",
       "\\item 'Mn'\n",
       "\\item 'Cu'\n",
       "\\item 'Fe'\n",
       "\\end{enumerate*}\n"
      ],
      "text/markdown": [
       "1. 'New_index'\n",
       "2. 'Sample_name'\n",
       "3. 'Sample'\n",
       "4. 'Site'\n",
       "5. 'Core'\n",
       "6. 'Depth'\n",
       "7. 'Restoration'\n",
       "8. 'Hydrol'\n",
       "9. 'Date'\n",
       "10. 'Lat'\n",
       "11. 'Long'\n",
       "12. 'Salinity'\n",
       "13. 'Cond_uS_cm'\n",
       "14. 'Temp'\n",
       "15. 'DO_perc'\n",
       "16. 'DO_mg_L'\n",
       "17. 'Redox'\n",
       "18. 'pH_YSI'\n",
       "19. 'CH4_umol_m2_d'\n",
       "20. 'CO2_umol_m2_d'\n",
       "21. 'pH'\n",
       "22. 'Cl'\n",
       "23. 'SO4_S'\n",
       "24. 'TOC'\n",
       "25. 'OM_LOI'\n",
       "26. 'C_Org_LOI'\n",
       "27. 'C'\n",
       "28. 'N'\n",
       "29. 'P'\n",
       "30. 'NO3'\n",
       "31. 'NH4'\n",
       "32. 'Olsen_P'\n",
       "33. 'K_ppm'\n",
       "34. 'K_meq'\n",
       "35. 'Na_ppm'\n",
       "36. 'Na_meq'\n",
       "37. 'Ca'\n",
       "38. 'Mg'\n",
       "39. 'Zn'\n",
       "40. 'Mn'\n",
       "41. 'Cu'\n",
       "42. 'Fe'\n",
       "\n",
       "\n"
      ],
      "text/plain": [
       " [1] \"New_index\"     \"Sample_name\"   \"Sample\"        \"Site\"         \n",
       " [5] \"Core\"          \"Depth\"         \"Restoration\"   \"Hydrol\"       \n",
       " [9] \"Date\"          \"Lat\"           \"Long\"          \"Salinity\"     \n",
       "[13] \"Cond_uS_cm\"    \"Temp\"          \"DO_perc\"       \"DO_mg_L\"      \n",
       "[17] \"Redox\"         \"pH_YSI\"        \"CH4_umol_m2_d\" \"CO2_umol_m2_d\"\n",
       "[21] \"pH\"            \"Cl\"            \"SO4_S\"         \"TOC\"          \n",
       "[25] \"OM_LOI\"        \"C_Org_LOI\"     \"C\"             \"N\"            \n",
       "[29] \"P\"             \"NO3\"           \"NH4\"           \"Olsen_P\"      \n",
       "[33] \"K_ppm\"         \"K_meq\"         \"Na_ppm\"        \"Na_meq\"       \n",
       "[37] \"Ca\"            \"Mg\"            \"Zn\"            \"Mn\"           \n",
       "[41] \"Cu\"            \"Fe\"           "
      ]
     },
     "metadata": {},
     "output_type": "display_data"
    }
   ],
   "source": [
    "### IMPORT Sample mapping\n",
    "map_iTag <-read.table(\"Salt_pond_ALL_Meta_whh.txt\", sep=\"\\t\", header=TRUE)                            # import Mapping    # map_iTag\n",
    "map_iTag <- map_iTag[order(map_iTag$New_index),]                                                      # sort by index\n",
    "#map_iTag_only <- data.frame(Sample=map_iTag$Sample, Treat=map_iTag$Restoration, Depth=map_iTag$Depth) # combine select cols.    #map_iTag_only # map_iTag_only<-map_iTag_only[1:33,] \n",
    "\n",
    "### Finalize Sample MAP for Phyloseq\n",
    "#row.names(map_iTag_only) <- map_iTag_only$Sample   # Row names are samples\n",
    "#map = map_iTag_only[,-1]                           # Drop sample col               # map <-map[7:24,] # only positive CH4 samples, try a different way below   \n",
    "colnames(map_iTag)"
   ]
  },
  {
   "cell_type": "code",
   "execution_count": 4,
   "metadata": {},
   "outputs": [
    {
     "data": {
      "text/html": [
       "<table>\n",
       "<thead><tr><th scope=col>CH4_logn1</th><th scope=col>Sample</th><th scope=col>Indx</th></tr></thead>\n",
       "<tbody>\n",
       "\t<tr><td>0.08457628</td><td>R2A_A_D1  </td><td>1         </td></tr>\n",
       "\t<tr><td>0.08457628</td><td>R2A_A_D2  </td><td>2         </td></tr>\n",
       "\t<tr><td>1.37575503</td><td>R2A_B_D1  </td><td>3         </td></tr>\n",
       "\t<tr><td>1.37575503</td><td>R2A_B_D2  </td><td>4         </td></tr>\n",
       "\t<tr><td>1.26517172</td><td>R2A_C_D1  </td><td>5         </td></tr>\n",
       "\t<tr><td>1.26517172</td><td>R2A_C_D2  </td><td>6         </td></tr>\n",
       "</tbody>\n",
       "</table>\n"
      ],
      "text/latex": [
       "\\begin{tabular}{r|lll}\n",
       " CH4\\_logn1 & Sample & Indx\\\\\n",
       "\\hline\n",
       "\t 0.08457628   & R2A\\_A\\_D1 & 1           \\\\\n",
       "\t 0.08457628   & R2A\\_A\\_D2 & 2           \\\\\n",
       "\t 1.37575503   & R2A\\_B\\_D1 & 3           \\\\\n",
       "\t 1.37575503   & R2A\\_B\\_D2 & 4           \\\\\n",
       "\t 1.26517172   & R2A\\_C\\_D1 & 5           \\\\\n",
       "\t 1.26517172   & R2A\\_C\\_D2 & 6           \\\\\n",
       "\\end{tabular}\n"
      ],
      "text/markdown": [
       "\n",
       "CH4_logn1 | Sample | Indx | \n",
       "|---|---|---|---|---|---|\n",
       "| 0.08457628 | R2A_A_D1   | 1          | \n",
       "| 0.08457628 | R2A_A_D2   | 2          | \n",
       "| 1.37575503 | R2A_B_D1   | 3          | \n",
       "| 1.37575503 | R2A_B_D2   | 4          | \n",
       "| 1.26517172 | R2A_C_D1   | 5          | \n",
       "| 1.26517172 | R2A_C_D2   | 6          | \n",
       "\n",
       "\n"
      ],
      "text/plain": [
       "  CH4_logn1  Sample   Indx\n",
       "1 0.08457628 R2A_A_D1 1   \n",
       "2 0.08457628 R2A_A_D2 2   \n",
       "3 1.37575503 R2A_B_D1 3   \n",
       "4 1.37575503 R2A_B_D2 4   \n",
       "5 1.26517172 R2A_C_D1 5   \n",
       "6 1.26517172 R2A_C_D2 6   "
      ]
     },
     "metadata": {},
     "output_type": "display_data"
    }
   ],
   "source": [
    "# get methane data for corr, log_n1, add sample and site index\n",
    "CH4 <- map_iTag$CH4_umol_m2_d                                         # Short name\n",
    "CH4_logn1 <- CH4 # log10(CH4)                                         # SKIP log 10, contains NA due to negative CH4\n",
    "CH4_logn1 <- data.frame(CH4_logn1=log10(CH4 - (1.05*min(CH4))))       # Get log n+1 data. since negative, add 5% extra so non-zero\n",
    "CH4_logn1$Sample <-map_iTag$Sample                                    # add sample col for merge\n",
    "CH4_logn1$Indx <-map_iTag$New_index                                   # add New_index for sort post merge  # CH4_logn1  # CH4 \n",
    "head(CH4_logn1)"
   ]
  },
  {
   "cell_type": "markdown",
   "metadata": {},
   "source": [
    "### 2) Import bin abundances / Sample"
   ]
  },
  {
   "cell_type": "code",
   "execution_count": 5,
   "metadata": {
    "collapsed": true
   },
   "outputs": [],
   "source": [
    "bin_abund <- read.table(\"Salt_pond_bin_counts_DESeq2_E.txt\", sep='\\t', header =T, row.names=1)   "
   ]
  },
  {
   "cell_type": "code",
   "execution_count": 6,
   "metadata": {
    "collapsed": true
   },
   "outputs": [],
   "source": [
    "# dim(bin_abund); head(bin_abund)"
   ]
  },
  {
   "cell_type": "markdown",
   "metadata": {},
   "source": [
    "### 3) Bin abundance merged with CH4 for corr calcs."
   ]
  },
  {
   "cell_type": "code",
   "execution_count": 7,
   "metadata": {
    "collapsed": true
   },
   "outputs": [],
   "source": [
    "### Crop bin_abund to samples in metadata, by merge\n",
    "bin_abundT <- data.frame(t(bin_abund))                                    # Transpose bin abund\n",
    "bin_abundT[\"Sample\"] <- row.names(bin_abundT)                             # Get sample ID from rows  #bin_abundT\n",
    "\n",
    "CH4_bin_abundT <- merge(CH4_logn1, bin_abundT)                            # Inner join drops extra samples, merged on \"Sample\"\n",
    "# dim(CH4_bin_abundT); head(CH4_bin_abundT)  # CH4_bin_abundT             # order by site index not needed"
   ]
  },
  {
   "cell_type": "code",
   "execution_count": 8,
   "metadata": {
    "collapsed": true
   },
   "outputs": [],
   "source": [
    "# Finalize data matrix for corr\n",
    "CH4_bin_abundT <- CH4_bin_abundT[, 3:ncol(CH4_bin_abundT)-1]              # drops Sample col, unbinned reads (from normalization)\n",
    "CH4_bin_abundT <-data.matrix(CH4_bin_abundT[,-2])                         # drops site index   \n",
    "# head(CH4_bin_abundT) "
   ]
  },
  {
   "cell_type": "markdown",
   "metadata": {},
   "source": [
    "### 4) Import bin KO counts \n",
    "here already cropped to r > 0.5, later reimport all? \n",
    "Trimmed by JZZ due to DB size, seems unnecessary"
   ]
  },
  {
   "cell_type": "code",
   "execution_count": 9,
   "metadata": {
    "collapsed": true
   },
   "outputs": [],
   "source": [
    "bins_KO <- read.table(\"310bin_CH4cor_cut_KGcount_E.csv\", sep=',', header=T)\n",
    "colnames(bins_KO)[1] <- \"binID\"                                           # name first col \"binID\"\n",
    "# head(bins_KO)"
   ]
  },
  {
   "cell_type": "code",
   "execution_count": 10,
   "metadata": {
    "collapsed": true
   },
   "outputs": [],
   "source": [
    "# Get only CH4 Corr data/ bin\n",
    "keep <-c(\"binID\", \"CH4_cor\")\n",
    "bins_KO_corr <- bins_KO[keep]                                             # bins_KO_corr "
   ]
  },
  {
   "cell_type": "markdown",
   "metadata": {},
   "source": [
    "### 5) Import CNPS KO ontology"
   ]
  },
  {
   "cell_type": "code",
   "execution_count": 11,
   "metadata": {
    "collapsed": true
   },
   "outputs": [],
   "source": [
    "KO_ontol <- read.table(\"Ontology_KO_CNPSch4_Fm_whh0_R.txt\", sep='\\t', header=T, skipNul = T)       # KO_ontol"
   ]
  },
  {
   "cell_type": "code",
   "execution_count": 12,
   "metadata": {
    "collapsed": true
   },
   "outputs": [],
   "source": [
    "KO_ontol_tr <-KO_ontol[KO_ontol$L2!='Fermentation',]                      # Trim Ontology, dropping many Fermentation genes (not acetate, H2)\n",
    "KO_ontol_tr <-KO_ontol_tr[KO_ontol_tr$L1!='Carbon',]\n",
    "CNPS_KOs <- KO_ontol_tr['KO']                                             # Get list of KOs only\n",
    "CNPS_KOs <- unique(CNPS_KOs)                                              # Make unique\n",
    "#dim(CNPS_KOs) ; head(CNPS_KOs)"
   ]
  },
  {
   "cell_type": "markdown",
   "metadata": {},
   "source": [
    "### 6) Import CNPS KO colors, merge with ontol"
   ]
  },
  {
   "cell_type": "code",
   "execution_count": 13,
   "metadata": {},
   "outputs": [
    {
     "data": {
      "text/html": [
       "<table>\n",
       "<thead><tr><th scope=col>L2</th><th scope=col>L1</th><th scope=col>L3</th><th scope=col>L4</th><th scope=col>KO</th><th scope=col>gene</th><th scope=col>fxn</th><th scope=col>EC</th><th scope=col>sm_name</th><th scope=col>mid_name</th><th scope=col>L2_order</th><th scope=col>color</th></tr></thead>\n",
       "<tbody>\n",
       "\t<tr><td>Acetate                                                                            </td><td>Fermentation                                                                       </td><td>Acetogen                                                                           </td><td>NA                                                                                 </td><td>K00925                                                                             </td><td>ackA                                                                               </td><td>acetate_kinase                                                                     </td><td>[EC:2.7.2.1]                                                                       </td><td>K00925       Acetogen ackA                                                         </td><td>K00925       Acetogen ( ackA ) acetate_kinase                                      </td><td>27                                                                                 </td><td>#8e3104                                                                            </td></tr>\n",
       "\t<tr><td>Acetate                                                                            </td><td>Fermentation                                                                       </td><td>Acetogen                                                                           </td><td>NA                                                                                 </td><td>K04020                                                                             </td><td>eutD                                                                               </td><td>phosphotransacetylase                                                              </td><td>                                                                                   </td><td>K04020  Acetogen eutD                                                              </td><td>K04020  Acetogen ( eutD ) phosphotransacetyl                                       </td><td>27                                                                                 </td><td>#8e3104                                                                            </td></tr>\n",
       "\t<tr><td>Acetate                                                                            </td><td>Fermentation                                                                       </td><td>Acetogen                                                                           </td><td>NA                                                                                 </td><td>K00640                                                                             </td><td>cysE                                                                               </td><td>serine O-acetyltransferase                                                         </td><td>[EC:2.3.1.30]                                                                      </td><td>K00640 Acetogen cysE                                                               </td><td>K00640 Acetogen ( cysE ) serine O-acetyltra                                        </td><td>27                                                                                 </td><td>#8e3104                                                                            </td></tr>\n",
       "\t<tr><td>Acetate                                                                            </td><td>Fermentation                                                                       </td><td>Acetogen                                                                           </td><td>NA                                                                                 </td><td>K13598                                                                             </td><td>ntrY                                                                               </td><td>two-component system, NtrC family, nitrogen regulation sensor histidine kinase NtrY</td><td>[EC:2.7.13.3]                                                                      </td><td>K13598 Acetogen ntrY                                                               </td><td>K13598 Acetogen ( ntrY ) two-component syst                                        </td><td>27                                                                                 </td><td>#8e3104                                                                            </td></tr>\n",
       "\t<tr><td>Acetate                                                                            </td><td>Fermentation                                                                       </td><td>Acetogen                                                                           </td><td>NA                                                                                 </td><td>K01905                                                                             </td><td>E6.2.1.13                                                                          </td><td>acetyl-CoA synthetase (ADP-forming)                                                </td><td>[EC:6.2.1.13]                                                                      </td><td>K01905 Acetogen E6.2                                                               </td><td>K01905 Acetogen ( E6.2 ) acetyl-CoA synthet                                        </td><td>27                                                                                 </td><td>#8e3104                                                                            </td></tr>\n",
       "\t<tr><td>Aromatic                                                                           </td><td>Carbon                                                                             </td><td>C_arom_carbox                                                                      </td><td>NA                                                                                 </td><td>K04110                                                                             </td><td>badA                                                                               </td><td>benzoate-CoA ligase                                                                </td><td>[EC:6.2.1.25]                                                                      </td><td>K04110 C_arom_carbox badA                                                          </td><td>K04110 C_arom_carbox ( badA ) benzoate-CoA ligas                                   </td><td> 2                                                                                 </td><td>#5f3230                                                                            </td></tr>\n",
       "</tbody>\n",
       "</table>\n"
      ],
      "text/latex": [
       "\\begin{tabular}{r|llllllllllll}\n",
       " L2 & L1 & L3 & L4 & KO & gene & fxn & EC & sm\\_name & mid\\_name & L2\\_order & color\\\\\n",
       "\\hline\n",
       "\t Acetate                                                                               & Fermentation                                                                          & Acetogen                                                                              & NA                                                                                    & K00925                                                                                & ackA                                                                                  & acetate\\_kinase                                                                      & {[}EC:2.7.2.1{]}                                                                      & K00925       Acetogen ackA                                                            & K00925       Acetogen ( ackA ) acetate\\_kinase                                       & 27                                                                                    & \\#8e3104                                                                            \\\\\n",
       "\t Acetate                                                                             & Fermentation                                                                        & Acetogen                                                                            & NA                                                                                  & K04020                                                                              & eutD                                                                                & phosphotransacetylase                                                               &                                                                                     & K04020  Acetogen eutD                                                               & K04020  Acetogen ( eutD ) phosphotransacetyl                                        & 27                                                                                  & \\#8e3104                                                                          \\\\\n",
       "\t Acetate                                                                             & Fermentation                                                                        & Acetogen                                                                            & NA                                                                                  & K00640                                                                              & cysE                                                                                & serine O-acetyltransferase                                                          & {[}EC:2.3.1.30{]}                                                                   & K00640 Acetogen cysE                                                                & K00640 Acetogen ( cysE ) serine O-acetyltra                                         & 27                                                                                  & \\#8e3104                                                                          \\\\\n",
       "\t Acetate                                                                             & Fermentation                                                                        & Acetogen                                                                            & NA                                                                                  & K13598                                                                              & ntrY                                                                                & two-component system, NtrC family, nitrogen regulation sensor histidine kinase NtrY & {[}EC:2.7.13.3{]}                                                                   & K13598 Acetogen ntrY                                                                & K13598 Acetogen ( ntrY ) two-component syst                                         & 27                                                                                  & \\#8e3104                                                                          \\\\\n",
       "\t Acetate                                                                             & Fermentation                                                                        & Acetogen                                                                            & NA                                                                                  & K01905                                                                              & E6.2.1.13                                                                           & acetyl-CoA synthetase (ADP-forming)                                                 & {[}EC:6.2.1.13{]}                                                                   & K01905 Acetogen E6.2                                                                & K01905 Acetogen ( E6.2 ) acetyl-CoA synthet                                         & 27                                                                                  & \\#8e3104                                                                          \\\\\n",
       "\t Aromatic                                                                            & Carbon                                                                              & C\\_arom\\_carbox                                                                   & NA                                                                                  & K04110                                                                              & badA                                                                                & benzoate-CoA ligase                                                                 & {[}EC:6.2.1.25{]}                                                                   & K04110 C\\_arom\\_carbox badA                                                       & K04110 C\\_arom\\_carbox ( badA ) benzoate-CoA ligas                                &  2                                                                                  & \\#5f3230                                                                          \\\\\n",
       "\\end{tabular}\n"
      ],
      "text/markdown": [
       "\n",
       "L2 | L1 | L3 | L4 | KO | gene | fxn | EC | sm_name | mid_name | L2_order | color | \n",
       "|---|---|---|---|---|---|\n",
       "| Acetate                                                                             | Fermentation                                                                        | Acetogen                                                                            | NA                                                                                  | K00925                                                                              | ackA                                                                                | acetate_kinase                                                                      | [EC:2.7.2.1]                                                                        | K00925       Acetogen ackA                                                          | K00925       Acetogen ( ackA ) acetate_kinase                                       | 27                                                                                  | #8e3104                                                                             | \n",
       "| Acetate                                                                             | Fermentation                                                                        | Acetogen                                                                            | NA                                                                                  | K04020                                                                              | eutD                                                                                | phosphotransacetylase                                                               |                                                                                     | K04020  Acetogen eutD                                                               | K04020  Acetogen ( eutD ) phosphotransacetyl                                        | 27                                                                                  | #8e3104                                                                             | \n",
       "| Acetate                                                                             | Fermentation                                                                        | Acetogen                                                                            | NA                                                                                  | K00640                                                                              | cysE                                                                                | serine O-acetyltransferase                                                          | [EC:2.3.1.30]                                                                       | K00640 Acetogen cysE                                                                | K00640 Acetogen ( cysE ) serine O-acetyltra                                         | 27                                                                                  | #8e3104                                                                             | \n",
       "| Acetate                                                                             | Fermentation                                                                        | Acetogen                                                                            | NA                                                                                  | K13598                                                                              | ntrY                                                                                | two-component system, NtrC family, nitrogen regulation sensor histidine kinase NtrY | [EC:2.7.13.3]                                                                       | K13598 Acetogen ntrY                                                                | K13598 Acetogen ( ntrY ) two-component syst                                         | 27                                                                                  | #8e3104                                                                             | \n",
       "| Acetate                                                                             | Fermentation                                                                        | Acetogen                                                                            | NA                                                                                  | K01905                                                                              | E6.2.1.13                                                                           | acetyl-CoA synthetase (ADP-forming)                                                 | [EC:6.2.1.13]                                                                       | K01905 Acetogen E6.2                                                                | K01905 Acetogen ( E6.2 ) acetyl-CoA synthet                                         | 27                                                                                  | #8e3104                                                                             | \n",
       "| Aromatic                                                                            | Carbon                                                                              | C_arom_carbox                                                                       | NA                                                                                  | K04110                                                                              | badA                                                                                | benzoate-CoA ligase                                                                 | [EC:6.2.1.25]                                                                       | K04110 C_arom_carbox badA                                                           | K04110 C_arom_carbox ( badA ) benzoate-CoA ligas                                    |  2                                                                                  | #5f3230                                                                             | \n",
       "\n",
       "\n"
      ],
      "text/plain": [
       "  L2       L1           L3            L4 KO           gene     \n",
       "1 Acetate  Fermentation Acetogen      NA K00925       ackA     \n",
       "2 Acetate  Fermentation Acetogen      NA K04020       eutD     \n",
       "3 Acetate  Fermentation Acetogen      NA K00640       cysE     \n",
       "4 Acetate  Fermentation Acetogen      NA K13598       ntrY     \n",
       "5 Acetate  Fermentation Acetogen      NA K01905       E6.2.1.13\n",
       "6 Aromatic Carbon       C_arom_carbox NA K04110       badA     \n",
       "  fxn                                                                                \n",
       "1 acetate_kinase                                                                     \n",
       "2 phosphotransacetylase                                                              \n",
       "3 serine O-acetyltransferase                                                         \n",
       "4 two-component system, NtrC family, nitrogen regulation sensor histidine kinase NtrY\n",
       "5 acetyl-CoA synthetase (ADP-forming)                                                \n",
       "6 benzoate-CoA ligase                                                                \n",
       "  EC            sm_name                   \n",
       "1 [EC:2.7.2.1]  K00925       Acetogen ackA\n",
       "2               K04020  Acetogen eutD     \n",
       "3 [EC:2.3.1.30] K00640 Acetogen cysE      \n",
       "4 [EC:2.7.13.3] K13598 Acetogen ntrY      \n",
       "5 [EC:6.2.1.13] K01905 Acetogen E6.2      \n",
       "6 [EC:6.2.1.25] K04110 C_arom_carbox badA \n",
       "  mid_name                                         L2_order color  \n",
       "1 K00925       Acetogen ( ackA ) acetate_kinase    27       #8e3104\n",
       "2 K04020  Acetogen ( eutD ) phosphotransacetyl     27       #8e3104\n",
       "3 K00640 Acetogen ( cysE ) serine O-acetyltra      27       #8e3104\n",
       "4 K13598 Acetogen ( ntrY ) two-component syst      27       #8e3104\n",
       "5 K01905 Acetogen ( E6.2 ) acetyl-CoA synthet      27       #8e3104\n",
       "6 K04110 C_arom_carbox ( badA ) benzoate-CoA ligas  2       #5f3230"
      ]
     },
     "metadata": {},
     "output_type": "display_data"
    }
   ],
   "source": [
    "Ontol_colors <- read.table(\"Ontol_KO_L2_Color_KEY_whh0_R.txt\", sep='\\t', header=T) \n",
    "CNPS_KO_colors <- merge(KO_ontol_tr, Ontol_colors)\n",
    "head(CNPS_KO_colors)"
   ]
  },
  {
   "cell_type": "markdown",
   "metadata": {
    "collapsed": true
   },
   "source": [
    "### 7) Merge KO ontol w. Bins_KO (Transp)"
   ]
  },
  {
   "cell_type": "code",
   "execution_count": 14,
   "metadata": {},
   "outputs": [
    {
     "data": {
      "text/html": [
       "<table>\n",
       "<thead><tr><th></th><th scope=col>K00007</th><th scope=col>K00012</th><th scope=col>K00023</th><th scope=col>K00035</th><th scope=col>K00055</th><th scope=col>K00128</th><th scope=col>K00132</th><th scope=col>K00192</th><th scope=col>K00193</th><th scope=col>K00194</th><th scope=col>⋯</th><th scope=col>K17224</th><th scope=col>K17225</th><th scope=col>K17226</th><th scope=col>K17743</th><th scope=col>K17818</th><th scope=col>K18334</th><th scope=col>K18335</th><th scope=col>K18336</th><th scope=col>K18676</th><th scope=col>binID</th></tr></thead>\n",
       "<tbody>\n",
       "\t<tr><th scope=row>R2_A_D1_metabat.32</th><td>0                             </td><td>1                             </td><td>0                             </td><td>0                             </td><td>0                             </td><td>0                             </td><td>0                             </td><td>0                             </td><td>0                             </td><td>0                             </td><td>⋯                             </td><td>0                             </td><td>0                             </td><td>0                             </td><td>0                             </td><td>0                             </td><td>0                             </td><td>0                             </td><td>0                             </td><td>0                             </td><td>R2_A_D1_metabat.32            </td></tr>\n",
       "\t<tr><th scope=row>R2_C_D2_concoct.104</th><td>0                             </td><td>1                             </td><td>0                             </td><td>0                             </td><td>0                             </td><td>1                             </td><td>0                             </td><td>0                             </td><td>0                             </td><td>0                             </td><td>⋯                             </td><td>0                             </td><td>0                             </td><td>0                             </td><td>0                             </td><td>0                             </td><td>0                             </td><td>0                             </td><td>0                             </td><td>0                             </td><td>R2_C_D2_concoct.104           </td></tr>\n",
       "\t<tr><th scope=row>R2_B_D2_concoct.80</th><td>0                             </td><td>0                             </td><td>0                             </td><td>0                             </td><td>0                             </td><td>0                             </td><td>0                             </td><td>0                             </td><td>0                             </td><td>0                             </td><td>⋯                             </td><td>0                             </td><td>0                             </td><td>0                             </td><td>0                             </td><td>0                             </td><td>0                             </td><td>0                             </td><td>0                             </td><td>0                             </td><td>R2_B_D2_concoct.80            </td></tr>\n",
       "\t<tr><th scope=row>R2_C_D1_concoct.98</th><td>0                             </td><td>0                             </td><td>0                             </td><td>0                             </td><td>0                             </td><td>1                             </td><td>0                             </td><td>0                             </td><td>0                             </td><td>0                             </td><td>⋯                             </td><td>0                             </td><td>0                             </td><td>0                             </td><td>0                             </td><td>0                             </td><td>0                             </td><td>0                             </td><td>0                             </td><td>0                             </td><td>R2_C_D1_concoct.98            </td></tr>\n",
       "\t<tr><th scope=row>R2_restored_C_black_metabat.22</th><td>0                             </td><td>0                             </td><td>0                             </td><td>0                             </td><td>0                             </td><td>0                             </td><td>0                             </td><td>0                             </td><td>0                             </td><td>0                             </td><td>⋯                             </td><td>0                             </td><td>0                             </td><td>0                             </td><td>0                             </td><td>0                             </td><td>0                             </td><td>0                             </td><td>0                             </td><td>0                             </td><td>R2_restored_C_black_metabat.22</td></tr>\n",
       "\t<tr><th scope=row>R2_A_D1_metabat.24</th><td>0                             </td><td>1                             </td><td>0                             </td><td>0                             </td><td>0                             </td><td>1                             </td><td>0                             </td><td>0                             </td><td>0                             </td><td>0                             </td><td>⋯                             </td><td>0                             </td><td>0                             </td><td>0                             </td><td>0                             </td><td>0                             </td><td>0                             </td><td>0                             </td><td>0                             </td><td>0                             </td><td>R2_A_D1_metabat.24            </td></tr>\n",
       "</tbody>\n",
       "</table>\n"
      ],
      "text/latex": [
       "\\begin{tabular}{r|lllllllllllllllllllllllllllllllllllllllllllllllllllllllllllllllllllllllllllllllllllllllllllllllllllllllllllllllllllllllllllllllllllllllllllllllllllllllllllllllllllllllllllllllllllllllllllllllllllllllllllllllllllllllllllllllllllllllllllllllllllllllllllllllllllllllllllllllllll}\n",
       "  & K00007 & K00012 & K00023 & K00035 & K00055 & K00128 & K00132 & K00192 & K00193 & K00194 & ⋯ & K17224 & K17225 & K17226 & K17743 & K17818 & K18334 & K18335 & K18336 & K18676 & binID\\\\\n",
       "\\hline\n",
       "\tR2\\_A\\_D1\\_metabat.32 & 0                                    & 1                                    & 0                                    & 0                                    & 0                                    & 0                                    & 0                                    & 0                                    & 0                                    & 0                                    & ⋯                                    & 0                                    & 0                                    & 0                                    & 0                                    & 0                                    & 0                                    & 0                                    & 0                                    & 0                                    & R2\\_A\\_D1\\_metabat.32            \\\\\n",
       "\tR2\\_C\\_D2\\_concoct.104 & 0                                    & 1                                    & 0                                    & 0                                    & 0                                    & 1                                    & 0                                    & 0                                    & 0                                    & 0                                    & ⋯                                    & 0                                    & 0                                    & 0                                    & 0                                    & 0                                    & 0                                    & 0                                    & 0                                    & 0                                    & R2\\_C\\_D2\\_concoct.104           \\\\\n",
       "\tR2\\_B\\_D2\\_concoct.80 & 0                                    & 0                                    & 0                                    & 0                                    & 0                                    & 0                                    & 0                                    & 0                                    & 0                                    & 0                                    & ⋯                                    & 0                                    & 0                                    & 0                                    & 0                                    & 0                                    & 0                                    & 0                                    & 0                                    & 0                                    & R2\\_B\\_D2\\_concoct.80            \\\\\n",
       "\tR2\\_C\\_D1\\_concoct.98 & 0                                    & 0                                    & 0                                    & 0                                    & 0                                    & 1                                    & 0                                    & 0                                    & 0                                    & 0                                    & ⋯                                    & 0                                    & 0                                    & 0                                    & 0                                    & 0                                    & 0                                    & 0                                    & 0                                    & 0                                    & R2\\_C\\_D1\\_concoct.98            \\\\\n",
       "\tR2\\_restored\\_C\\_black\\_metabat.22 & 0                                      & 0                                      & 0                                      & 0                                      & 0                                      & 0                                      & 0                                      & 0                                      & 0                                      & 0                                      & ⋯                                      & 0                                      & 0                                      & 0                                      & 0                                      & 0                                      & 0                                      & 0                                      & 0                                      & 0                                      & R2\\_restored\\_C\\_black\\_metabat.22\\\\\n",
       "\tR2\\_A\\_D1\\_metabat.24 & 0                                    & 1                                    & 0                                    & 0                                    & 0                                    & 1                                    & 0                                    & 0                                    & 0                                    & 0                                    & ⋯                                    & 0                                    & 0                                    & 0                                    & 0                                    & 0                                    & 0                                    & 0                                    & 0                                    & 0                                    & R2\\_A\\_D1\\_metabat.24            \\\\\n",
       "\\end{tabular}\n"
      ],
      "text/markdown": [
       "\n",
       "| <!--/--> | K00007 | K00012 | K00023 | K00035 | K00055 | K00128 | K00132 | K00192 | K00193 | K00194 | ⋯ | K17224 | K17225 | K17226 | K17743 | K17818 | K18334 | K18335 | K18336 | K18676 | binID | \n",
       "|---|---|---|---|---|---|\n",
       "| R2_A_D1_metabat.32 | 0                              | 1                              | 0                              | 0                              | 0                              | 0                              | 0                              | 0                              | 0                              | 0                              | ⋯                              | 0                              | 0                              | 0                              | 0                              | 0                              | 0                              | 0                              | 0                              | 0                              | R2_A_D1_metabat.32             | \n",
       "| R2_C_D2_concoct.104 | 0                              | 1                              | 0                              | 0                              | 0                              | 1                              | 0                              | 0                              | 0                              | 0                              | ⋯                              | 0                              | 0                              | 0                              | 0                              | 0                              | 0                              | 0                              | 0                              | 0                              | R2_C_D2_concoct.104            | \n",
       "| R2_B_D2_concoct.80 | 0                              | 0                              | 0                              | 0                              | 0                              | 0                              | 0                              | 0                              | 0                              | 0                              | ⋯                              | 0                              | 0                              | 0                              | 0                              | 0                              | 0                              | 0                              | 0                              | 0                              | R2_B_D2_concoct.80             | \n",
       "| R2_C_D1_concoct.98 | 0                              | 0                              | 0                              | 0                              | 0                              | 1                              | 0                              | 0                              | 0                              | 0                              | ⋯                              | 0                              | 0                              | 0                              | 0                              | 0                              | 0                              | 0                              | 0                              | 0                              | R2_C_D1_concoct.98             | \n",
       "| R2_restored_C_black_metabat.22 | 0                              | 0                              | 0                              | 0                              | 0                              | 0                              | 0                              | 0                              | 0                              | 0                              | ⋯                              | 0                              | 0                              | 0                              | 0                              | 0                              | 0                              | 0                              | 0                              | 0                              | R2_restored_C_black_metabat.22 | \n",
       "| R2_A_D1_metabat.24 | 0                              | 1                              | 0                              | 0                              | 0                              | 1                              | 0                              | 0                              | 0                              | 0                              | ⋯                              | 0                              | 0                              | 0                              | 0                              | 0                              | 0                              | 0                              | 0                              | 0                              | R2_A_D1_metabat.24             | \n",
       "\n",
       "\n"
      ],
      "text/plain": [
       "                               K00007 K00012 K00023 K00035 K00055 K00128 K00132\n",
       "R2_A_D1_metabat.32             0      1      0      0      0      0      0     \n",
       "R2_C_D2_concoct.104            0      1      0      0      0      1      0     \n",
       "R2_B_D2_concoct.80             0      0      0      0      0      0      0     \n",
       "R2_C_D1_concoct.98             0      0      0      0      0      1      0     \n",
       "R2_restored_C_black_metabat.22 0      0      0      0      0      0      0     \n",
       "R2_A_D1_metabat.24             0      1      0      0      0      1      0     \n",
       "                               K00192 K00193 K00194 ⋯ K17224 K17225 K17226\n",
       "R2_A_D1_metabat.32             0      0      0      ⋯ 0      0      0     \n",
       "R2_C_D2_concoct.104            0      0      0      ⋯ 0      0      0     \n",
       "R2_B_D2_concoct.80             0      0      0      ⋯ 0      0      0     \n",
       "R2_C_D1_concoct.98             0      0      0      ⋯ 0      0      0     \n",
       "R2_restored_C_black_metabat.22 0      0      0      ⋯ 0      0      0     \n",
       "R2_A_D1_metabat.24             0      0      0      ⋯ 0      0      0     \n",
       "                               K17743 K17818 K18334 K18335 K18336 K18676\n",
       "R2_A_D1_metabat.32             0      0      0      0      0      0     \n",
       "R2_C_D2_concoct.104            0      0      0      0      0      0     \n",
       "R2_B_D2_concoct.80             0      0      0      0      0      0     \n",
       "R2_C_D1_concoct.98             0      0      0      0      0      0     \n",
       "R2_restored_C_black_metabat.22 0      0      0      0      0      0     \n",
       "R2_A_D1_metabat.24             0      0      0      0      0      0     \n",
       "                               binID                         \n",
       "R2_A_D1_metabat.32             R2_A_D1_metabat.32            \n",
       "R2_C_D2_concoct.104            R2_C_D2_concoct.104           \n",
       "R2_B_D2_concoct.80             R2_B_D2_concoct.80            \n",
       "R2_C_D1_concoct.98             R2_C_D1_concoct.98            \n",
       "R2_restored_C_black_metabat.22 R2_restored_C_black_metabat.22\n",
       "R2_A_D1_metabat.24             R2_A_D1_metabat.24            "
      ]
     },
     "metadata": {},
     "output_type": "display_data"
    }
   ],
   "source": [
    "rownames(bins_KO)<-bins_KO[,'binID']                                      # Make binID rownames before transp.\n",
    "bins_KO <- bins_KO[,-1]                                                   # drop binID col\n",
    "bins_KOt <-data.frame(t(bins_KO))                                         # transp. \n",
    "bins_KOt$KO <- row.names(bins_KOt)                                        # make KO col from rownames  \n",
    "\n",
    "# Get only CNPS KOs from bins KO by merge\n",
    "bins_KOt_CNPS <-merge(bins_KOt, CNPS_KOs)                                 # merge bins_KO, CNPS_KOs\n",
    "# dim(bins_KOt_CNPS); head(bins_KOt_CNPS)  \n",
    "\n",
    "# Retransp, after rownames & drop KO\n",
    "rownames(bins_KOt_CNPS) <-bins_KOt_CNPS[,\"KO\"]                            # Set KO as rownames before retransp.  \n",
    "bins_KOt_CNPS <- bins_KOt_CNPS[,-1]                                       # drop KO as col\n",
    "bins_KO_CNPS <- t(bins_KOt_CNPS)                                          # retranspose \n",
    "bins_KO_CNPS <-data.frame(bins_KO_CNPS)                                   # make DF\n",
    "bins_KO_CNPS['binID'] <-row.names(bins_KO_CNPS)                           # binID col from row.names \n",
    "head(bins_KO_CNPS)"
   ]
  },
  {
   "cell_type": "markdown",
   "metadata": {},
   "source": [
    "## B) Bin correlations with CH4"
   ]
  },
  {
   "cell_type": "code",
   "execution_count": 15,
   "metadata": {},
   "outputs": [
    {
     "data": {
      "text/html": [
       "<ol class=list-inline>\n",
       "\t<li>271</li>\n",
       "\t<li>4</li>\n",
       "</ol>\n"
      ],
      "text/latex": [
       "\\begin{enumerate*}\n",
       "\\item 271\n",
       "\\item 4\n",
       "\\end{enumerate*}\n"
      ],
      "text/markdown": [
       "1. 271\n",
       "2. 4\n",
       "\n",
       "\n"
      ],
      "text/plain": [
       "[1] 271   4"
      ]
     },
     "metadata": {},
     "output_type": "display_data"
    },
    {
     "data": {
      "text/html": [
       "<table>\n",
       "<thead><tr><th></th><th scope=col>r_CH4</th><th scope=col>P</th><th scope=col>FDR</th><th scope=col>abs_r</th></tr></thead>\n",
       "<tbody>\n",
       "\t<tr><th scope=row>SF2_A_D1_concoct.23</th><td>-0.6974741  </td><td>1.517097e-04</td><td>0.0002885277</td><td>0.6974741   </td></tr>\n",
       "\t<tr><th scope=row>SF2_A_D2_concoct.11</th><td>-0.7253730  </td><td>6.053882e-05</td><td>0.0001350146</td><td>0.7253730   </td></tr>\n",
       "\t<tr><th scope=row>SF2_A_D2_concoct.13</th><td>-0.6399325  </td><td>7.581638e-04</td><td>0.0011299557</td><td>0.6399325   </td></tr>\n",
       "\t<tr><th scope=row>SF2_A_D2_concoct.28</th><td>-0.6678314  </td><td>3.626304e-04</td><td>0.0006142920</td><td>0.6678314   </td></tr>\n",
       "\t<tr><th scope=row>SF2_A_D2_concoct.33</th><td>-0.7619904  </td><td>1.514085e-05</td><td>0.0000460163</td><td>0.7619904   </td></tr>\n",
       "\t<tr><th scope=row>SF2_A_D2_concoct.55</th><td>-0.7044488  </td><td>1.217505e-04</td><td>0.0002419401</td><td>0.7044488   </td></tr>\n",
       "</tbody>\n",
       "</table>\n"
      ],
      "text/latex": [
       "\\begin{tabular}{r|llll}\n",
       "  & r\\_CH4 & P & FDR & abs\\_r\\\\\n",
       "\\hline\n",
       "\tSF2\\_A\\_D1\\_concoct.23 & -0.6974741   & 1.517097e-04 & 0.0002885277 & 0.6974741   \\\\\n",
       "\tSF2\\_A\\_D2\\_concoct.11 & -0.7253730   & 6.053882e-05 & 0.0001350146 & 0.7253730   \\\\\n",
       "\tSF2\\_A\\_D2\\_concoct.13 & -0.6399325   & 7.581638e-04 & 0.0011299557 & 0.6399325   \\\\\n",
       "\tSF2\\_A\\_D2\\_concoct.28 & -0.6678314   & 3.626304e-04 & 0.0006142920 & 0.6678314   \\\\\n",
       "\tSF2\\_A\\_D2\\_concoct.33 & -0.7619904   & 1.514085e-05 & 0.0000460163 & 0.7619904   \\\\\n",
       "\tSF2\\_A\\_D2\\_concoct.55 & -0.7044488   & 1.217505e-04 & 0.0002419401 & 0.7044488   \\\\\n",
       "\\end{tabular}\n"
      ],
      "text/markdown": [
       "\n",
       "| <!--/--> | r_CH4 | P | FDR | abs_r | \n",
       "|---|---|---|---|---|---|\n",
       "| SF2_A_D1_concoct.23 | -0.6974741   | 1.517097e-04 | 0.0002885277 | 0.6974741    | \n",
       "| SF2_A_D2_concoct.11 | -0.7253730   | 6.053882e-05 | 0.0001350146 | 0.7253730    | \n",
       "| SF2_A_D2_concoct.13 | -0.6399325   | 7.581638e-04 | 0.0011299557 | 0.6399325    | \n",
       "| SF2_A_D2_concoct.28 | -0.6678314   | 3.626304e-04 | 0.0006142920 | 0.6678314    | \n",
       "| SF2_A_D2_concoct.33 | -0.7619904   | 1.514085e-05 | 0.0000460163 | 0.7619904    | \n",
       "| SF2_A_D2_concoct.55 | -0.7044488   | 1.217505e-04 | 0.0002419401 | 0.7044488    | \n",
       "\n",
       "\n"
      ],
      "text/plain": [
       "                    r_CH4      P            FDR          abs_r    \n",
       "SF2_A_D1_concoct.23 -0.6974741 1.517097e-04 0.0002885277 0.6974741\n",
       "SF2_A_D2_concoct.11 -0.7253730 6.053882e-05 0.0001350146 0.7253730\n",
       "SF2_A_D2_concoct.13 -0.6399325 7.581638e-04 0.0011299557 0.6399325\n",
       "SF2_A_D2_concoct.28 -0.6678314 3.626304e-04 0.0006142920 0.6678314\n",
       "SF2_A_D2_concoct.33 -0.7619904 1.514085e-05 0.0000460163 0.7619904\n",
       "SF2_A_D2_concoct.55 -0.7044488 1.217505e-04 0.0002419401 0.7044488"
      ]
     },
     "metadata": {},
     "output_type": "display_data"
    }
   ],
   "source": [
    "# Starting from cleaned input data: CH4_bin_abundT            # head(CH4_bin_abundT) \n",
    "\n",
    "# Calculate correlations, significance\n",
    "CH4_bin_corrObj <-rcorr(CH4_bin_abundT, type=\"spearman\")      # Get corr matrix data from rcorr\n",
    "CH4_bin_corrV <- data.frame(CH4_bin_corrObj$r[,1])            # Get corr r values for CH4, as DF\n",
    "colnames(CH4_bin_corrV)[1] <- \"r_CH4\"                         # rename column \n",
    "CH4_bin_corrV[\"P\"] <- CH4_bin_corrObj$P[,1]                   # Add P value \n",
    "CH4_bin_corrV <-CH4_bin_corrV[-1,]                            # Drop first row, was CH4 vs. CH4\n",
    "\n",
    "# Get FDR and drop NS rows\n",
    "CH4_bin_corrV['FDR'] <-p.adjust(CH4_bin_corrV$P, method='BH') # correct P-values using BH\n",
    "CH4_bin_corrV <- CH4_bin_corrV[CH4_bin_corrV$FDR < 0.05, ]    # Drop NS FDRs  \n",
    "\n",
    "# Get abs(r)\n",
    "CH4_bin_corrV[\"abs_r\"] <- abs(CH4_bin_corrV[\"r_CH4\"])\n",
    "dim(CH4_bin_corrV); head(CH4_bin_corrV) "
   ]
  },
  {
   "cell_type": "markdown",
   "metadata": {
    "collapsed": true
   },
   "source": [
    "# @@@ Impose CORR Cut-off abs (r >) @@@"
   ]
  },
  {
   "cell_type": "code",
   "execution_count": 16,
   "metadata": {},
   "outputs": [
    {
     "data": {
      "text/html": [
       "<ol class=list-inline>\n",
       "\t<li>231</li>\n",
       "\t<li>4</li>\n",
       "</ol>\n"
      ],
      "text/latex": [
       "\\begin{enumerate*}\n",
       "\\item 231\n",
       "\\item 4\n",
       "\\end{enumerate*}\n"
      ],
      "text/markdown": [
       "1. 231\n",
       "2. 4\n",
       "\n",
       "\n"
      ],
      "text/plain": [
       "[1] 231   4"
      ]
     },
     "metadata": {},
     "output_type": "display_data"
    },
    {
     "data": {
      "text/html": [
       "<table>\n",
       "<thead><tr><th></th><th scope=col>r_CH4</th><th scope=col>P</th><th scope=col>FDR</th><th scope=col>abs_r</th></tr></thead>\n",
       "<tbody>\n",
       "\t<tr><th scope=row>SF2_A_D1_concoct.23</th><td>-0.6974741  </td><td>1.517097e-04</td><td>0.0002885277</td><td>0.6974741   </td></tr>\n",
       "\t<tr><th scope=row>SF2_A_D2_concoct.11</th><td>-0.7253730  </td><td>6.053882e-05</td><td>0.0001350146</td><td>0.7253730   </td></tr>\n",
       "\t<tr><th scope=row>SF2_A_D2_concoct.13</th><td>-0.6399325  </td><td>7.581638e-04</td><td>0.0011299557</td><td>0.6399325   </td></tr>\n",
       "\t<tr><th scope=row>SF2_A_D2_concoct.28</th><td>-0.6678314  </td><td>3.626304e-04</td><td>0.0006142920</td><td>0.6678314   </td></tr>\n",
       "\t<tr><th scope=row>SF2_A_D2_concoct.33</th><td>-0.7619904  </td><td>1.514085e-05</td><td>0.0000460163</td><td>0.7619904   </td></tr>\n",
       "\t<tr><th scope=row>SF2_A_D2_concoct.55</th><td>-0.7044488  </td><td>1.217505e-04</td><td>0.0002419401</td><td>0.7044488   </td></tr>\n",
       "</tbody>\n",
       "</table>\n"
      ],
      "text/latex": [
       "\\begin{tabular}{r|llll}\n",
       "  & r\\_CH4 & P & FDR & abs\\_r\\\\\n",
       "\\hline\n",
       "\tSF2\\_A\\_D1\\_concoct.23 & -0.6974741   & 1.517097e-04 & 0.0002885277 & 0.6974741   \\\\\n",
       "\tSF2\\_A\\_D2\\_concoct.11 & -0.7253730   & 6.053882e-05 & 0.0001350146 & 0.7253730   \\\\\n",
       "\tSF2\\_A\\_D2\\_concoct.13 & -0.6399325   & 7.581638e-04 & 0.0011299557 & 0.6399325   \\\\\n",
       "\tSF2\\_A\\_D2\\_concoct.28 & -0.6678314   & 3.626304e-04 & 0.0006142920 & 0.6678314   \\\\\n",
       "\tSF2\\_A\\_D2\\_concoct.33 & -0.7619904   & 1.514085e-05 & 0.0000460163 & 0.7619904   \\\\\n",
       "\tSF2\\_A\\_D2\\_concoct.55 & -0.7044488   & 1.217505e-04 & 0.0002419401 & 0.7044488   \\\\\n",
       "\\end{tabular}\n"
      ],
      "text/markdown": [
       "\n",
       "| <!--/--> | r_CH4 | P | FDR | abs_r | \n",
       "|---|---|---|---|---|---|\n",
       "| SF2_A_D1_concoct.23 | -0.6974741   | 1.517097e-04 | 0.0002885277 | 0.6974741    | \n",
       "| SF2_A_D2_concoct.11 | -0.7253730   | 6.053882e-05 | 0.0001350146 | 0.7253730    | \n",
       "| SF2_A_D2_concoct.13 | -0.6399325   | 7.581638e-04 | 0.0011299557 | 0.6399325    | \n",
       "| SF2_A_D2_concoct.28 | -0.6678314   | 3.626304e-04 | 0.0006142920 | 0.6678314    | \n",
       "| SF2_A_D2_concoct.33 | -0.7619904   | 1.514085e-05 | 0.0000460163 | 0.7619904    | \n",
       "| SF2_A_D2_concoct.55 | -0.7044488   | 1.217505e-04 | 0.0002419401 | 0.7044488    | \n",
       "\n",
       "\n"
      ],
      "text/plain": [
       "                    r_CH4      P            FDR          abs_r    \n",
       "SF2_A_D1_concoct.23 -0.6974741 1.517097e-04 0.0002885277 0.6974741\n",
       "SF2_A_D2_concoct.11 -0.7253730 6.053882e-05 0.0001350146 0.7253730\n",
       "SF2_A_D2_concoct.13 -0.6399325 7.581638e-04 0.0011299557 0.6399325\n",
       "SF2_A_D2_concoct.28 -0.6678314 3.626304e-04 0.0006142920 0.6678314\n",
       "SF2_A_D2_concoct.33 -0.7619904 1.514085e-05 0.0000460163 0.7619904\n",
       "SF2_A_D2_concoct.55 -0.7044488 1.217505e-04 0.0002419401 0.7044488"
      ]
     },
     "metadata": {},
     "output_type": "display_data"
    }
   ],
   "source": [
    "corr_cut = 0.6                                             # set cutoff, to be added to function\n",
    "\n",
    "CH4_bin_corrX <- CH4_bin_corrV[CH4_bin_corrV$abs_r > corr_cut, ] # CUT_off corr DF\n",
    "dim(CH4_bin_corrX); head(CH4_bin_corrX)"
   ]
  },
  {
   "cell_type": "code",
   "execution_count": 17,
   "metadata": {},
   "outputs": [
    {
     "data": {
      "text/html": [
       "<ol class=list-inline>\n",
       "\t<li>231</li>\n",
       "\t<li>2</li>\n",
       "</ol>\n"
      ],
      "text/latex": [
       "\\begin{enumerate*}\n",
       "\\item 231\n",
       "\\item 2\n",
       "\\end{enumerate*}\n"
      ],
      "text/markdown": [
       "1. 231\n",
       "2. 2\n",
       "\n",
       "\n"
      ],
      "text/plain": [
       "[1] 231   2"
      ]
     },
     "metadata": {},
     "output_type": "display_data"
    }
   ],
   "source": [
    "# Recode bins correlation as (+ / -), get Bins, corr DF\n",
    "CH4_bin_corrX['CH4_corr'] <- ifelse(CH4_bin_corrX[,\"r_CH4\"] > 0, \"pos\", \"neg\")  #  recode corr by ifelse\n",
    "CH4_corr_bins <- CH4_bin_corrX[\"CH4_corr\"]                                      #  get CH4_corr / bin\n",
    "CH4_corr_bins['binID'] <- row.names(CH4_bin_corrX)                              #  add binIDs to DF\n",
    "dim(CH4_corr_bins) # CH4_corr_bins\n",
    "\n",
    "#<- data.frame(binID = row.names(CH4_bin_corrX))\n",
    "#CH4_corr_bins[\"CH4_corr\"] <- CH4_bin_corrX[\"CH4_corr\"]"
   ]
  },
  {
   "cell_type": "markdown",
   "metadata": {},
   "source": [
    "# C) Merge bin corrs with bin KO data"
   ]
  },
  {
   "cell_type": "code",
   "execution_count": 18,
   "metadata": {},
   "outputs": [
    {
     "data": {
      "text/html": [
       "<ol class=list-inline>\n",
       "\t<li>231</li>\n",
       "\t<li>276</li>\n",
       "</ol>\n"
      ],
      "text/latex": [
       "\\begin{enumerate*}\n",
       "\\item 231\n",
       "\\item 276\n",
       "\\end{enumerate*}\n"
      ],
      "text/markdown": [
       "1. 231\n",
       "2. 276\n",
       "\n",
       "\n"
      ],
      "text/plain": [
       "[1] 231 276"
      ]
     },
     "metadata": {},
     "output_type": "display_data"
    },
    {
     "data": {
      "text/html": [
       "<table>\n",
       "<thead><tr><th scope=col>binID</th><th scope=col>CH4_corr</th><th scope=col>K00007</th><th scope=col>K00012</th><th scope=col>K00023</th><th scope=col>K00035</th><th scope=col>K00055</th><th scope=col>K00128</th><th scope=col>K00132</th><th scope=col>K00192</th><th scope=col>⋯</th><th scope=col>K17223</th><th scope=col>K17224</th><th scope=col>K17225</th><th scope=col>K17226</th><th scope=col>K17743</th><th scope=col>K17818</th><th scope=col>K18334</th><th scope=col>K18335</th><th scope=col>K18336</th><th scope=col>K18676</th></tr></thead>\n",
       "<tbody>\n",
       "\t<tr><td>R1_A_D1_concoct.9 </td><td>pos               </td><td>0                 </td><td>0                 </td><td>0                 </td><td>0                 </td><td>0                 </td><td>0                 </td><td>0                 </td><td>0                 </td><td>⋯                 </td><td>0                 </td><td>0                 </td><td>0                 </td><td>0                 </td><td>0                 </td><td>0                 </td><td>0                 </td><td>0                 </td><td>0                 </td><td>0                 </td></tr>\n",
       "\t<tr><td>R1_A_D1_metabat.15</td><td>pos               </td><td>0                 </td><td>1                 </td><td>0                 </td><td>0                 </td><td>0                 </td><td>3                 </td><td>0                 </td><td>0                 </td><td>⋯                 </td><td>0                 </td><td>0                 </td><td>0                 </td><td>0                 </td><td>0                 </td><td>0                 </td><td>0                 </td><td>0                 </td><td>0                 </td><td>0                 </td></tr>\n",
       "\t<tr><td>R1_A_D1_metabat.18</td><td>pos               </td><td>0                 </td><td>1                 </td><td>0                 </td><td>0                 </td><td>0                 </td><td>3                 </td><td>0                 </td><td>0                 </td><td>⋯                 </td><td>0                 </td><td>0                 </td><td>0                 </td><td>0                 </td><td>0                 </td><td>0                 </td><td>0                 </td><td>0                 </td><td>0                 </td><td>0                 </td></tr>\n",
       "\t<tr><td>R1_A_D1_metabat.47</td><td>pos               </td><td>0                 </td><td>1                 </td><td>0                 </td><td>0                 </td><td>0                 </td><td>0                 </td><td>0                 </td><td>0                 </td><td>⋯                 </td><td>0                 </td><td>0                 </td><td>0                 </td><td>0                 </td><td>0                 </td><td>0                 </td><td>0                 </td><td>0                 </td><td>0                 </td><td>0                 </td></tr>\n",
       "\t<tr><td>R1_A_D1_metabat.51</td><td>pos               </td><td>0                 </td><td>1                 </td><td>0                 </td><td>0                 </td><td>0                 </td><td>0                 </td><td>0                 </td><td>0                 </td><td>⋯                 </td><td>0                 </td><td>0                 </td><td>0                 </td><td>0                 </td><td>0                 </td><td>0                 </td><td>0                 </td><td>0                 </td><td>0                 </td><td>0                 </td></tr>\n",
       "\t<tr><td>R1_A_D1_metabat.6 </td><td>pos               </td><td>0                 </td><td>1                 </td><td>0                 </td><td>0                 </td><td>0                 </td><td>3                 </td><td>0                 </td><td>0                 </td><td>⋯                 </td><td>0                 </td><td>0                 </td><td>0                 </td><td>0                 </td><td>0                 </td><td>0                 </td><td>0                 </td><td>0                 </td><td>0                 </td><td>0                 </td></tr>\n",
       "</tbody>\n",
       "</table>\n"
      ],
      "text/latex": [
       "\\begin{tabular}{r|llllllllllllllllllllllllllllllllllllllllllllllllllllllllllllllllllllllllllllllllllllllllllllllllllllllllllllllllllllllllllllllllllllllllllllllllllllllllllllllllllllllllllllllllllllllllllllllllllllllllllllllllllllllllllllllllllllllllllllllllllllllllllllllllllllllllllllllllllll}\n",
       " binID & CH4\\_corr & K00007 & K00012 & K00023 & K00035 & K00055 & K00128 & K00132 & K00192 & ⋯ & K17223 & K17224 & K17225 & K17226 & K17743 & K17818 & K18334 & K18335 & K18336 & K18676\\\\\n",
       "\\hline\n",
       "\t R1\\_A\\_D1\\_concoct.9  & pos                      & 0                        & 0                        & 0                        & 0                        & 0                        & 0                        & 0                        & 0                        & ⋯                        & 0                        & 0                        & 0                        & 0                        & 0                        & 0                        & 0                        & 0                        & 0                        & 0                       \\\\\n",
       "\t R1\\_A\\_D1\\_metabat.15 & pos                      & 0                        & 1                        & 0                        & 0                        & 0                        & 3                        & 0                        & 0                        & ⋯                        & 0                        & 0                        & 0                        & 0                        & 0                        & 0                        & 0                        & 0                        & 0                        & 0                       \\\\\n",
       "\t R1\\_A\\_D1\\_metabat.18 & pos                      & 0                        & 1                        & 0                        & 0                        & 0                        & 3                        & 0                        & 0                        & ⋯                        & 0                        & 0                        & 0                        & 0                        & 0                        & 0                        & 0                        & 0                        & 0                        & 0                       \\\\\n",
       "\t R1\\_A\\_D1\\_metabat.47 & pos                      & 0                        & 1                        & 0                        & 0                        & 0                        & 0                        & 0                        & 0                        & ⋯                        & 0                        & 0                        & 0                        & 0                        & 0                        & 0                        & 0                        & 0                        & 0                        & 0                       \\\\\n",
       "\t R1\\_A\\_D1\\_metabat.51 & pos                      & 0                        & 1                        & 0                        & 0                        & 0                        & 0                        & 0                        & 0                        & ⋯                        & 0                        & 0                        & 0                        & 0                        & 0                        & 0                        & 0                        & 0                        & 0                        & 0                       \\\\\n",
       "\t R1\\_A\\_D1\\_metabat.6  & pos                      & 0                        & 1                        & 0                        & 0                        & 0                        & 3                        & 0                        & 0                        & ⋯                        & 0                        & 0                        & 0                        & 0                        & 0                        & 0                        & 0                        & 0                        & 0                        & 0                       \\\\\n",
       "\\end{tabular}\n"
      ],
      "text/markdown": [
       "\n",
       "binID | CH4_corr | K00007 | K00012 | K00023 | K00035 | K00055 | K00128 | K00132 | K00192 | ⋯ | K17223 | K17224 | K17225 | K17226 | K17743 | K17818 | K18334 | K18335 | K18336 | K18676 | \n",
       "|---|---|---|---|---|---|\n",
       "| R1_A_D1_concoct.9  | pos                | 0                  | 0                  | 0                  | 0                  | 0                  | 0                  | 0                  | 0                  | ⋯                  | 0                  | 0                  | 0                  | 0                  | 0                  | 0                  | 0                  | 0                  | 0                  | 0                  | \n",
       "| R1_A_D1_metabat.15 | pos                | 0                  | 1                  | 0                  | 0                  | 0                  | 3                  | 0                  | 0                  | ⋯                  | 0                  | 0                  | 0                  | 0                  | 0                  | 0                  | 0                  | 0                  | 0                  | 0                  | \n",
       "| R1_A_D1_metabat.18 | pos                | 0                  | 1                  | 0                  | 0                  | 0                  | 3                  | 0                  | 0                  | ⋯                  | 0                  | 0                  | 0                  | 0                  | 0                  | 0                  | 0                  | 0                  | 0                  | 0                  | \n",
       "| R1_A_D1_metabat.47 | pos                | 0                  | 1                  | 0                  | 0                  | 0                  | 0                  | 0                  | 0                  | ⋯                  | 0                  | 0                  | 0                  | 0                  | 0                  | 0                  | 0                  | 0                  | 0                  | 0                  | \n",
       "| R1_A_D1_metabat.51 | pos                | 0                  | 1                  | 0                  | 0                  | 0                  | 0                  | 0                  | 0                  | ⋯                  | 0                  | 0                  | 0                  | 0                  | 0                  | 0                  | 0                  | 0                  | 0                  | 0                  | \n",
       "| R1_A_D1_metabat.6  | pos                | 0                  | 1                  | 0                  | 0                  | 0                  | 3                  | 0                  | 0                  | ⋯                  | 0                  | 0                  | 0                  | 0                  | 0                  | 0                  | 0                  | 0                  | 0                  | 0                  | \n",
       "\n",
       "\n"
      ],
      "text/plain": [
       "  binID              CH4_corr K00007 K00012 K00023 K00035 K00055 K00128 K00132\n",
       "1 R1_A_D1_concoct.9  pos      0      0      0      0      0      0      0     \n",
       "2 R1_A_D1_metabat.15 pos      0      1      0      0      0      3      0     \n",
       "3 R1_A_D1_metabat.18 pos      0      1      0      0      0      3      0     \n",
       "4 R1_A_D1_metabat.47 pos      0      1      0      0      0      0      0     \n",
       "5 R1_A_D1_metabat.51 pos      0      1      0      0      0      0      0     \n",
       "6 R1_A_D1_metabat.6  pos      0      1      0      0      0      3      0     \n",
       "  K00192 ⋯ K17223 K17224 K17225 K17226 K17743 K17818 K18334 K18335 K18336\n",
       "1 0      ⋯ 0      0      0      0      0      0      0      0      0     \n",
       "2 0      ⋯ 0      0      0      0      0      0      0      0      0     \n",
       "3 0      ⋯ 0      0      0      0      0      0      0      0      0     \n",
       "4 0      ⋯ 0      0      0      0      0      0      0      0      0     \n",
       "5 0      ⋯ 0      0      0      0      0      0      0      0      0     \n",
       "6 0      ⋯ 0      0      0      0      0      0      0      0      0     \n",
       "  K18676\n",
       "1 0     \n",
       "2 0     \n",
       "3 0     \n",
       "4 0     \n",
       "5 0     \n",
       "6 0     "
      ]
     },
     "metadata": {},
     "output_type": "display_data"
    }
   ],
   "source": [
    "CH4_corr_binKO <- merge(CH4_corr_bins, bins_KO_CNPS) #, all.x=TRUE)\n",
    "dim(CH4_corr_binKO); head(CH4_corr_binKO)"
   ]
  },
  {
   "cell_type": "markdown",
   "metadata": {},
   "source": [
    "# D) perform SDA for KOs with (+/-) corr\n",
    "- here SDA is shrinkage discriminant analysis"
   ]
  },
  {
   "cell_type": "code",
   "execution_count": 19,
   "metadata": {
    "collapsed": true
   },
   "outputs": [],
   "source": [
    "# Split data for SDA\n",
    "CH4_corr <- factor(CH4_corr_binKO[,\"CH4_corr\"])                               # needs to be factor\n",
    "KO_counts <- data.matrix(CH4_corr_binKO[,3:ncol(CH4_corr_binKO)])             # needs to be data matrix      # KO_counts"
   ]
  },
  {
   "cell_type": "code",
   "execution_count": 20,
   "metadata": {},
   "outputs": [
    {
     "name": "stdout",
     "output_type": "stream",
     "text": [
      "Computing cat scores (centroid vs. pooled mean) for feature ranking\n",
      "\n",
      "Number of variables: 274 \n",
      "Number of observations: 231 \n",
      "Number of classes: 2 \n",
      "\n",
      "Estimating optimal shrinkage intensity lambda.freq (frequencies): 1 \n",
      "Estimating variances (pooled across classes)\n",
      "Estimating optimal shrinkage intensity lambda.var (variance vector): 0.0464 \n",
      "\n",
      "Computing the square root of the inverse pooled correlation matrix\n"
     ]
    },
    {
     "name": "stderr",
     "output_type": "stream",
     "text": [
      "Warning message:\n",
      "“4 instances of variables with zero scale detected!”Warning message:\n",
      "“4 instances of variables with zero scale detected!”"
     ]
    },
    {
     "name": "stdout",
     "output_type": "stream",
     "text": [
      "Estimating optimal shrinkage intensity lambda (correlation matrix): 0.5895 \n",
      "\n",
      "Computing false discovery rates and higher cricitism scores for each feature\n"
     ]
    }
   ],
   "source": [
    "# Perform SDA, collect data \n",
    "CH4_corr_KOsda <- sda.ranking(KO_counts, CH4_corr, diagonal=F, ranking.score=\"entropy\")            # get SDA ranking with cat t-scores\n",
    "CH4_corr_KOsda <- CH4_corr_KOsda[1:nrow(CH4_corr_KOsda),]                                       # needed for class -> DF\n",
    "CH4_corr_KOsda <- data.frame(CH4_corr_KOsda)                                  # make DF\n",
    "CH4_corr_KOsda['abs_t_pos'] <- abs(CH4_corr_KOsda['cat.pos'])                 # get abs. val of t scores\n",
    "CH4_corr_KOsda_X <- CH4_corr_KOsda[CH4_corr_KOsda['abs_t_pos'] > 2.5, ]         # Get cat t-scores > 2      \n",
    "CH4_corr_KOsda_X['KO'] <- row.names(CH4_corr_KOsda_X)                         # Get KOs from rownames\n",
    "# CH4_corr_KOsda_X"
   ]
  },
  {
   "cell_type": "code",
   "execution_count": 21,
   "metadata": {},
   "outputs": [
    {
     "data": {
      "text/html": [
       "<table>\n",
       "<thead><tr><th></th><th scope=col>KO</th><th scope=col>abs_t_pos</th><th scope=col>cat.pos</th><th scope=col>mid_name</th><th scope=col>sm_name</th><th scope=col>color</th><th scope=col>L2</th><th scope=col>L2_order</th><th scope=col>L2a</th></tr></thead>\n",
       "<tbody>\n",
       "\t<tr><th scope=row>21</th><td>K02636                                    </td><td>5.771103                                  </td><td>-5.771103                                 </td><td>K02636 H2_prod ( petC ) cytochrome b6-f co</td><td>K02636 H2_prod petC                       </td><td>#fe9829                                   </td><td>H2_production                             </td><td>25                                        </td><td>H2_production                             </td></tr>\n",
       "\t<tr><th scope=row>2</th><td>K00355                                    </td><td>4.229126                                  </td><td> 4.229126                                 </td><td>K00355 H2_prod ( NQO1 ) NAD(P)H dehydrogen</td><td>K00355 H2_prod NQO1                       </td><td>#fe9829                                   </td><td>H2_production                             </td><td>25                                        </td><td>H2_production                             </td></tr>\n",
       "\t<tr><th scope=row>32</th><td>K06193                                    </td><td>3.924776                                  </td><td>-3.924776                                 </td><td>K06193 P_Phn ( phnA ) phosphonoacetate h  </td><td>K06193 P_Phn phnA                         </td><td>#34434f                                   </td><td>CH3-phosphonate                           </td><td>14                                        </td><td>CH3-phosphonate                           </td></tr>\n",
       "\t<tr><th scope=row>8</th><td>K00925                                    </td><td>3.609515                                  </td><td> 3.609515                                 </td><td>K00925 CH4_acetat ( ackA ) acetate kinase </td><td>K00925 CH4_acetat ackA                    </td><td>#7e7e7e                                   </td><td>CH4_acetate                               </td><td>20                                        </td><td>CH4_acetate                               </td></tr>\n",
       "\t<tr><th scope=row>20</th><td>K02042                                    </td><td>3.518195                                  </td><td> 3.518195                                 </td><td>K02042 P_Phn ( phnE ) phosphonate transp  </td><td>K02042 P_Phn phnE                         </td><td>#35556c                                   </td><td>Phn_transport                             </td><td>13                                        </td><td>Phn_transport                             </td></tr>\n",
       "\t<tr><th scope=row>10</th><td>K01077                                    </td><td>3.495171                                  </td><td> 3.495171                                 </td><td>K01077 P_P-ase ( phoA ) alkaline phosphata</td><td>K01077 P_P-ase phoA                       </td><td>#356587                                   </td><td>Phosphatases                              </td><td>12                                        </td><td>Phosphatases                              </td></tr>\n",
       "</tbody>\n",
       "</table>\n"
      ],
      "text/latex": [
       "\\begin{tabular}{r|lllllllll}\n",
       "  & KO & abs\\_t\\_pos & cat.pos & mid\\_name & sm\\_name & color & L2 & L2\\_order & L2a\\\\\n",
       "\\hline\n",
       "\t21 & K02636                                       & 5.771103                                     & -5.771103                                    & K02636 H2\\_prod ( petC ) cytochrome b6-f co & K02636 H2\\_prod petC                        & \\#fe9829                                    & H2\\_production                              & 25                                           & H2\\_production                             \\\\\n",
       "\t2 & K00355                                       & 4.229126                                     &  4.229126                                    & K00355 H2\\_prod ( NQO1 ) NAD(P)H dehydrogen & K00355 H2\\_prod NQO1                        & \\#fe9829                                    & H2\\_production                              & 25                                           & H2\\_production                             \\\\\n",
       "\t32 & K06193                                       & 3.924776                                     & -3.924776                                    & K06193 P\\_Phn ( phnA ) phosphonoacetate h   & K06193 P\\_Phn phnA                          & \\#34434f                                    & CH3-phosphonate                              & 14                                           & CH3-phosphonate                             \\\\\n",
       "\t8 & K00925                                       & 3.609515                                     &  3.609515                                    & K00925 CH4\\_acetat ( ackA ) acetate kinase  & K00925 CH4\\_acetat ackA                     & \\#7e7e7e                                    & CH4\\_acetate                                & 20                                           & CH4\\_acetate                               \\\\\n",
       "\t20 & K02042                                       & 3.518195                                     &  3.518195                                    & K02042 P\\_Phn ( phnE ) phosphonate transp   & K02042 P\\_Phn phnE                          & \\#35556c                                    & Phn\\_transport                              & 13                                           & Phn\\_transport                             \\\\\n",
       "\t10 & K01077                                       & 3.495171                                     &  3.495171                                    & K01077 P\\_P-ase ( phoA ) alkaline phosphata & K01077 P\\_P-ase phoA                        & \\#356587                                    & Phosphatases                                 & 12                                           & Phosphatases                                \\\\\n",
       "\\end{tabular}\n"
      ],
      "text/markdown": [
       "\n",
       "| <!--/--> | KO | abs_t_pos | cat.pos | mid_name | sm_name | color | L2 | L2_order | L2a | \n",
       "|---|---|---|---|---|---|\n",
       "| 21 | K02636                                     | 5.771103                                   | -5.771103                                  | K02636 H2_prod ( petC ) cytochrome b6-f co | K02636 H2_prod petC                        | #fe9829                                    | H2_production                              | 25                                         | H2_production                              | \n",
       "| 2 | K00355                                     | 4.229126                                   |  4.229126                                  | K00355 H2_prod ( NQO1 ) NAD(P)H dehydrogen | K00355 H2_prod NQO1                        | #fe9829                                    | H2_production                              | 25                                         | H2_production                              | \n",
       "| 32 | K06193                                     | 3.924776                                   | -3.924776                                  | K06193 P_Phn ( phnA ) phosphonoacetate h   | K06193 P_Phn phnA                          | #34434f                                    | CH3-phosphonate                            | 14                                         | CH3-phosphonate                            | \n",
       "| 8 | K00925                                     | 3.609515                                   |  3.609515                                  | K00925 CH4_acetat ( ackA ) acetate kinase  | K00925 CH4_acetat ackA                     | #7e7e7e                                    | CH4_acetate                                | 20                                         | CH4_acetate                                | \n",
       "| 20 | K02042                                     | 3.518195                                   |  3.518195                                  | K02042 P_Phn ( phnE ) phosphonate transp   | K02042 P_Phn phnE                          | #35556c                                    | Phn_transport                              | 13                                         | Phn_transport                              | \n",
       "| 10 | K01077                                     | 3.495171                                   |  3.495171                                  | K01077 P_P-ase ( phoA ) alkaline phosphata | K01077 P_P-ase phoA                        | #356587                                    | Phosphatases                               | 12                                         | Phosphatases                               | \n",
       "\n",
       "\n"
      ],
      "text/plain": [
       "   KO     abs_t_pos cat.pos   mid_name                                  \n",
       "21 K02636 5.771103  -5.771103 K02636 H2_prod ( petC ) cytochrome b6-f co\n",
       "2  K00355 4.229126   4.229126 K00355 H2_prod ( NQO1 ) NAD(P)H dehydrogen\n",
       "32 K06193 3.924776  -3.924776 K06193 P_Phn ( phnA ) phosphonoacetate h  \n",
       "8  K00925 3.609515   3.609515 K00925 CH4_acetat ( ackA ) acetate kinase \n",
       "20 K02042 3.518195   3.518195 K02042 P_Phn ( phnE ) phosphonate transp  \n",
       "10 K01077 3.495171   3.495171 K01077 P_P-ase ( phoA ) alkaline phosphata\n",
       "   sm_name                color   L2              L2_order L2a            \n",
       "21 K02636 H2_prod petC    #fe9829 H2_production   25       H2_production  \n",
       "2  K00355 H2_prod NQO1    #fe9829 H2_production   25       H2_production  \n",
       "32 K06193 P_Phn phnA      #34434f CH3-phosphonate 14       CH3-phosphonate\n",
       "8  K00925 CH4_acetat ackA #7e7e7e CH4_acetate     20       CH4_acetate    \n",
       "20 K02042 P_Phn phnE      #35556c Phn_transport   13       Phn_transport  \n",
       "10 K01077 P_P-ase phoA    #356587 Phosphatases    12       Phosphatases   "
      ]
     },
     "metadata": {},
     "output_type": "display_data"
    },
    {
     "data": {
      "text/html": [
       "<ol class=list-inline>\n",
       "\t<li>'NO3_reduction'</li>\n",
       "\t<li>'NH4_assimilation'</li>\n",
       "\t<li>'P_transport'</li>\n",
       "\t<li>'P_regulation'</li>\n",
       "\t<li>'Phosphatases '</li>\n",
       "\t<li>'Phn_transport'</li>\n",
       "\t<li>'CH3-phosphonate'</li>\n",
       "\t<li>'SO4_A.reduction'</li>\n",
       "\t<li>'CH4_H2_reduction'</li>\n",
       "\t<li>'CH4_acetate'</li>\n",
       "\t<li>'CH3_Phosphonate'</li>\n",
       "\t<li>'H2_production'</li>\n",
       "</ol>\n"
      ],
      "text/latex": [
       "\\begin{enumerate*}\n",
       "\\item 'NO3\\_reduction'\n",
       "\\item 'NH4\\_assimilation'\n",
       "\\item 'P\\_transport'\n",
       "\\item 'P\\_regulation'\n",
       "\\item 'Phosphatases '\n",
       "\\item 'Phn\\_transport'\n",
       "\\item 'CH3-phosphonate'\n",
       "\\item 'SO4\\_A.reduction'\n",
       "\\item 'CH4\\_H2\\_reduction'\n",
       "\\item 'CH4\\_acetate'\n",
       "\\item 'CH3\\_Phosphonate'\n",
       "\\item 'H2\\_production'\n",
       "\\end{enumerate*}\n"
      ],
      "text/markdown": [
       "1. 'NO3_reduction'\n",
       "2. 'NH4_assimilation'\n",
       "3. 'P_transport'\n",
       "4. 'P_regulation'\n",
       "5. 'Phosphatases '\n",
       "6. 'Phn_transport'\n",
       "7. 'CH3-phosphonate'\n",
       "8. 'SO4_A.reduction'\n",
       "9. 'CH4_H2_reduction'\n",
       "10. 'CH4_acetate'\n",
       "11. 'CH3_Phosphonate'\n",
       "12. 'H2_production'\n",
       "\n",
       "\n"
      ],
      "text/plain": [
       " [1] \"NO3_reduction\"    \"NH4_assimilation\" \"P_transport\"      \"P_regulation\"    \n",
       " [5] \"Phosphatases \"    \"Phn_transport\"    \"CH3-phosphonate\"  \"SO4_A.reduction\" \n",
       " [9] \"CH4_H2_reduction\" \"CH4_acetate\"      \"CH3_Phosphonate\"  \"H2_production\"   "
      ]
     },
     "metadata": {},
     "output_type": "display_data"
    }
   ],
   "source": [
    "# Merge SDA DF with ontology colors, trim and order \n",
    "CH4_sdaData <- merge(CH4_corr_KOsda_X, CNPS_KO_colors)\n",
    "CH4_sdaData <-CH4_sdaData[CH4_sdaData$L1!='Carbon ',]\n",
    "keep_cols <- c(\"KO\", \"abs_t_pos\", \"cat.pos\", \"mid_name\", \"sm_name\", \"color\", 'L2', 'L2_order')\n",
    "CH4_sdaDataX <- CH4_sdaData[keep_cols]\n",
    "CH4_sdaDataX <- CH4_sdaDataX[order(-CH4_sdaDataX$abs_t_pos), ]\n",
    "#head(CH4_sdaDataX)\n",
    "\n",
    "CH4_sdaDataX[\"sm_name\"] <- reorder(CH4_sdaDataX[,\"sm_name\"], CH4_sdaDataX[,\"abs_t_pos\"])       # reorder factors by index..\n",
    "CH4_sdaDataX[\"color\"] <- reorder(CH4_sdaDataX[,\"color\"], CH4_sdaDataX[,\"L2_order\"])       # reorder factors by index..\n",
    "#CH4_sdaDataX[\"L2\"] <- reorder(CH4_sdaDataX[,\"L2\"], as.numeric(CH4_sdaDataX[,\"color\"]))     # reorder factors by index..\n",
    "CH4_sdaDataX[\"L2a\"] <- paste(CH4_sdaDataX[,\"L2\"])     # reorder factors by index..\n",
    "CH4_sdaDataX[\"L2a\"] <- reorder(CH4_sdaDataX[,\"L2a\"], as.numeric(CH4_sdaDataX[,\"L2_order\"]))     # reorder factors by index..\n",
    "\n",
    "\n",
    "head(CH4_sdaDataX)\n",
    "levels(CH4_sdaDataX$L2a)\n",
    "\n",
    "#levels(CH4_sdaDataX[,\"sm_name\"])\n",
    "#levels(CH4_sdaDataX[,\"color\"])\n",
    "#CH4_sdaDataX$color <-as.character(CH4_sdaDataX$color)"
   ]
  },
  {
   "cell_type": "code",
   "execution_count": 22,
   "metadata": {},
   "outputs": [
    {
     "data": {},
     "metadata": {},
     "output_type": "display_data"
    },
    {
     "data": {
      "image/png": "[encoded data removed]",
      "text/plain": [
       "plot without title"
      ]
     },
     "metadata": {},
     "output_type": "display_data"
    }
   ],
   "source": [
    "options(repr.plot.width=6, repr.plot.height=5)\n",
    "gene_cols <-c(levels(CH4_sdaDataX$color))\n",
    "#CH4_sdaDataX$color\n",
    "#\n",
    "#gene_cols <-unlist(as.list(levels(CH4_sdaDataX$color)))\n",
    "#gene_cols <-c('#344338', '#e975a8', '#4e96c8', '#e94c3e', '#6bb96d', '#3787c0', '#356542', '#5f3230', '#b8302a', '#7e7e7e', '#fe9829', '#8f296a', '#34434f', '#181818', '#35556c', '#356587', '#3676a4', '#36854d', '#41a359', '#515151', '#8e3104', '#93ce81', '#b0b0b0', '#ce248f', '#d85a09', '#d9d9d9', '#fed778')\n",
    "\n",
    "ggplot(CH4_sdaDataX, aes(cat.pos, sm_name, color = color)) + #, color = color\n",
    "        geom_segment(aes(x = 0, y = sm_name, xend = cat.pos, yend = sm_name)) +#, color = \"grey50\") +\n",
    "        geom_point(size=3) + scale_color_manual(values=c(gene_cols), labels = c(levels(CH4_sdaDataX$L2a))) +\n",
    "        scale_y_discrete(position = \"right\") + theme_minimal() +\n",
    "        theme(panel.grid.major = element_blank(), panel.grid.minor = element_blank())+ \n",
    "        theme(axis.line = element_line(colour = \"black\"))\n",
    "#p + scale_y_continuous(position = \"right\")\n",
    "#ggdraw(switch_axis_position(pl + theme_gray(), axis = 'y'))\n",
    "\n",
    "       #ggplot(ohio, aes(percollege, county, color = Above)) +\n",
    "       # geom_segment(aes(x = Avg, y = county, xend = percollege, yend = county), color = \"grey50\") +\n",
    "       # geom_point()\n",
    "\n",
    "#ggsave(\"SP_Bins_LDA_Fig_4.11.18.pdf\")"
   ]
  },
  {
   "cell_type": "code",
   "execution_count": null,
   "metadata": {
    "collapsed": true
   },
   "outputs": [],
   "source": []
  },
  {
   "cell_type": "raw",
   "metadata": {},
   "source": [
    "OTU_ranking.LDA = sda.ranking(OTU_SDA_data, OTU_rCturn, diagonal=FALSE)                ######## MAIN CONTROL POINT, LDA on rCturnBIN, COG data\n",
    "OTU_ranking.LDA[1:50,]                    # Table of LDA ranking\n",
    "plot(OTU_ranking.LDA, top=50)             # Stick plot of + and - corr\n",
    "plot(OTU_ranking.LDA[,\"HC\"], type=\"l\")    # Model variable # cutoff plot\n",
    "which.max(OTU_ranking.LDA[1:130,\"HC\"])    ## Pick number of variables based on max model predict    # RECODE?             ######## CONTROL POINT, max SDA vars, too high of colnum may crash\n",
    "# SDA_max_vars<-(which.max(ranking.LDA[1:150,\"HC\"]))             \n",
    "\n",
    "# Fancier plotting with diagnostics, multiple methods for calculating...### PRETTY MUCH THE SAME\n",
    "# ra1= sda.ranking(m_CNPratiosData16, rCturnBIN, diagonal=FALSE, fdr=TRUE, plot.fdr=TRUE, ranking.score=\"avg\")\n",
    "# ra2= sda.ranking(m_CNPratiosData16, rCturnBIN, diagonal=FALSE, fdr=TRUE, plot.fdr=TRUE, ranking.score=\"max\")\n",
    "ra2= sda.ranking(OTU_SDA_data, OTU_rCturn, diagonal=FALSE, fdr=TRUE, plot.fdr=TRUE, ranking.score=\"entropy\")\n",
    "ra3= sda.ranking(CNP_ORF_norm, OTU_rCturn, diagonal=FALSE, fdr=TRUE, plot.fdr=TRUE, ranking.score=\"entropy\")\n",
    "\n",
    "#plot(ra1, top=40)\n",
    "plot(ra2, top=40)\n",
    "plot(ra3, top=40)\n"
   ]
  },
  {
   "cell_type": "code",
   "execution_count": null,
   "metadata": {
    "collapsed": true
   },
   "outputs": [],
   "source": []
  }
 ],
 "metadata": {
  "anaconda-cloud": {},
  "kernelspec": {
   "display_name": "R",
   "language": "R",
   "name": "ir"
  },
  "language_info": {
   "codemirror_mode": "r",
   "file_extension": ".r",
   "mimetype": "text/x-r-source",
   "name": "R",
   "pygments_lexer": "r",
   "version": "3.4.2"
  }
 },
 "nbformat": 4,
 "nbformat_minor": 1
}
