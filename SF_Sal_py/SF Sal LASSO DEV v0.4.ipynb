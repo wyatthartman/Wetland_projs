{
 "cells": [
  {
   "cell_type": "markdown",
   "metadata": {},
   "source": [
    "# SF Salinity KOs, LASSO CV to predict methane v0.4"
   ]
  },
  {
   "cell_type": "code",
   "execution_count": 1,
   "metadata": {
    "collapsed": true
   },
   "outputs": [],
   "source": [
    "import numpy as np\n",
    "import pandas as pd\n",
    "import matplotlib.pyplot as plt\n",
    "import seaborn as sns\n",
    "from scipy import stats\n",
    "import matplotlib\n",
    "\n",
    "import warnings\n",
    "warnings.filterwarnings('ignore')\n",
    "\n",
    "import sklearn as sk\n",
    "\n",
    "%matplotlib inline\n",
    "\n",
    "\n",
    "sns.set_style(\"white\")\n",
    "sns.set_style(\"ticks\")"
   ]
  },
  {
   "cell_type": "code",
   "execution_count": 2,
   "metadata": {
    "collapsed": true
   },
   "outputs": [],
   "source": [
    "from sklearn import preprocessing\n",
    "from sklearn.preprocessing import StandardScaler\n",
    "from sklearn.preprocessing import RobustScaler\n"
   ]
  },
  {
   "cell_type": "code",
   "execution_count": 3,
   "metadata": {
    "collapsed": true
   },
   "outputs": [],
   "source": [
    "from sklearn.model_selection import cross_val_score, train_test_split\n",
    "from sklearn.linear_model import LinearRegression, RidgeCV, LassoCV, ElasticNetCV\n",
    "from sklearn.metrics import mean_squared_error, make_scorer\n",
    "from sklearn import metrics"
   ]
  },
  {
   "cell_type": "code",
   "execution_count": 4,
   "metadata": {
    "collapsed": true
   },
   "outputs": [],
   "source": [
    "from sklearn.linear_model import RandomizedLasso"
   ]
  },
  {
   "cell_type": "markdown",
   "metadata": {},
   "source": [
    "# Input data: Environment, Genes, Ontology"
   ]
  },
  {
   "cell_type": "markdown",
   "metadata": {},
   "source": [
    "## Import Environment data:"
   ]
  },
  {
   "cell_type": "code",
   "execution_count": 5,
   "metadata": {
    "collapsed": true
   },
   "outputs": [],
   "source": [
    "# Import and clean environment data\n",
    "# IMPROVED LOG DATA\n",
    "Sal_meta = pd.read_csv('SF_sal_metaLOG_FIX2.txt', sep='\\t', index_col=0)\n",
    "Sal_meta['Salinity'] =  Sal_meta['Salinity.x']                                 #Sal_meta.columns # Sal_meta.head(10) # Sal_meta.EWcoastGroup.unique()"
   ]
  },
  {
   "cell_type": "markdown",
   "metadata": {},
   "source": [
    "#### Make Environment Subsets"
   ]
  },
  {
   "cell_type": "code",
   "execution_count": 6,
   "metadata": {
    "collapsed": true
   },
   "outputs": [],
   "source": [
    "###  LOW Salinity sites                                       # Sal_meta.SALTgroup.unique()\n",
    "FW = Sal_meta[Sal_meta['SALTgroup'].str.contains('FW')]         # Get subsets \n",
    "Oligo = Sal_meta[Sal_meta['SALTgroup'].str.contains('Oligo')]\n",
    "# Meso = Sal_meta[Sal_meta['SALTgroup'].str.contains('Meso')]\n",
    "\n",
    "# DELTA ONLY sites\n",
    "Oligo_FW = (FW, Oligo)                                           # Make set list \n",
    "Oligo_FW_sites = pd.concat(Oligo_FW)                             # Concat SET\n",
    "Oligo_FW_sites.sort_values(by = 'Index', axis=0, inplace=True)   # Sort on Site index        \n",
    "\n",
    "### REF SITES ONLY \n",
    "Ref_sites_ONLY = Sal_meta[Sal_meta['EWcoastGroup'].str.contains('SF_Ref')]"
   ]
  },
  {
   "cell_type": "markdown",
   "metadata": {},
   "source": [
    "### @@ choose OLIGO sites at own risk "
   ]
  },
  {
   "cell_type": "code",
   "execution_count": 7,
   "metadata": {
    "collapsed": true
   },
   "outputs": [],
   "source": [
    "Sal_meta=Oligo_FW_sites"
   ]
  },
  {
   "cell_type": "markdown",
   "metadata": {},
   "source": [
    "#### Select Env. Chem variables"
   ]
  },
  {
   "cell_type": "code",
   "execution_count": 8,
   "metadata": {
    "collapsed": true
   },
   "outputs": [],
   "source": [
    "## CUT Down Env. Data\n",
    "env_chem_List = ['Salinity', 'Bulk_dens', 'H2O_FPS', 'CO2_mg_m2_h',                       # with log DATA, delete 'logCH4' now is logged, except for LIN vars\n",
    "       'CO2_soilC_mg_g_d', 'CH4_ug_m2_h', 'CH4_CO2', 'CH4_soilC_ug_g_d', 'pH',            # Drop cations, corr w. Sal: 'Ca_pw', 'Sr_pw','Mg_pw', 'Na_pw', 'K_pw', 'Al_pw', 'Si_pw', 'Br_pw', 'F_pw', 'logCH4']\n",
    "       'Cl', 'SO4', 'Corg_LOI', 'C', 'N', 'P', 'NO3_N', 'NH4_N', 'Olsen_P',               # Drop soil metals for now, half NA: 'Fe', 'Mn', 'Cu', 'Zn']\n",
    "       'CN', 'CP', 'NP', 'NP_ext', 'NO3_NH4', 'C_g_m2', 'N_g_m2', 'P_g_m2',               # Drop redundant cols for PW: 'Salinity.x.1', 'CO2_mg_m2_h.1','CH4_ug_m2_h.1'\n",
    "       'DOC_mg_L','Cl_pw', 'SO4_pw', 'NO2_pw', 'NO3_pw','NH3_pw',                         # Much more DELETED here, see earlier versions... # Sal_meta.columns # Env_chem.head()  \n",
    "       'PO4_pw', 'Fe_pw', 'Mn_pw', 'Co_pw', 'Cu_pw', 'Zn_pw',\n",
    "       'CH4_m2_lin', 'CO2_m2_lin', 'Salinity_lin'] \n",
    "              \n",
    "# ABSTRACT Env_chem\n",
    "Env_chem = Sal_meta[env_chem_List]  # Get columns\n",
    "Env_chem.fillna(0, inplace = True)  # Fill NAs w 0, for porewater ND - careful with soil metals\n",
    "\n",
    "## ReINDEX Env. chem, MUST BE by Sample\n",
    "Sample= Sal_meta['Sample'] \n",
    "Env_chem = Env_chem.set_index(Sample,0) \n",
    "del Env_chem.index.name        "
   ]
  },
  {
   "cell_type": "code",
   "execution_count": 9,
   "metadata": {
    "collapsed": true
   },
   "outputs": [],
   "source": [
    "#Env_chem.Salinity.head()\n",
    "# Env_chem.CH4_ug_m2_h.max()\n",
    "#Env_chem.head()"
   ]
  },
  {
   "cell_type": "markdown",
   "metadata": {},
   "source": [
    "## Import KO abundance table"
   ]
  },
  {
   "cell_type": "code",
   "execution_count": 10,
   "metadata": {
    "collapsed": true
   },
   "outputs": [],
   "source": [
    "### IMPORT CHANGED HERE TO MAKE KO A COLUMN, not index\n",
    "# MG RAST updated KO counts (12/17)\n",
    "Gene_abund = pd.read_csv('RAST_KO_ordered133_R2_F200_DESeq2_nrm.txt', sep='\\t')#, index_col=0)      # RAST_KO_ordered133_R2_F200_DESeq2_nrm.txt\n",
    "\n",
    "# Old FOAM data\n",
    "#Gene_abund= pd.read_csv('FOAM_KO_ordered_F500_DESeq2_nrm.txt', sep='\\t')#, index_col=0)                # FOAM\n",
    "\n",
    "del Gene_abund.index.name   # Drop row index name before transpose\n",
    "#Gene_abundT = Gene_abund.T  # TRANSPOSE, samples as rows for join with ENV#    #Gene_abundT.head() # Gene_abundT.head() # Gene_list = Gene_abundT.columns  # Get gene list (for later)  -- acting wonky, no methods could be use  # mgRAST_KO_de"
   ]
  },
  {
   "cell_type": "raw",
   "metadata": {},
   "source": [
    "# Alternately, import FOAMv0.1 data\n",
    "Gene_abund= pd.read_csv('FOAM_KO_ordered_F500_DESeq2_nrm.txt', sep='\\t')#, index_col=0)\n",
    "Gene_abund = Gene_abund.drop(1915,0)  # Drop SPID last row  - should remove further upstream\n",
    "\n",
    "#Gene_abund = Gene_abund.drop('SPID.1',0)  # Drop SPID last row  - should remove further upstream\n",
    "#Gene_abund.tail()"
   ]
  },
  {
   "cell_type": "code",
   "execution_count": 11,
   "metadata": {
    "collapsed": true
   },
   "outputs": [],
   "source": [
    "#Gene_abundT.head()\n",
    "# Gene_abund.head()"
   ]
  },
  {
   "cell_type": "markdown",
   "metadata": {},
   "source": [
    "## Import ontology   "
   ]
  },
  {
   "cell_type": "code",
   "execution_count": 12,
   "metadata": {
    "collapsed": true
   },
   "outputs": [],
   "source": [
    "# Import CNPS, CH4, Ferment genes\n",
    "gene_ontol = pd.read_csv('Ontology_KO_CNPSch4_Fm_whh0.txt', sep='\\t', index_col=0)             # CNPSch4_Fm_KO"
   ]
  },
  {
   "cell_type": "code",
   "execution_count": 13,
   "metadata": {
    "collapsed": true
   },
   "outputs": [],
   "source": [
    "## ADD Abbrev. gene NAMES\n",
    "Ont = gene_ontol         # Rename Ont shorter\n",
    "gene_ontol['sm_name'] = (Ont['KO']+ \" \" + Ont['L3'] + \" \" + Ont['gene'].str[:4])\n",
    "gene_ontol['mid_name'] = (Ont['KO']+ \" \" + Ont['L3'] + \" ( \" + Ont['gene'].str[:4] + \" ) \" + Ont['fxn'].str[:18])  # gene_ontol.head()"
   ]
  },
  {
   "cell_type": "code",
   "execution_count": 14,
   "metadata": {
    "collapsed": true
   },
   "outputs": [],
   "source": [
    "### Import Gene colors\n",
    "gene_colors = pd.read_csv('Ontol_KO_L2_Color_KEY_whh0.txt', sep='\\t', index_col=0)         # gene_colors = gene_colors.iloc[:,4:6]                                  # why not keep it all and drop later?        # get L3 colors and cats    # gene_colors\n",
    "\n",
    "#### Merge colors, Ontol\n",
    "gene_ontol_colors = pd.merge(gene_ontol, gene_colors, on = 'L2', how='inner')  # Here changed to L2   # gene_colors.head() #gene_ontol_colors"
   ]
  },
  {
   "cell_type": "code",
   "execution_count": 15,
   "metadata": {
    "collapsed": true
   },
   "outputs": [],
   "source": [
    "#gene_ontol_colors.head()"
   ]
  },
  {
   "cell_type": "markdown",
   "metadata": {},
   "source": [
    "#### Subset ontology"
   ]
  },
  {
   "cell_type": "code",
   "execution_count": 16,
   "metadata": {
    "collapsed": true
   },
   "outputs": [],
   "source": [
    "### Get gene cycle subsets\n",
    "gene_ontol_colors.head()\n",
    "gene_ontol_colors.L1.unique()\n",
    "\n",
    "Carbon = gene_ontol_colors[gene_ontol_colors['L1'].str.contains('Carbon')]             # L1 = Carbon \n",
    "Nitrogen = gene_ontol_colors[gene_ontol_colors['L1'].str.contains('Nitrogen')]         # L1 = Nitrogen\n",
    "Phosphorus = gene_ontol_colors[gene_ontol_colors['L1'].str.contains('Phosphorus')]     # L1 = Phosphorus\n",
    "Sulfur = gene_ontol_colors[gene_ontol_colors['L1'].str.contains('Sulfur')]             # L1 = Sulfur\n",
    "CH4_cycling = gene_ontol_colors[gene_ontol_colors['L1'].str.contains('CH4_cycling')]   # L1 = CH4 \n",
    "Fermentation = gene_ontol_colors[gene_ontol_colors['L1'].str.contains('Fermentation')] # L1 = Fermentaiton\n",
    "\n",
    "NPS_CH4_LIST = [Nitrogen, Phosphorus, Sulfur, CH4_cycling]\n",
    "#CNPS_CH4_LIST = [Nitrogen, Phosphorus, Sulfur, CH4_cycling]\n",
    "# NPS_CH4 = pd.concat([NPS_CH4_LIST], 0) \n",
    "\n",
    "NPS_CH4 = pd.concat([Nitrogen, Phosphorus, Sulfur, CH4_cycling], 0)\n",
    "CNPS_CH4 = pd.concat([Carbon, Nitrogen, Phosphorus, Sulfur, CH4_cycling], 0) "
   ]
  },
  {
   "cell_type": "code",
   "execution_count": 17,
   "metadata": {
    "collapsed": true
   },
   "outputs": [],
   "source": [
    "# Choose subset - own risk\n",
    "gene_ontol_colors = CNPS_CH4\n",
    "#gene_ontol_colors"
   ]
  },
  {
   "cell_type": "markdown",
   "metadata": {},
   "source": [
    "# Get only CNPS_CH4 gene abundances for lasso"
   ]
  },
  {
   "cell_type": "code",
   "execution_count": 18,
   "metadata": {},
   "outputs": [
    {
     "data": {
      "text/html": [
       "<div>\n",
       "<style>\n",
       "    .dataframe thead tr:only-child th {\n",
       "        text-align: right;\n",
       "    }\n",
       "\n",
       "    .dataframe thead th {\n",
       "        text-align: left;\n",
       "    }\n",
       "\n",
       "    .dataframe tbody tr th {\n",
       "        vertical-align: top;\n",
       "    }\n",
       "</style>\n",
       "<table border=\"1\" class=\"dataframe\">\n",
       "  <thead>\n",
       "    <tr style=\"text-align: right;\">\n",
       "      <th>KO</th>\n",
       "      <th>K00847</th>\n",
       "      <th>K00012</th>\n",
       "      <th>K12447</th>\n",
       "      <th>K06859</th>\n",
       "      <th>K01835</th>\n",
       "      <th>K01835</th>\n",
       "      <th>K01835</th>\n",
       "      <th>K01810</th>\n",
       "      <th>K00846</th>\n",
       "      <th>K04041</th>\n",
       "      <th>...</th>\n",
       "      <th>K00582</th>\n",
       "      <th>K00583</th>\n",
       "      <th>K00584</th>\n",
       "      <th>K00399</th>\n",
       "      <th>K00401</th>\n",
       "      <th>K00402</th>\n",
       "      <th>K03388</th>\n",
       "      <th>K03389</th>\n",
       "      <th>K03390</th>\n",
       "      <th>Sample</th>\n",
       "    </tr>\n",
       "  </thead>\n",
       "  <tbody>\n",
       "    <tr>\n",
       "      <th>Sandmound_TuleA_D1</th>\n",
       "      <td>10.947</td>\n",
       "      <td>13.212</td>\n",
       "      <td>3.1545</td>\n",
       "      <td>6.6914</td>\n",
       "      <td>12.767</td>\n",
       "      <td>12.767</td>\n",
       "      <td>12.767</td>\n",
       "      <td>13.056</td>\n",
       "      <td>4.5049</td>\n",
       "      <td>6.7433</td>\n",
       "      <td>...</td>\n",
       "      <td>3.4160</td>\n",
       "      <td>3.5268</td>\n",
       "      <td>6.0655</td>\n",
       "      <td>5.2508</td>\n",
       "      <td>5.0656</td>\n",
       "      <td>5.0656</td>\n",
       "      <td>13.440</td>\n",
       "      <td>10.799</td>\n",
       "      <td>9.3264</td>\n",
       "      <td>Sandmound_TuleA_D1</td>\n",
       "    </tr>\n",
       "    <tr>\n",
       "      <th>Sandmound_TuleA_D2</th>\n",
       "      <td>10.815</td>\n",
       "      <td>13.045</td>\n",
       "      <td>3.3375</td>\n",
       "      <td>7.1481</td>\n",
       "      <td>12.571</td>\n",
       "      <td>12.571</td>\n",
       "      <td>12.571</td>\n",
       "      <td>12.894</td>\n",
       "      <td>4.6485</td>\n",
       "      <td>7.1273</td>\n",
       "      <td>...</td>\n",
       "      <td>3.7532</td>\n",
       "      <td>3.3375</td>\n",
       "      <td>6.1691</td>\n",
       "      <td>5.2638</td>\n",
       "      <td>4.6485</td>\n",
       "      <td>4.3133</td>\n",
       "      <td>13.363</td>\n",
       "      <td>10.888</td>\n",
       "      <td>9.4967</td>\n",
       "      <td>Sandmound_TuleA_D2</td>\n",
       "    </tr>\n",
       "    <tr>\n",
       "      <th>Sandmound_TuleB_D1</th>\n",
       "      <td>10.868</td>\n",
       "      <td>13.239</td>\n",
       "      <td>3.0693</td>\n",
       "      <td>6.9424</td>\n",
       "      <td>12.801</td>\n",
       "      <td>12.801</td>\n",
       "      <td>12.801</td>\n",
       "      <td>13.032</td>\n",
       "      <td>5.0100</td>\n",
       "      <td>6.7690</td>\n",
       "      <td>...</td>\n",
       "      <td>2.5844</td>\n",
       "      <td>3.3865</td>\n",
       "      <td>6.0712</td>\n",
       "      <td>4.9700</td>\n",
       "      <td>5.3885</td>\n",
       "      <td>4.6521</td>\n",
       "      <td>13.485</td>\n",
       "      <td>10.753</td>\n",
       "      <td>9.3174</td>\n",
       "      <td>Sandmound_TuleB_D1</td>\n",
       "    </tr>\n",
       "    <tr>\n",
       "      <th>Sandmound_TuleB_D2</th>\n",
       "      <td>10.911</td>\n",
       "      <td>12.997</td>\n",
       "      <td>3.4680</td>\n",
       "      <td>7.2563</td>\n",
       "      <td>12.623</td>\n",
       "      <td>12.623</td>\n",
       "      <td>12.623</td>\n",
       "      <td>12.845</td>\n",
       "      <td>5.1443</td>\n",
       "      <td>6.6869</td>\n",
       "      <td>...</td>\n",
       "      <td>3.3145</td>\n",
       "      <td>3.3145</td>\n",
       "      <td>6.2777</td>\n",
       "      <td>5.1840</td>\n",
       "      <td>4.9731</td>\n",
       "      <td>4.5513</td>\n",
       "      <td>13.519</td>\n",
       "      <td>10.843</td>\n",
       "      <td>9.4227</td>\n",
       "      <td>Sandmound_TuleB_D2</td>\n",
       "    </tr>\n",
       "    <tr>\n",
       "      <th>Sandmound_TuleC_D1</th>\n",
       "      <td>10.841</td>\n",
       "      <td>13.195</td>\n",
       "      <td>3.8750</td>\n",
       "      <td>6.8160</td>\n",
       "      <td>12.668</td>\n",
       "      <td>12.668</td>\n",
       "      <td>12.668</td>\n",
       "      <td>12.996</td>\n",
       "      <td>4.7192</td>\n",
       "      <td>6.9888</td>\n",
       "      <td>...</td>\n",
       "      <td>2.9406</td>\n",
       "      <td>2.6417</td>\n",
       "      <td>5.0259</td>\n",
       "      <td>4.1627</td>\n",
       "      <td>5.1572</td>\n",
       "      <td>4.5361</td>\n",
       "      <td>13.018</td>\n",
       "      <td>10.432</td>\n",
       "      <td>9.1730</td>\n",
       "      <td>Sandmound_TuleC_D1</td>\n",
       "    </tr>\n",
       "  </tbody>\n",
       "</table>\n",
       "<p>5 rows × 257 columns</p>\n",
       "</div>"
      ],
      "text/plain": [
       "KO                  K00847  K00012  K12447  K06859  K01835  K01835  K01835  \\\n",
       "Sandmound_TuleA_D1  10.947  13.212  3.1545  6.6914  12.767  12.767  12.767   \n",
       "Sandmound_TuleA_D2  10.815  13.045  3.3375  7.1481  12.571  12.571  12.571   \n",
       "Sandmound_TuleB_D1  10.868  13.239  3.0693  6.9424  12.801  12.801  12.801   \n",
       "Sandmound_TuleB_D2  10.911  12.997  3.4680  7.2563  12.623  12.623  12.623   \n",
       "Sandmound_TuleC_D1  10.841  13.195  3.8750  6.8160  12.668  12.668  12.668   \n",
       "\n",
       "KO                  K01810  K00846  K04041         ...          K00582  \\\n",
       "Sandmound_TuleA_D1  13.056  4.5049  6.7433         ...          3.4160   \n",
       "Sandmound_TuleA_D2  12.894  4.6485  7.1273         ...          3.7532   \n",
       "Sandmound_TuleB_D1  13.032  5.0100  6.7690         ...          2.5844   \n",
       "Sandmound_TuleB_D2  12.845  5.1443  6.6869         ...          3.3145   \n",
       "Sandmound_TuleC_D1  12.996  4.7192  6.9888         ...          2.9406   \n",
       "\n",
       "KO                  K00583  K00584  K00399  K00401  K00402  K03388  K03389  \\\n",
       "Sandmound_TuleA_D1  3.5268  6.0655  5.2508  5.0656  5.0656  13.440  10.799   \n",
       "Sandmound_TuleA_D2  3.3375  6.1691  5.2638  4.6485  4.3133  13.363  10.888   \n",
       "Sandmound_TuleB_D1  3.3865  6.0712  4.9700  5.3885  4.6521  13.485  10.753   \n",
       "Sandmound_TuleB_D2  3.3145  6.2777  5.1840  4.9731  4.5513  13.519  10.843   \n",
       "Sandmound_TuleC_D1  2.6417  5.0259  4.1627  5.1572  4.5361  13.018  10.432   \n",
       "\n",
       "KO                  K03390              Sample  \n",
       "Sandmound_TuleA_D1  9.3264  Sandmound_TuleA_D1  \n",
       "Sandmound_TuleA_D2  9.4967  Sandmound_TuleA_D2  \n",
       "Sandmound_TuleB_D1  9.3174  Sandmound_TuleB_D1  \n",
       "Sandmound_TuleB_D2  9.4227  Sandmound_TuleB_D2  \n",
       "Sandmound_TuleC_D1  9.1730  Sandmound_TuleC_D1  \n",
       "\n",
       "[5 rows x 257 columns]"
      ]
     },
     "execution_count": 18,
     "metadata": {},
     "output_type": "execute_result"
    }
   ],
   "source": [
    " # Get only KO abundance for genes in CNPS ontology\n",
    "CH4nps_KOs = pd.DataFrame(gene_ontol_colors['KO'])                           # Get only KOs from ontology\n",
    "CH4nps_KOabund = pd.merge(CH4nps_KOs, Gene_abund, on='KO', how='inner')      # merge CNPS KO vector with KO abundance \n",
    "CH4nps_KOabund = CH4nps_KOabund.set_index('KO')                              # Set index as KO before transpose\n",
    "\n",
    "CH4nps_KOabund_T = CH4nps_KOabund.T                                          # Transpose\n",
    "CH4nps_KOabund_T['Sample'] = CH4nps_KOabund_T.index                          # Get sample col from \n",
    "CH4nps_KOabund_T.head()"
   ]
  },
  {
   "cell_type": "markdown",
   "metadata": {},
   "source": [
    "# Merge with ENV variable of interest"
   ]
  },
  {
   "cell_type": "code",
   "execution_count": 19,
   "metadata": {
    "collapsed": true
   },
   "outputs": [],
   "source": [
    "# Env_chem.head()"
   ]
  },
  {
   "cell_type": "code",
   "execution_count": 20,
   "metadata": {},
   "outputs": [
    {
     "data": {
      "text/plain": [
       "(74, 2)"
      ]
     },
     "execution_count": 20,
     "metadata": {},
     "output_type": "execute_result"
    }
   ],
   "source": [
    "env_var = 'CH4_ug_m2_h'                                                  # abstraction ahead of function\n",
    "env_var_df = pd.DataFrame(Env_chem[env_var])                                 # make standalone DF\n",
    "env_var_df['Sample'] = env_var_df.index                                  # get sample name from index\n",
    "env_var_df.shape            "
   ]
  },
  {
   "cell_type": "code",
   "execution_count": 21,
   "metadata": {
    "collapsed": true
   },
   "outputs": [],
   "source": [
    "envVar_KOabundO = pd.merge(env_var_df, CH4nps_KOabund_T, on='Sample')    # Merge Env var with KO abundance by Samp.\n",
    "envVar_KOabundO = envVar_KOabundO.set_index('Sample')\n",
    "#envVar_KOabundO.head()"
   ]
  },
  {
   "cell_type": "markdown",
   "metadata": {},
   "source": [
    "## Define and scale variables for ML "
   ]
  },
  {
   "cell_type": "code",
   "execution_count": 22,
   "metadata": {
    "collapsed": true
   },
   "outputs": [],
   "source": [
    "X = envVar_KOabundO.drop(env_var,1)\n",
    "y = envVar_KOabundO[env_var]"
   ]
  },
  {
   "cell_type": "code",
   "execution_count": 23,
   "metadata": {
    "collapsed": true
   },
   "outputs": [],
   "source": [
    "# Scale y and look at distribution  -- shouldn't be necessary as y is already log transformed?\n",
    "robSc = RobustScaler()\n",
    "#y_scaled = robSc.fit_transform(y)\n",
    "# = robSc(Y)"
   ]
  },
  {
   "cell_type": "code",
   "execution_count": 24,
   "metadata": {},
   "outputs": [
    {
     "data": {
      "text/plain": [
       "<matplotlib.axes._subplots.AxesSubplot at 0x1136d3240>"
      ]
     },
     "execution_count": 24,
     "metadata": {},
     "output_type": "execute_result"
    },
    {
     "data": {
      "image/png": "[encoded data removed]",
      "text/plain": [
       "<matplotlib.figure.Figure at 0x1136d34e0>"
      ]
     },
     "metadata": {},
     "output_type": "display_data"
    }
   ],
   "source": [
    "sns.distplot(y)\n",
    "#sns.distplot(y_scaled) #  -- neither look great, explore additional transforms later"
   ]
  },
  {
   "cell_type": "markdown",
   "metadata": {},
   "source": [
    "### Partion the data into training set and testing set"
   ]
  },
  {
   "cell_type": "code",
   "execution_count": 25,
   "metadata": {},
   "outputs": [
    {
     "name": "stdout",
     "output_type": "stream",
     "text": [
      "X_train : (42, 256)\n",
      "X_test : (18, 256)\n",
      "y_train : (42,)\n",
      "y_test : (18,)\n"
     ]
    }
   ],
   "source": [
    "# Partition the dataset in train + validation sets\n",
    "X_train, X_test, y_train, y_test = train_test_split(X, y, test_size = 0.3, random_state = 5)\n",
    "\n",
    "print(\"X_train : \" + str(X_train.shape))\n",
    "print(\"X_test : \" + str(X_test.shape))\n",
    "print(\"y_train : \" + str(y_train.shape))\n",
    "print(\"y_test : \" + str(y_test.shape))"
   ]
  },
  {
   "cell_type": "code",
   "execution_count": 26,
   "metadata": {
    "collapsed": true
   },
   "outputs": [],
   "source": [
    "# Standardize numerical features, not using Standard scaler but log2 DESeq2 counts should be relatively normal?\n",
    "robSc = RobustScaler()\n",
    "\n",
    "X_scaled = robSc.fit_transform(X)\n",
    "X_trainS = robSc.fit_transform(X_train)\n",
    "X_testS = robSc.fit_transform(X_test)"
   ]
  },
  {
   "cell_type": "code",
   "execution_count": 27,
   "metadata": {
    "collapsed": true
   },
   "outputs": [],
   "source": [
    "# Define error measure for official scoring : RMSE\n",
    "scorer = make_scorer(mean_squared_error, greater_is_better = False)\n",
    "\n",
    "def rmse_cv_train(model):\n",
    "    rmse= np.sqrt(-cross_val_score(model, X_train, y_train, scoring = \"neg_mean_squared_error\", cv = 10))\n",
    "    return(rmse)\n",
    "\n",
    "def rmse_cv_test(model):\n",
    "    rmse= np.sqrt(-cross_val_score(model, X_test, y_test, scoring = \"neg_mean_squared_error\", cv = 10))\n",
    "    return(rmse)\n",
    "\n",
    "#def rmse_cv(model):\n",
    "#    rmse= np.sqrt(-cross_val_score(model, X_train, y, scoring=\"neg_mean_squared_error\", cv = 5))\n",
    "#    return(rmse)"
   ]
  },
  {
   "cell_type": "markdown",
   "metadata": {},
   "source": [
    "# LASSO Regression"
   ]
  },
  {
   "cell_type": "markdown",
   "metadata": {},
   "source": [
    "### No data witheld"
   ]
  },
  {
   "cell_type": "code",
   "execution_count": 28,
   "metadata": {},
   "outputs": [
    {
     "name": "stdout",
     "output_type": "stream",
     "text": [
      "Best alpha : 0.03\n"
     ]
    }
   ],
   "source": [
    "# Lasso\n",
    "lasso = LassoCV(alphas = [0.0001, 0.0003, 0.0006, 0.001, 0.003, 0.006, 0.01, 0.03, 0.06, 0.1, \n",
    "                          0.3, 0.6, 1], \n",
    "                max_iter = 50000, cv = 10)\n",
    "lasso.fit(X_scaled, y)\n",
    "alpha = lasso.alpha_\n",
    "print(\"Best alpha :\", alpha)\n"
   ]
  },
  {
   "cell_type": "code",
   "execution_count": 29,
   "metadata": {},
   "outputs": [
    {
     "name": "stdout",
     "output_type": "stream",
     "text": [
      "Try again for more precision with alphas centered around 0.03\n",
      "Best alpha : 0.0345\n",
      "Lasso RMSE on Training set : 0.768842229998\n",
      "Lasso RMSE on Test set : 0.554774381515\n"
     ]
    }
   ],
   "source": [
    "print(\"Try again for more precision with alphas centered around \" + str(alpha))\n",
    "lasso = LassoCV(alphas = [alpha * .6, alpha * .65, alpha * .7, alpha * .75, alpha * .8, \n",
    "                          alpha * .85, alpha * .9, alpha * .95, alpha, alpha * 1.05, \n",
    "                          alpha * 1.1, alpha * 1.15, alpha * 1.25, alpha * 1.3, alpha * 1.35, \n",
    "                          alpha * 1.4], \n",
    "                max_iter = 50000, cv = 10)\n",
    "lasso.fit(X_scaled, y)\n",
    "alpha = lasso.alpha_\n",
    "print(\"Best alpha :\", alpha)\n",
    "\n",
    "print(\"Lasso RMSE on Training set :\", rmse_cv_train(lasso).mean())\n",
    "print(\"Lasso RMSE on Test set :\", rmse_cv_test(lasso).mean())\n",
    "y_train_las = lasso.predict(X_scaled)\n",
    "#y_test_las = lasso.predict(X_testS)"
   ]
  },
  {
   "cell_type": "code",
   "execution_count": 30,
   "metadata": {},
   "outputs": [
    {
     "name": "stdout",
     "output_type": "stream",
     "text": [
      "R2= 0.883169835316\n"
     ]
    }
   ],
   "source": [
    "accuracy = metrics.r2_score(y, y_train_las)\n",
    "print(\"R2=\", accuracy)"
   ]
  },
  {
   "cell_type": "code",
   "execution_count": 31,
   "metadata": {
    "scrolled": true
   },
   "outputs": [
    {
     "data": {
      "text/plain": [
       "<matplotlib.axes._subplots.AxesSubplot at 0x1136d3898>"
      ]
     },
     "execution_count": 31,
     "metadata": {},
     "output_type": "execute_result"
    },
    {
     "data": {
      "image/png": "[encoded data removed]",
      "text/plain": [
       "<matplotlib.figure.Figure at 0x1134c0198>"
      ]
     },
     "metadata": {},
     "output_type": "display_data"
    }
   ],
   "source": [
    "sns.regplot(x=y, y=y_train_las)"
   ]
  },
  {
   "cell_type": "code",
   "execution_count": 32,
   "metadata": {},
   "outputs": [
    {
     "data": {
      "text/plain": [
       "<matplotlib.axes._subplots.AxesSubplot at 0x113821668>"
      ]
     },
     "execution_count": 32,
     "metadata": {},
     "output_type": "execute_result"
    },
    {
     "data": {
      "image/png": "[encoded data removed]",
      "text/plain": [
       "<matplotlib.figure.Figure at 0x11382add8>"
      ]
     },
     "metadata": {},
     "output_type": "display_data"
    }
   ],
   "source": [
    "# Extract scaled coefficients\n",
    "coef = pd.Series(lasso.coef_, index = X_train.columns)\n",
    "\n",
    "# Get top 20 most important features\n",
    "imp_coef = pd.concat([coef.sort_values().head(10),\n",
    "                     coef.sort_values().tail(10)])\n",
    "\n",
    "imp_coef = pd.DataFrame(imp_coef)                    # Make coef data frame\n",
    "imp_coef.columns= [\"coef\"]                           # Name first column coef \n",
    "imp_coef['KO'] = imp_coef.index                      # add KOs\n",
    "#imp_coef\n",
    "\n",
    "coef_info = pd.merge(imp_coef, gene_ontol_colors)    # Merge with colors, ontology (incl sm. name)\n",
    "pal = coef_info['color']                             # get colors\n",
    "\n",
    "# Display coefficients, colored by gene category\n",
    "sns.barplot(data=coef_info, y='sm_name', x='coef', palette=pal) #, orient='h')"
   ]
  },
  {
   "cell_type": "markdown",
   "metadata": {},
   "source": [
    "### Using test train"
   ]
  },
  {
   "cell_type": "code",
   "execution_count": 33,
   "metadata": {},
   "outputs": [
    {
     "name": "stdout",
     "output_type": "stream",
     "text": [
      "Best alpha : 0.06\n"
     ]
    }
   ],
   "source": [
    "# Lasso\n",
    "lasso = LassoCV(alphas = [0.0001, 0.0003, 0.0006, 0.001, 0.003, 0.006, 0.01, 0.03, 0.06, 0.1, \n",
    "                          0.3, 0.6, 1], \n",
    "                max_iter = 50000, cv = 10)\n",
    "lasso.fit(X_trainS, y_train)\n",
    "alpha = lasso.alpha_\n",
    "print(\"Best alpha :\", alpha)\n"
   ]
  },
  {
   "cell_type": "code",
   "execution_count": 34,
   "metadata": {},
   "outputs": [
    {
     "name": "stdout",
     "output_type": "stream",
     "text": [
      "Try again for more precision with alphas centered around 0.06\n",
      "Best alpha : 0.069\n",
      "Lasso RMSE on Training set : 0.770291813324\n",
      "Lasso RMSE on Test set : 0.570674672747\n"
     ]
    }
   ],
   "source": [
    "print(\"Try again for more precision with alphas centered around \" + str(alpha))\n",
    "lasso = LassoCV(alphas = [alpha * .6, alpha * .65, alpha * .7, alpha * .75, alpha * .8, \n",
    "                          alpha * .85, alpha * .9, alpha * .95, alpha, alpha * 1.05, \n",
    "                          alpha * 1.1, alpha * 1.15, alpha * 1.25, alpha * 1.3, alpha * 1.35, \n",
    "                          alpha * 1.4], \n",
    "                max_iter = 50000, cv = 10)\n",
    "lasso.fit(X_trainS, y_train)\n",
    "alpha = lasso.alpha_\n",
    "print(\"Best alpha :\", alpha)\n",
    "\n",
    "print(\"Lasso RMSE on Training set :\", rmse_cv_train(lasso).mean())\n",
    "print(\"Lasso RMSE on Test set :\", rmse_cv_test(lasso).mean())\n",
    "y_train_las = lasso.predict(X_trainS)\n",
    "y_test_las = lasso.predict(X_testS)"
   ]
  },
  {
   "cell_type": "code",
   "execution_count": 35,
   "metadata": {},
   "outputs": [
    {
     "name": "stdout",
     "output_type": "stream",
     "text": [
      "R2= 0.839455265755\n"
     ]
    }
   ],
   "source": [
    "from sklearn import metrics\n",
    "accuracy = metrics.r2_score(y_train, y_train_las)\n",
    "print(\"R2=\", accuracy)"
   ]
  },
  {
   "cell_type": "code",
   "execution_count": 36,
   "metadata": {},
   "outputs": [
    {
     "data": {
      "text/plain": [
       "<matplotlib.axes._subplots.AxesSubplot at 0x113d3f2e8>"
      ]
     },
     "execution_count": 36,
     "metadata": {},
     "output_type": "execute_result"
    },
    {
     "data": {
      "image/png": "[encoded data removed]",
      "text/plain": [
       "<matplotlib.figure.Figure at 0x113d444e0>"
      ]
     },
     "metadata": {},
     "output_type": "display_data"
    }
   ],
   "source": [
    "sns.regplot(x=y_train, y=y_train_las)"
   ]
  },
  {
   "cell_type": "code",
   "execution_count": 37,
   "metadata": {},
   "outputs": [
    {
     "data": {
      "text/plain": [
       "<matplotlib.axes._subplots.AxesSubplot at 0x113e0a080>"
      ]
     },
     "execution_count": 37,
     "metadata": {},
     "output_type": "execute_result"
    },
    {
     "data": {
      "image/png": "[encoded data removed]",
      "text/plain": [
       "<matplotlib.figure.Figure at 0x113dcf320>"
      ]
     },
     "metadata": {},
     "output_type": "display_data"
    }
   ],
   "source": [
    "sns.regplot(x=y_test, y=y_test_las)"
   ]
  },
  {
   "cell_type": "code",
   "execution_count": 38,
   "metadata": {},
   "outputs": [
    {
     "name": "stdout",
     "output_type": "stream",
     "text": [
      "R2= 0.66242513434\n"
     ]
    }
   ],
   "source": [
    "accuracy = metrics.r2_score(y_test, y_test_las)\n",
    "print(\"R2=\", accuracy)"
   ]
  },
  {
   "cell_type": "code",
   "execution_count": 39,
   "metadata": {},
   "outputs": [
    {
     "data": {
      "text/plain": [
       "<matplotlib.axes._subplots.AxesSubplot at 0x116f9b400>"
      ]
     },
     "execution_count": 39,
     "metadata": {},
     "output_type": "execute_result"
    },
    {
     "data": {
      "image/png": "[encoded data removed]",
      "text/plain": [
       "<matplotlib.figure.Figure at 0x11399dfd0>"
      ]
     },
     "metadata": {},
     "output_type": "display_data"
    }
   ],
   "source": [
    "# Extract scaled coefficients\n",
    "coef = pd.Series(lasso.coef_, index = X_train.columns)\n",
    "\n",
    "# Get top 20 most important features\n",
    "imp_coef = pd.concat([coef.sort_values().head(10),\n",
    "                     coef.sort_values().tail(10)])\n",
    "\n",
    "imp_coef = pd.DataFrame(imp_coef)                    # Make coef data frame\n",
    "imp_coef.columns= [\"coef\"]                           # Name first column coef \n",
    "imp_coef['KO'] = imp_coef.index                      # add KOs\n",
    "#imp_coef\n",
    "\n",
    "coef_info = pd.merge(imp_coef, gene_ontol_colors)    # Merge with colors, ontology (incl sm. name)\n",
    "pal = coef_info['color']                             # get colors\n",
    "\n",
    "# Display coefficients, colored by gene category\n",
    "sns.barplot(data=coef_info, y='sm_name', x='coef', palette=pal) #, orient='h')"
   ]
  },
  {
   "cell_type": "code",
   "execution_count": 40,
   "metadata": {},
   "outputs": [
    {
     "data": {
      "image/png": "[encoded data removed]",
      "text/plain": [
       "<matplotlib.figure.Figure at 0x113d2be48>"
      ]
     },
     "metadata": {},
     "output_type": "display_data"
    }
   ],
   "source": [
    "from matplotlib.backends.backend_pdf import PdfPages\n",
    "#pp = PdfPages(\"test_Lasso_Genes_no_TT.pdf\")                     # Initialize the pdf file\n",
    "# PP = PdfPages(\"test_Lasso_GENES_SOILS.pdf\")\n",
    "\n",
    "fig = plt.figure(figsize=(5, 4))           # Define plot\n",
    "sns.barplot(data=coef_info, y='sm_name', x='coef', palette=pal) #, orient='h')\n",
    "fig.tight_layout()                    # Make tight layout\n",
    "#pp.savefig()                            # Save the figure PDF created at top, else add file name .pdf  or  \n",
    "#pp.close()   # Close the file"
   ]
  },
  {
   "cell_type": "markdown",
   "metadata": {},
   "source": [
    "# Make ML model for soils only"
   ]
  },
  {
   "cell_type": "code",
   "execution_count": 41,
   "metadata": {
    "collapsed": true
   },
   "outputs": [],
   "source": [
    "# get soils input DF by re-arranging columns in soils DF\n",
    "\n",
    "# here remove 'CH4_soilC_ug_g_d', 'CH4_CO2' 'CO2_m2_lin', 'CH4_m2_lin',\n",
    "\n",
    "env_chem_CH4ml = ['Salinity', 'Bulk_dens', 'H2O_FPS', 'CO2_mg_m2_h',                       # with log DATA, delete 'logCH4' now is logged, except for LIN vars\n",
    "       'CO2_soilC_mg_g_d', 'CH4_ug_m2_h', 'pH',            # Drop cations, corr w. Sal: 'Ca_pw', 'Sr_pw','Mg_pw', 'Na_pw', 'K_pw', 'Al_pw', 'Si_pw', 'Br_pw', 'F_pw', 'logCH4']\n",
    "       'Cl', 'SO4', 'Corg_LOI', 'C', 'N', 'P', 'NO3_N', 'NH4_N', 'Olsen_P',               # Drop soil metals for now, half NA: 'Fe', 'Mn', 'Cu', 'Zn']\n",
    "       'CN', 'CP', 'NP', 'NP_ext', 'NO3_NH4', 'C_g_m2', 'N_g_m2', 'P_g_m2',               # Drop redundant cols for PW: 'Salinity.x.1', 'CO2_mg_m2_h.1','CH4_ug_m2_h.1'\n",
    "       'DOC_mg_L','Cl_pw', 'SO4_pw', 'NO2_pw', 'NO3_pw','NH3_pw',                         # Much more DELETED here, see earlier versions... # Sal_meta.columns # Env_chem.head()  \n",
    "       'PO4_pw', 'Fe_pw', 'Mn_pw', 'Co_pw', 'Cu_pw', 'Zn_pw']\n",
    "        #  'Salinity_lin'] "
   ]
  },
  {
   "cell_type": "code",
   "execution_count": 42,
   "metadata": {},
   "outputs": [
    {
     "data": {
      "text/html": [
       "<div>\n",
       "<style>\n",
       "    .dataframe thead tr:only-child th {\n",
       "        text-align: right;\n",
       "    }\n",
       "\n",
       "    .dataframe thead th {\n",
       "        text-align: left;\n",
       "    }\n",
       "\n",
       "    .dataframe tbody tr th {\n",
       "        vertical-align: top;\n",
       "    }\n",
       "</style>\n",
       "<table border=\"1\" class=\"dataframe\">\n",
       "  <thead>\n",
       "    <tr style=\"text-align: right;\">\n",
       "      <th></th>\n",
       "      <th>Salinity</th>\n",
       "      <th>Bulk_dens</th>\n",
       "      <th>H2O_FPS</th>\n",
       "      <th>CO2_mg_m2_h</th>\n",
       "      <th>CO2_soilC_mg_g_d</th>\n",
       "      <th>CH4_ug_m2_h</th>\n",
       "      <th>CH4_CO2</th>\n",
       "      <th>CH4_soilC_ug_g_d</th>\n",
       "      <th>pH</th>\n",
       "      <th>Cl</th>\n",
       "      <th>...</th>\n",
       "      <th>NH3_pw</th>\n",
       "      <th>PO4_pw</th>\n",
       "      <th>Fe_pw</th>\n",
       "      <th>Mn_pw</th>\n",
       "      <th>Co_pw</th>\n",
       "      <th>Cu_pw</th>\n",
       "      <th>Zn_pw</th>\n",
       "      <th>CH4_m2_lin</th>\n",
       "      <th>CO2_m2_lin</th>\n",
       "      <th>Salinity_lin</th>\n",
       "    </tr>\n",
       "  </thead>\n",
       "  <tbody>\n",
       "    <tr>\n",
       "      <th>Sandmound_CattailA_D1</th>\n",
       "      <td>-0.233021</td>\n",
       "      <td>-0.668042</td>\n",
       "      <td>1.947719</td>\n",
       "      <td>0.433113</td>\n",
       "      <td>-1.904776</td>\n",
       "      <td>0.000000</td>\n",
       "      <td>0.000000</td>\n",
       "      <td>0.000000</td>\n",
       "      <td>0.795185</td>\n",
       "      <td>1.098298</td>\n",
       "      <td>...</td>\n",
       "      <td>1.025171</td>\n",
       "      <td>1.015674</td>\n",
       "      <td>2.627704</td>\n",
       "      <td>2.761387</td>\n",
       "      <td>-0.721246</td>\n",
       "      <td>0.240549</td>\n",
       "      <td>0.0</td>\n",
       "      <td>-0.254840</td>\n",
       "      <td>2.710899</td>\n",
       "      <td>0.584762</td>\n",
       "    </tr>\n",
       "    <tr>\n",
       "      <th>Sandmound_TuleA_D1</th>\n",
       "      <td>-0.226634</td>\n",
       "      <td>-0.576150</td>\n",
       "      <td>1.931627</td>\n",
       "      <td>0.170561</td>\n",
       "      <td>-2.213225</td>\n",
       "      <td>0.650605</td>\n",
       "      <td>-0.519956</td>\n",
       "      <td>-1.733181</td>\n",
       "      <td>0.789581</td>\n",
       "      <td>1.142702</td>\n",
       "      <td>...</td>\n",
       "      <td>0.000000</td>\n",
       "      <td>0.000000</td>\n",
       "      <td>0.000000</td>\n",
       "      <td>0.000000</td>\n",
       "      <td>0.000000</td>\n",
       "      <td>0.000000</td>\n",
       "      <td>0.0</td>\n",
       "      <td>4.473064</td>\n",
       "      <td>1.481020</td>\n",
       "      <td>0.593425</td>\n",
       "    </tr>\n",
       "    <tr>\n",
       "      <th>Sandmound_TuleB_D1</th>\n",
       "      <td>-0.219956</td>\n",
       "      <td>-0.605605</td>\n",
       "      <td>1.902172</td>\n",
       "      <td>0.620485</td>\n",
       "      <td>-1.740932</td>\n",
       "      <td>0.000000</td>\n",
       "      <td>0.000000</td>\n",
       "      <td>0.000000</td>\n",
       "      <td>0.797268</td>\n",
       "      <td>1.149835</td>\n",
       "      <td>...</td>\n",
       "      <td>0.337526</td>\n",
       "      <td>0.188084</td>\n",
       "      <td>2.795477</td>\n",
       "      <td>3.070042</td>\n",
       "      <td>-0.408935</td>\n",
       "      <td>0.130334</td>\n",
       "      <td>0.0</td>\n",
       "      <td>-0.282940</td>\n",
       "      <td>4.173351</td>\n",
       "      <td>0.602621</td>\n",
       "    </tr>\n",
       "    <tr>\n",
       "      <th>Sandmound_TuleC_D1</th>\n",
       "      <td>-0.246824</td>\n",
       "      <td>-0.619023</td>\n",
       "      <td>1.925604</td>\n",
       "      <td>0.246613</td>\n",
       "      <td>-2.131642</td>\n",
       "      <td>-0.033444</td>\n",
       "      <td>-1.280056</td>\n",
       "      <td>-2.411698</td>\n",
       "      <td>0.796574</td>\n",
       "      <td>1.116608</td>\n",
       "      <td>...</td>\n",
       "      <td>0.709151</td>\n",
       "      <td>0.302331</td>\n",
       "      <td>3.579373</td>\n",
       "      <td>3.481973</td>\n",
       "      <td>0.315970</td>\n",
       "      <td>0.678518</td>\n",
       "      <td>0.0</td>\n",
       "      <td>0.925884</td>\n",
       "      <td>1.764464</td>\n",
       "      <td>0.566468</td>\n",
       "    </tr>\n",
       "    <tr>\n",
       "      <th>Sandmound_ThreeSqA_D1</th>\n",
       "      <td>-0.179428</td>\n",
       "      <td>-0.647915</td>\n",
       "      <td>1.914517</td>\n",
       "      <td>0.596982</td>\n",
       "      <td>-1.756729</td>\n",
       "      <td>-0.147209</td>\n",
       "      <td>-1.744192</td>\n",
       "      <td>-2.500920</td>\n",
       "      <td>0.802774</td>\n",
       "      <td>1.134177</td>\n",
       "      <td>...</td>\n",
       "      <td>0.453777</td>\n",
       "      <td>-0.123782</td>\n",
       "      <td>2.505299</td>\n",
       "      <td>2.094017</td>\n",
       "      <td>-0.619789</td>\n",
       "      <td>0.499687</td>\n",
       "      <td>0.0</td>\n",
       "      <td>0.712509</td>\n",
       "      <td>3.953506</td>\n",
       "      <td>0.661565</td>\n",
       "    </tr>\n",
       "  </tbody>\n",
       "</table>\n",
       "<p>5 rows × 41 columns</p>\n",
       "</div>"
      ],
      "text/plain": [
       "                       Salinity  Bulk_dens   H2O_FPS  CO2_mg_m2_h  \\\n",
       "Sandmound_CattailA_D1 -0.233021  -0.668042  1.947719     0.433113   \n",
       "Sandmound_TuleA_D1    -0.226634  -0.576150  1.931627     0.170561   \n",
       "Sandmound_TuleB_D1    -0.219956  -0.605605  1.902172     0.620485   \n",
       "Sandmound_TuleC_D1    -0.246824  -0.619023  1.925604     0.246613   \n",
       "Sandmound_ThreeSqA_D1 -0.179428  -0.647915  1.914517     0.596982   \n",
       "\n",
       "                       CO2_soilC_mg_g_d  CH4_ug_m2_h   CH4_CO2  \\\n",
       "Sandmound_CattailA_D1         -1.904776     0.000000  0.000000   \n",
       "Sandmound_TuleA_D1            -2.213225     0.650605 -0.519956   \n",
       "Sandmound_TuleB_D1            -1.740932     0.000000  0.000000   \n",
       "Sandmound_TuleC_D1            -2.131642    -0.033444 -1.280056   \n",
       "Sandmound_ThreeSqA_D1         -1.756729    -0.147209 -1.744192   \n",
       "\n",
       "                       CH4_soilC_ug_g_d        pH        Cl      ...       \\\n",
       "Sandmound_CattailA_D1          0.000000  0.795185  1.098298      ...        \n",
       "Sandmound_TuleA_D1            -1.733181  0.789581  1.142702      ...        \n",
       "Sandmound_TuleB_D1             0.000000  0.797268  1.149835      ...        \n",
       "Sandmound_TuleC_D1            -2.411698  0.796574  1.116608      ...        \n",
       "Sandmound_ThreeSqA_D1         -2.500920  0.802774  1.134177      ...        \n",
       "\n",
       "                         NH3_pw    PO4_pw     Fe_pw     Mn_pw     Co_pw  \\\n",
       "Sandmound_CattailA_D1  1.025171  1.015674  2.627704  2.761387 -0.721246   \n",
       "Sandmound_TuleA_D1     0.000000  0.000000  0.000000  0.000000  0.000000   \n",
       "Sandmound_TuleB_D1     0.337526  0.188084  2.795477  3.070042 -0.408935   \n",
       "Sandmound_TuleC_D1     0.709151  0.302331  3.579373  3.481973  0.315970   \n",
       "Sandmound_ThreeSqA_D1  0.453777 -0.123782  2.505299  2.094017 -0.619789   \n",
       "\n",
       "                          Cu_pw  Zn_pw  CH4_m2_lin  CO2_m2_lin  Salinity_lin  \n",
       "Sandmound_CattailA_D1  0.240549    0.0   -0.254840    2.710899      0.584762  \n",
       "Sandmound_TuleA_D1     0.000000    0.0    4.473064    1.481020      0.593425  \n",
       "Sandmound_TuleB_D1     0.130334    0.0   -0.282940    4.173351      0.602621  \n",
       "Sandmound_TuleC_D1     0.678518    0.0    0.925884    1.764464      0.566468  \n",
       "Sandmound_ThreeSqA_D1  0.499687    0.0    0.712509    3.953506      0.661565  \n",
       "\n",
       "[5 rows x 41 columns]"
      ]
     },
     "execution_count": 42,
     "metadata": {},
     "output_type": "execute_result"
    }
   ],
   "source": [
    "Env_chem.head()"
   ]
  },
  {
   "cell_type": "code",
   "execution_count": 43,
   "metadata": {
    "collapsed": true
   },
   "outputs": [],
   "source": [
    "## Better: Def var, drop var, append var.\n",
    "\n",
    "Env_chem = Env_chem[env_chem_CH4ml]"
   ]
  },
  {
   "cell_type": "code",
   "execution_count": 44,
   "metadata": {
    "collapsed": true
   },
   "outputs": [],
   "source": [
    "env_var = 'CH4_ug_m2_h'                                                  # abstraction ahead of function\n",
    "env_var_df = pd.DataFrame(Env_chem[env_var])                                 # make standalone DF\n",
    "\n",
    "env_chem_no_var = Env_chem.drop(env_var,1)\n",
    "# env_chem_no_var.columns\n",
    "\n",
    "chem_ML = env_var_df.join(env_chem_no_var)\n",
    "chem_ML.head()\n",
    "env_var_df['Sample'] = env_var_df.index                                  # get sample name from index"
   ]
  },
  {
   "cell_type": "code",
   "execution_count": 45,
   "metadata": {
    "collapsed": true
   },
   "outputs": [],
   "source": [
    "# Soils, genes model"
   ]
  },
  {
   "cell_type": "raw",
   "metadata": {},
   "source": [
    "chem_ML['Sample'] = chem_ML.index\n",
    "chem_mL = pd.merge(chem_ML, CH4nps_KOabund_T, on='Sample')\n",
    "chem_mL = chem_mL.set_index('Sample')\n",
    "chem_ML.head()\n",
    "chem_mL.head()\n",
    "chem_ML = chem_mL"
   ]
  },
  {
   "cell_type": "markdown",
   "metadata": {},
   "source": [
    "## LASSO method"
   ]
  },
  {
   "cell_type": "markdown",
   "metadata": {},
   "source": [
    "### Split x and y data"
   ]
  },
  {
   "cell_type": "code",
   "execution_count": 46,
   "metadata": {
    "collapsed": true
   },
   "outputs": [],
   "source": [
    "X = chem_ML.drop(env_var,1)\n",
    "y = chem_ML[env_var]"
   ]
  },
  {
   "cell_type": "markdown",
   "metadata": {},
   "source": [
    "### Split test train"
   ]
  },
  {
   "cell_type": "code",
   "execution_count": 47,
   "metadata": {},
   "outputs": [
    {
     "name": "stdout",
     "output_type": "stream",
     "text": [
      "X_train : (51, 35)\n",
      "X_test : (23, 35)\n",
      "y_train : (51,)\n",
      "y_test : (23,)\n"
     ]
    }
   ],
   "source": [
    "# Partition the dataset in train + validation sets\n",
    "X_train, X_test, y_train, y_test = train_test_split(X, y, test_size = 0.3, random_state = 0)\n",
    "\n",
    "print(\"X_train : \" + str(X_train.shape))\n",
    "print(\"X_test : \" + str(X_test.shape))\n",
    "print(\"y_train : \" + str(y_train.shape))\n",
    "print(\"y_test : \" + str(y_test.shape))"
   ]
  },
  {
   "cell_type": "markdown",
   "metadata": {},
   "source": [
    "### Scale numeric feats"
   ]
  },
  {
   "cell_type": "code",
   "execution_count": 48,
   "metadata": {
    "collapsed": true
   },
   "outputs": [],
   "source": [
    "# Standardize numerical features, not using Standard scaler but log2 DESeq2 counts should be relatively normal?\n",
    "robSc = RobustScaler()\n",
    "\n",
    "X_scaled = robSc.fit_transform(X)\n",
    "X_trainS = robSc.fit_transform(X_train)\n",
    "X_testS = robSc.fit_transform(X_test)"
   ]
  },
  {
   "cell_type": "markdown",
   "metadata": {},
   "source": [
    "### LASSO MODEL"
   ]
  },
  {
   "cell_type": "code",
   "execution_count": 49,
   "metadata": {},
   "outputs": [
    {
     "name": "stdout",
     "output_type": "stream",
     "text": [
      "Best alpha : 0.006\n",
      "Best alpha : 0.0084\n",
      "Lasso RMSE on Training set : 0.51890154194\n",
      "Lasso RMSE on Test set : 0.548734948792\n"
     ]
    }
   ],
   "source": [
    "# Lasso\n",
    "\n",
    "# Parameter tuning\n",
    "lasso = LassoCV(alphas = [0.0001, 0.0003, 0.0006, 0.001, 0.003, 0.006, 0.01, 0.03, 0.06, 0.1, \n",
    "                          0.3, 0.6, 1], \n",
    "                max_iter = 50000, cv = 10)\n",
    "lasso.fit(X_scaled, y)\n",
    "alpha = lasso.alpha_\n",
    "print(\"Best alpha :\", alpha)\n",
    "# print(\"Try again for more precision with alphas centered around \" + str(alpha))\n",
    "\n",
    "\n",
    "# Run with greater precision \n",
    "lasso = LassoCV(alphas = [alpha * .6, alpha * .65, alpha * .7, alpha * .75, alpha * .8, \n",
    "                          alpha * .85, alpha * .9, alpha * .95, alpha, alpha * 1.05, \n",
    "                          alpha * 1.1, alpha * 1.15, alpha * 1.25, alpha * 1.3, alpha * 1.35, \n",
    "                          alpha * 1.4], \n",
    "                max_iter = 50000, cv = 10)\n",
    "lasso.fit(X_trainS, y_train)\n",
    "alpha = lasso.alpha_\n",
    "print(\"Best alpha :\", alpha)\n",
    "\n",
    "print(\"Lasso RMSE on Training set :\", rmse_cv_train(lasso).mean())\n",
    "print(\"Lasso RMSE on Test set :\", rmse_cv_test(lasso).mean())\n",
    "y_train_las = lasso.predict(X_trainS)\n",
    "y_test_las = lasso.predict(X_testS)"
   ]
  },
  {
   "cell_type": "markdown",
   "metadata": {},
   "source": [
    "### Plot fits "
   ]
  },
  {
   "cell_type": "code",
   "execution_count": 50,
   "metadata": {},
   "outputs": [
    {
     "data": {
      "text/plain": [
       "<matplotlib.axes._subplots.AxesSubplot at 0x116f71908>"
      ]
     },
     "execution_count": 50,
     "metadata": {},
     "output_type": "execute_result"
    },
    {
     "data": {
      "image/png": "[encoded data removed]",
      "text/plain": [
       "<matplotlib.figure.Figure at 0x1173446d8>"
      ]
     },
     "metadata": {},
     "output_type": "display_data"
    }
   ],
   "source": [
    "sns.regplot(x=y_train, y=y_train_las)"
   ]
  },
  {
   "cell_type": "code",
   "execution_count": 51,
   "metadata": {},
   "outputs": [
    {
     "name": "stdout",
     "output_type": "stream",
     "text": [
      "R2= 0.920829257888\n"
     ]
    }
   ],
   "source": [
    "accuracy = metrics.r2_score(y_train, y_train_las)\n",
    "print(\"R2=\", accuracy)"
   ]
  },
  {
   "cell_type": "code",
   "execution_count": 52,
   "metadata": {},
   "outputs": [
    {
     "data": {
      "text/plain": [
       "<matplotlib.axes._subplots.AxesSubplot at 0x11726c860>"
      ]
     },
     "execution_count": 52,
     "metadata": {},
     "output_type": "execute_result"
    },
    {
     "data": {
      "image/png": "[encoded data removed]",
      "text/plain": [
       "<matplotlib.figure.Figure at 0x1174a1320>"
      ]
     },
     "metadata": {},
     "output_type": "display_data"
    }
   ],
   "source": [
    "sns.regplot(x=y_test, y=y_test_las)"
   ]
  },
  {
   "cell_type": "code",
   "execution_count": 53,
   "metadata": {},
   "outputs": [
    {
     "name": "stdout",
     "output_type": "stream",
     "text": [
      "R2= 0.67139552454\n"
     ]
    }
   ],
   "source": [
    "accuracy = metrics.r2_score(y_test, y_test_las)\n",
    "print(\"R2=\", accuracy)"
   ]
  },
  {
   "cell_type": "markdown",
   "metadata": {},
   "source": [
    "### Plot scaled coeffs"
   ]
  },
  {
   "cell_type": "code",
   "execution_count": 54,
   "metadata": {},
   "outputs": [
    {
     "data": {
      "text/plain": [
       "<matplotlib.axes._subplots.AxesSubplot at 0x1173cd860>"
      ]
     },
     "execution_count": 54,
     "metadata": {},
     "output_type": "execute_result"
    },
    {
     "data": {
      "image/png": "[encoded data removed]",
      "text/plain": [
       "<matplotlib.figure.Figure at 0x117698320>"
      ]
     },
     "metadata": {},
     "output_type": "display_data"
    }
   ],
   "source": [
    "# Extract scaled coefficients\n",
    "coef = pd.Series(lasso.coef_, index = X_train.columns)\n",
    "\n",
    "# Get top 20 most important features\n",
    "imp_coef = pd.concat([coef.sort_values().head(10),\n",
    "                     coef.sort_values().tail(10)])\n",
    "\n",
    "imp_coef = pd.DataFrame(imp_coef)                    # Make coef data frame\n",
    "imp_coef.columns= [\"coef\"]                           # Name first column coef \n",
    "imp_coef['var'] = imp_coef.index                      # add KOs\n",
    "#imp_coef\n",
    "\n",
    "imp_coef['KO'] = imp_coef.index                      # add KOs\n",
    "coef_info = pd.merge(imp_coef, gene_ontol_colors, how='left')    # Merge with colors, ontology (incl sm. name)\n",
    "#pal = coef_info['color']                             # get colors\n",
    "\n",
    "# Display coefficients, colored by gene category\n",
    "\n",
    "sns.barplot(data=imp_coef, y='var', x='coef', color=\"slategrey\")#, palette=pal) #, orient='h')\n",
    "sns.despine()\n",
    "#coef\n",
    "# imp_coef\n",
    "\n",
    "# To merge colors including genes / env\n",
    "imp_coef['KO'] = imp_coef.index                      # add KOs\n",
    "\n",
    "coef_info = pd.merge(imp_coef, gene_ontol_colors, how='left')            # Merge with colors, ontology (incl sm. name)\n",
    "coef_info['sm_name'] = coef_info['sm_name'].fillna(coef_info['var'])     # fill missing from genes\n",
    "coef_info['color'] = coef_info['color'].fillna('#708090')                # fill missing colors, here slate grey\n",
    "pal = coef_info['color']                             # get colors\n",
    "\n",
    "sns.barplot(data=coef_info, y='sm_name', x='coef', palette=pal) #, orient='h')\n"
   ]
  },
  {
   "cell_type": "code",
   "execution_count": 55,
   "metadata": {},
   "outputs": [
    {
     "data": {
      "image/png": "[encoded data removed]",
      "text/plain": [
       "<matplotlib.figure.Figure at 0x117542ac8>"
      ]
     },
     "metadata": {},
     "output_type": "display_data"
    }
   ],
   "source": [
    "from matplotlib.backends.backend_pdf import PdfPages\n",
    "#pp = PdfPages(\"test_Lasso_SOILS_all_sites.pdf\")                     # Initialize the pdf file\n",
    "# PP = PdfPages(\"test_Lasso_GENES_SOILS.pdf\")\n",
    "\n",
    "fig = plt.figure(figsize=(4, 4))           # Define plot\n",
    "sns.barplot(data=coef_info, y='sm_name', x='coef', palette=pal) #, orient='h')\n",
    "fig.tight_layout()                    # Make tight layout\n",
    "#pp.savefig()                            # Save the figure PDF created at top, else add file name .pdf  or  \n",
    "#pp.close()   # Close the file"
   ]
  },
  {
   "cell_type": "code",
   "execution_count": null,
   "metadata": {
    "collapsed": true
   },
   "outputs": [],
   "source": []
  },
  {
   "cell_type": "raw",
   "metadata": {
    "collapsed": true
   },
   "source": [
    "## Randomized lasso\n",
    "lasso = RandomizedLasso()\n",
    "lasso.fit(X_trainS, y_train)\n",
    "#lasso\n",
    "lasso.scores_"
   ]
  },
  {
   "cell_type": "markdown",
   "metadata": {},
   "source": [
    "### Get crazy, combine soils with genes --sloppy approach "
   ]
  },
  {
   "cell_type": "code",
   "execution_count": 56,
   "metadata": {},
   "outputs": [
    {
     "data": {
      "text/html": [
       "<div>\n",
       "<style>\n",
       "    .dataframe thead tr:only-child th {\n",
       "        text-align: right;\n",
       "    }\n",
       "\n",
       "    .dataframe thead th {\n",
       "        text-align: left;\n",
       "    }\n",
       "\n",
       "    .dataframe tbody tr th {\n",
       "        vertical-align: top;\n",
       "    }\n",
       "</style>\n",
       "<table border=\"1\" class=\"dataframe\">\n",
       "  <thead>\n",
       "    <tr style=\"text-align: right;\">\n",
       "      <th></th>\n",
       "      <th>CH4_ug_m2_h</th>\n",
       "      <th>Salinity</th>\n",
       "      <th>Bulk_dens</th>\n",
       "      <th>H2O_FPS</th>\n",
       "      <th>CO2_mg_m2_h</th>\n",
       "      <th>CO2_soilC_mg_g_d</th>\n",
       "      <th>pH</th>\n",
       "      <th>Cl</th>\n",
       "      <th>SO4</th>\n",
       "      <th>Corg_LOI</th>\n",
       "      <th>...</th>\n",
       "      <th>K00581</th>\n",
       "      <th>K00582</th>\n",
       "      <th>K00583</th>\n",
       "      <th>K00584</th>\n",
       "      <th>K00399</th>\n",
       "      <th>K00401</th>\n",
       "      <th>K00402</th>\n",
       "      <th>K03388</th>\n",
       "      <th>K03389</th>\n",
       "      <th>K03390</th>\n",
       "    </tr>\n",
       "    <tr>\n",
       "      <th>Sample</th>\n",
       "      <th></th>\n",
       "      <th></th>\n",
       "      <th></th>\n",
       "      <th></th>\n",
       "      <th></th>\n",
       "      <th></th>\n",
       "      <th></th>\n",
       "      <th></th>\n",
       "      <th></th>\n",
       "      <th></th>\n",
       "      <th></th>\n",
       "      <th></th>\n",
       "      <th></th>\n",
       "      <th></th>\n",
       "      <th></th>\n",
       "      <th></th>\n",
       "      <th></th>\n",
       "      <th></th>\n",
       "      <th></th>\n",
       "      <th></th>\n",
       "      <th></th>\n",
       "    </tr>\n",
       "  </thead>\n",
       "  <tbody>\n",
       "    <tr>\n",
       "      <th>Sandmound_TuleA_D1</th>\n",
       "      <td>0.650605</td>\n",
       "      <td>-0.226634</td>\n",
       "      <td>-0.576150</td>\n",
       "      <td>1.931627</td>\n",
       "      <td>0.170561</td>\n",
       "      <td>-2.213225</td>\n",
       "      <td>0.789581</td>\n",
       "      <td>1.142702</td>\n",
       "      <td>1.713491</td>\n",
       "      <td>1.164055</td>\n",
       "      <td>...</td>\n",
       "      <td>5.3621</td>\n",
       "      <td>3.4160</td>\n",
       "      <td>3.5268</td>\n",
       "      <td>6.0655</td>\n",
       "      <td>5.2508</td>\n",
       "      <td>5.0656</td>\n",
       "      <td>5.0656</td>\n",
       "      <td>13.440</td>\n",
       "      <td>10.7990</td>\n",
       "      <td>9.3264</td>\n",
       "    </tr>\n",
       "    <tr>\n",
       "      <th>Sandmound_TuleB_D1</th>\n",
       "      <td>0.000000</td>\n",
       "      <td>-0.219956</td>\n",
       "      <td>-0.605605</td>\n",
       "      <td>1.902172</td>\n",
       "      <td>0.620485</td>\n",
       "      <td>-1.740932</td>\n",
       "      <td>0.797268</td>\n",
       "      <td>1.149835</td>\n",
       "      <td>1.599883</td>\n",
       "      <td>1.171141</td>\n",
       "      <td>...</td>\n",
       "      <td>5.0868</td>\n",
       "      <td>2.5844</td>\n",
       "      <td>3.3865</td>\n",
       "      <td>6.0712</td>\n",
       "      <td>4.9700</td>\n",
       "      <td>5.3885</td>\n",
       "      <td>4.6521</td>\n",
       "      <td>13.485</td>\n",
       "      <td>10.7530</td>\n",
       "      <td>9.3174</td>\n",
       "    </tr>\n",
       "    <tr>\n",
       "      <th>Sandmound_TuleC_D1</th>\n",
       "      <td>-0.033444</td>\n",
       "      <td>-0.246824</td>\n",
       "      <td>-0.619023</td>\n",
       "      <td>1.925604</td>\n",
       "      <td>0.246613</td>\n",
       "      <td>-2.131642</td>\n",
       "      <td>0.796574</td>\n",
       "      <td>1.116608</td>\n",
       "      <td>1.598791</td>\n",
       "      <td>1.201397</td>\n",
       "      <td>...</td>\n",
       "      <td>4.0737</td>\n",
       "      <td>2.9406</td>\n",
       "      <td>2.6417</td>\n",
       "      <td>5.0259</td>\n",
       "      <td>4.1627</td>\n",
       "      <td>5.1572</td>\n",
       "      <td>4.5361</td>\n",
       "      <td>13.018</td>\n",
       "      <td>10.4320</td>\n",
       "      <td>9.1730</td>\n",
       "    </tr>\n",
       "    <tr>\n",
       "      <th>Sandmound_ThreeSqB_D1</th>\n",
       "      <td>-0.179321</td>\n",
       "      <td>-0.233021</td>\n",
       "      <td>-0.619023</td>\n",
       "      <td>1.925604</td>\n",
       "      <td>0.422326</td>\n",
       "      <td>-1.944022</td>\n",
       "      <td>0.795880</td>\n",
       "      <td>1.209515</td>\n",
       "      <td>1.914343</td>\n",
       "      <td>1.189490</td>\n",
       "      <td>...</td>\n",
       "      <td>3.3094</td>\n",
       "      <td>2.9138</td>\n",
       "      <td>3.3094</td>\n",
       "      <td>4.7695</td>\n",
       "      <td>3.5973</td>\n",
       "      <td>4.8208</td>\n",
       "      <td>4.0243</td>\n",
       "      <td>11.708</td>\n",
       "      <td>9.9628</td>\n",
       "      <td>8.7866</td>\n",
       "    </tr>\n",
       "    <tr>\n",
       "      <th>Sandmound_ThreeSqC_D1</th>\n",
       "      <td>0.000000</td>\n",
       "      <td>-0.199671</td>\n",
       "      <td>-0.655601</td>\n",
       "      <td>1.906830</td>\n",
       "      <td>0.701456</td>\n",
       "      <td>-1.656043</td>\n",
       "      <td>0.808886</td>\n",
       "      <td>1.138618</td>\n",
       "      <td>1.750508</td>\n",
       "      <td>1.217221</td>\n",
       "      <td>...</td>\n",
       "      <td>2.6625</td>\n",
       "      <td>2.6625</td>\n",
       "      <td>2.6625</td>\n",
       "      <td>4.3809</td>\n",
       "      <td>4.0288</td>\n",
       "      <td>4.3012</td>\n",
       "      <td>3.8093</td>\n",
       "      <td>11.643</td>\n",
       "      <td>10.0210</td>\n",
       "      <td>8.9589</td>\n",
       "    </tr>\n",
       "  </tbody>\n",
       "</table>\n",
       "<p>5 rows × 292 columns</p>\n",
       "</div>"
      ],
      "text/plain": [
       "                       CH4_ug_m2_h  Salinity  Bulk_dens   H2O_FPS  \\\n",
       "Sample                                                              \n",
       "Sandmound_TuleA_D1        0.650605 -0.226634  -0.576150  1.931627   \n",
       "Sandmound_TuleB_D1        0.000000 -0.219956  -0.605605  1.902172   \n",
       "Sandmound_TuleC_D1       -0.033444 -0.246824  -0.619023  1.925604   \n",
       "Sandmound_ThreeSqB_D1    -0.179321 -0.233021  -0.619023  1.925604   \n",
       "Sandmound_ThreeSqC_D1     0.000000 -0.199671  -0.655601  1.906830   \n",
       "\n",
       "                       CO2_mg_m2_h  CO2_soilC_mg_g_d        pH        Cl  \\\n",
       "Sample                                                                     \n",
       "Sandmound_TuleA_D1        0.170561         -2.213225  0.789581  1.142702   \n",
       "Sandmound_TuleB_D1        0.620485         -1.740932  0.797268  1.149835   \n",
       "Sandmound_TuleC_D1        0.246613         -2.131642  0.796574  1.116608   \n",
       "Sandmound_ThreeSqB_D1     0.422326         -1.944022  0.795880  1.209515   \n",
       "Sandmound_ThreeSqC_D1     0.701456         -1.656043  0.808886  1.138618   \n",
       "\n",
       "                            SO4  Corg_LOI   ...    K00581  K00582  K00583  \\\n",
       "Sample                                      ...                             \n",
       "Sandmound_TuleA_D1     1.713491  1.164055   ...    5.3621  3.4160  3.5268   \n",
       "Sandmound_TuleB_D1     1.599883  1.171141   ...    5.0868  2.5844  3.3865   \n",
       "Sandmound_TuleC_D1     1.598791  1.201397   ...    4.0737  2.9406  2.6417   \n",
       "Sandmound_ThreeSqB_D1  1.914343  1.189490   ...    3.3094  2.9138  3.3094   \n",
       "Sandmound_ThreeSqC_D1  1.750508  1.217221   ...    2.6625  2.6625  2.6625   \n",
       "\n",
       "                       K00584  K00399  K00401  K00402  K03388   K03389  K03390  \n",
       "Sample                                                                          \n",
       "Sandmound_TuleA_D1     6.0655  5.2508  5.0656  5.0656  13.440  10.7990  9.3264  \n",
       "Sandmound_TuleB_D1     6.0712  4.9700  5.3885  4.6521  13.485  10.7530  9.3174  \n",
       "Sandmound_TuleC_D1     5.0259  4.1627  5.1572  4.5361  13.018  10.4320  9.1730  \n",
       "Sandmound_ThreeSqB_D1  4.7695  3.5973  4.8208  4.0243  11.708   9.9628  8.7866  \n",
       "Sandmound_ThreeSqC_D1  4.3809  4.0288  4.3012  3.8093  11.643  10.0210  8.9589  \n",
       "\n",
       "[5 rows x 292 columns]"
      ]
     },
     "execution_count": 56,
     "metadata": {},
     "output_type": "execute_result"
    }
   ],
   "source": [
    "chem_ML['Sample'] = chem_ML.index\n",
    "chem_genes = pd.merge(chem_ML, CH4nps_KOabund_T, on='Sample')\n",
    "chem_genes = chem_genes.set_index('Sample')\n",
    "chem_genes.head()\n",
    "#chem_mL.head()\n",
    "#chem_ML = chem_mL"
   ]
  },
  {
   "cell_type": "markdown",
   "metadata": {},
   "source": [
    "## LASSO method"
   ]
  },
  {
   "cell_type": "markdown",
   "metadata": {},
   "source": [
    "### Split x and y data"
   ]
  },
  {
   "cell_type": "code",
   "execution_count": 57,
   "metadata": {
    "collapsed": true
   },
   "outputs": [],
   "source": [
    "X = chem_genes.drop(env_var,1)\n",
    "y = chem_genes[env_var]"
   ]
  },
  {
   "cell_type": "markdown",
   "metadata": {},
   "source": [
    "### Split test train"
   ]
  },
  {
   "cell_type": "code",
   "execution_count": 58,
   "metadata": {},
   "outputs": [
    {
     "name": "stdout",
     "output_type": "stream",
     "text": [
      "X_train : (42, 291)\n",
      "X_test : (18, 291)\n",
      "y_train : (42,)\n",
      "y_test : (18,)\n"
     ]
    }
   ],
   "source": [
    "# Partition the dataset in train + validation sets\n",
    "X_train, X_test, y_train, y_test = train_test_split(X, y, test_size = 0.3, random_state = 0)\n",
    "\n",
    "print(\"X_train : \" + str(X_train.shape))\n",
    "print(\"X_test : \" + str(X_test.shape))\n",
    "print(\"y_train : \" + str(y_train.shape))\n",
    "print(\"y_test : \" + str(y_test.shape))"
   ]
  },
  {
   "cell_type": "markdown",
   "metadata": {},
   "source": [
    "### Scale numeric feats"
   ]
  },
  {
   "cell_type": "code",
   "execution_count": 59,
   "metadata": {
    "collapsed": true
   },
   "outputs": [],
   "source": [
    "# Standardize numerical features, not using Standard scaler but log2 DESeq2 counts should be relatively normal?\n",
    "robSc = RobustScaler()\n",
    "\n",
    "X_scaled = robSc.fit_transform(X)\n",
    "X_trainS = robSc.fit_transform(X_train)\n",
    "X_testS = robSc.fit_transform(X_test)"
   ]
  },
  {
   "cell_type": "markdown",
   "metadata": {},
   "source": [
    "### LASSO MODEL"
   ]
  },
  {
   "cell_type": "code",
   "execution_count": 60,
   "metadata": {},
   "outputs": [
    {
     "name": "stdout",
     "output_type": "stream",
     "text": [
      "Best alpha : 0.03\n",
      "Best alpha : 0.0285\n",
      "Lasso RMSE on Training set : 0.624271266149\n",
      "Lasso RMSE on Test set : 0.535812278425\n"
     ]
    }
   ],
   "source": [
    "# Lasso\n",
    "\n",
    "# Parameter tuning\n",
    "lasso = LassoCV(alphas = [0.0001, 0.0003, 0.0006, 0.001, 0.003, 0.006, 0.01, 0.03, 0.06, 0.1, \n",
    "                          0.3, 0.6, 1], \n",
    "                max_iter = 50000, cv = 10)\n",
    "lasso.fit(X_trainS, y_train)\n",
    "alpha = lasso.alpha_\n",
    "print(\"Best alpha :\", alpha)\n",
    "# print(\"Try again for more precision with alphas centered around \" + str(alpha))\n",
    "\n",
    "\n",
    "# Run with greater precision \n",
    "lasso = LassoCV(alphas = [alpha * .6, alpha * .65, alpha * .7, alpha * .75, alpha * .8, \n",
    "                          alpha * .85, alpha * .9, alpha * .95, alpha, alpha * 1.05, \n",
    "                          alpha * 1.1, alpha * 1.15, alpha * 1.25, alpha * 1.3, alpha * 1.35, \n",
    "                          alpha * 1.4], \n",
    "                max_iter = 50000, cv = 10)\n",
    "lasso.fit(X_trainS, y_train)\n",
    "alpha = lasso.alpha_\n",
    "print(\"Best alpha :\", alpha)\n",
    "\n",
    "print(\"Lasso RMSE on Training set :\", rmse_cv_train(lasso).mean())\n",
    "print(\"Lasso RMSE on Test set :\", rmse_cv_test(lasso).mean())\n",
    "y_train_las = lasso.predict(X_trainS)\n",
    "y_test_las = lasso.predict(X_testS)"
   ]
  },
  {
   "cell_type": "markdown",
   "metadata": {},
   "source": [
    "## Randomized Lasso"
   ]
  },
  {
   "cell_type": "raw",
   "metadata": {},
   "source": []
  },
  {
   "cell_type": "markdown",
   "metadata": {},
   "source": [
    "### Extract random Lasso"
   ]
  },
  {
   "cell_type": "raw",
   "metadata": {},
   "source": []
  },
  {
   "cell_type": "markdown",
   "metadata": {},
   "source": [
    "### Plot fits "
   ]
  },
  {
   "cell_type": "code",
   "execution_count": 61,
   "metadata": {},
   "outputs": [
    {
     "data": {
      "text/plain": [
       "<matplotlib.axes._subplots.AxesSubplot at 0x117aac6d8>"
      ]
     },
     "execution_count": 61,
     "metadata": {},
     "output_type": "execute_result"
    },
    {
     "data": {
      "image/png": "[encoded data removed]",
      "text/plain": [
       "<matplotlib.figure.Figure at 0x117ada4e0>"
      ]
     },
     "metadata": {},
     "output_type": "display_data"
    }
   ],
   "source": [
    "sns.regplot(x=y_train, y=y_train_las)"
   ]
  },
  {
   "cell_type": "code",
   "execution_count": 62,
   "metadata": {},
   "outputs": [
    {
     "name": "stdout",
     "output_type": "stream",
     "text": [
      "R2= 0.961208239301\n"
     ]
    }
   ],
   "source": [
    "accuracy = metrics.r2_score(y_train, y_train_las)\n",
    "print(\"R2=\", accuracy)"
   ]
  },
  {
   "cell_type": "code",
   "execution_count": 63,
   "metadata": {},
   "outputs": [
    {
     "data": {
      "text/plain": [
       "<matplotlib.axes._subplots.AxesSubplot at 0x117c48c18>"
      ]
     },
     "execution_count": 63,
     "metadata": {},
     "output_type": "execute_result"
    },
    {
     "data": {
      "image/png": "[encoded data removed]",
      "text/plain": [
       "<matplotlib.figure.Figure at 0x117c23080>"
      ]
     },
     "metadata": {},
     "output_type": "display_data"
    }
   ],
   "source": [
    "sns.regplot(x=y_test, y=y_test_las)"
   ]
  },
  {
   "cell_type": "code",
   "execution_count": 64,
   "metadata": {},
   "outputs": [
    {
     "name": "stdout",
     "output_type": "stream",
     "text": [
      "R2= -0.0075811645855\n"
     ]
    }
   ],
   "source": [
    "accuracy = metrics.r2_score(y_test, y_test_las)\n",
    "print(\"R2=\", accuracy)"
   ]
  },
  {
   "cell_type": "markdown",
   "metadata": {},
   "source": [
    "### Plot scaled coeffs"
   ]
  },
  {
   "cell_type": "code",
   "execution_count": 65,
   "metadata": {},
   "outputs": [
    {
     "data": {
      "text/plain": [
       "<matplotlib.axes._subplots.AxesSubplot at 0x11726cef0>"
      ]
     },
     "execution_count": 65,
     "metadata": {},
     "output_type": "execute_result"
    },
    {
     "data": {
      "image/png": "[encoded data removed]",
      "text/plain": [
       "<matplotlib.figure.Figure at 0x1172cfc18>"
      ]
     },
     "metadata": {},
     "output_type": "display_data"
    }
   ],
   "source": [
    "# Extract scaled coefficients\n",
    "coef = pd.Series(lasso.coef_, index = X_train.columns)\n",
    "\n",
    "# Get top 20 most important features\n",
    "imp_coef = pd.concat([coef.sort_values().head(10),\n",
    "                     coef.sort_values().tail(10)])\n",
    "\n",
    "imp_coef = pd.DataFrame(imp_coef)                    # Make coef data frame\n",
    "imp_coef.columns= [\"coef\"]                           # Name first column coef \n",
    "imp_coef['var'] = imp_coef.index                      # add KOs\n",
    "#imp_coef\n",
    "\n",
    "imp_coef['KO'] = imp_coef.index                      # add KOs\n",
    "coef_info = pd.merge(imp_coef, gene_ontol_colors, how='left')    # Merge with colors, ontology (incl sm. name)\n",
    "#pal = coef_info['color']                             # get colors\n",
    "\n",
    "# Display coefficients, colored by gene category\n",
    "\n",
    "sns.barplot(data=imp_coef, y='var', x='coef', color=\"slategrey\")#, palette=pal) #, orient='h')\n",
    "sns.despine()\n",
    "#coef\n",
    "# imp_coef\n",
    "\n",
    "# To merge colors including genes / env\n",
    "imp_coef['KO'] = imp_coef.index                      # add KOs\n",
    "\n",
    "coef_info = pd.merge(imp_coef, gene_ontol_colors, how='left')            # Merge with colors, ontology (incl sm. name)\n",
    "coef_info['sm_name'] = coef_info['sm_name'].fillna(coef_info['var'])     # fill missing from genes\n",
    "coef_info['color'] = coef_info['color'].fillna('#708090')                # fill missing colors, here slate grey\n",
    "pal = coef_info['color']                             # get colors\n",
    "\n",
    "sns.barplot(data=coef_info, y='sm_name', x='coef', palette=pal) #, orient='h')\n"
   ]
  },
  {
   "cell_type": "code",
   "execution_count": 66,
   "metadata": {},
   "outputs": [
    {
     "data": {
      "image/png": "[encoded data removed]",
      "text/plain": [
       "<matplotlib.figure.Figure at 0x1082ece80>"
      ]
     },
     "metadata": {},
     "output_type": "display_data"
    }
   ],
   "source": [
    "from matplotlib.backends.backend_pdf import PdfPages\n",
    "#pp = PdfPages(\"test_Lasso_SOILS_Genes_all_sites.pdf\")                     # Initialize the pdf file\n",
    "# PP = PdfPages(\"test_Lasso_GENES_SOILS.pdf\")\n",
    "\n",
    "fig = plt.figure(figsize=(5, 4))           # Define plot\n",
    "sns.barplot(data=coef_info, y='sm_name', x='coef', palette=pal) #, orient='h')\n",
    "fig.tight_layout()                    # Make tight layout\n",
    "#pp.savefig()                            # Save the figure PDF created at top, else add file name .pdf  or  \n",
    "#pp.close()   # Close the file"
   ]
  },
  {
   "cell_type": "markdown",
   "metadata": {},
   "source": [
    "## Randomized Lasso"
   ]
  },
  {
   "cell_type": "code",
   "execution_count": 67,
   "metadata": {},
   "outputs": [
    {
     "data": {
      "text/plain": [
       "RandomizedLasso(alpha='aic', eps=2.2204460492503131e-16, fit_intercept=True,\n",
       "        max_iter=500, memory=Memory(cachedir=None), n_jobs=1,\n",
       "        n_resampling=200, normalize=True, pre_dispatch='3*n_jobs',\n",
       "        precompute='auto', random_state=None, sample_fraction=0.75,\n",
       "        scaling=0.5, selection_threshold=0.25, verbose=False)"
      ]
     },
     "execution_count": 67,
     "metadata": {},
     "output_type": "execute_result"
    }
   ],
   "source": [
    "# Lasso\n",
    "\n",
    "# Parameter tuning\n",
    "#lasso = RandomizedLasso(alphas = [0.0001, 0.0003, 0.0006, 0.001, 0.003, 0.006, 0.01, 0.03, 0.06, 0.1, \n",
    "#                          0.3, 0.6, 1], \n",
    "#                max_iter = 50000, cv = 10)\n",
    "#lasso.fit(X_trainS, y_train)\n",
    "#alpha = lasso.alpha_\n",
    "#print(\"Best alpha :\", alpha)\n",
    "# print(\"Try again for more precision with alphas centered around \" + str(alpha))\n",
    "\n",
    "\n",
    "# Run with greater precision \n",
    "lasso = RandomizedLasso()\n",
    "#lasso = LassoCV(alphas = [alpha * .6, alpha * .65, alpha * .7, alpha * .75, alpha * .8, \n",
    "#                          alpha * .85, alpha * .9, alpha * .95, alpha, alpha * 1.05, \n",
    "#                          alpha * 1.1, alpha * 1.15, alpha * 1.25, alpha * 1.3, alpha * 1.35, \n",
    "#                          alpha * 1.4], \n",
    "#                max_iter = 50000, cv = 10)\n",
    "lasso.fit(X_trainS, y_train)\n",
    "#alpha = lasso.alpha_\n",
    "#print(\"Best alpha :\", alpha)\n",
    "\n",
    "#print(\"Lasso RMSE on Training set :\", rmse_cv_train(lasso).mean())\n",
    "#print(\"Lasso RMSE on Test set :\", rmse_cv_test(lasso).mean())\n",
    "#y_train_las = lasso.predict(X_trainS)\n",
    "#y_test_las = lasso.predict(X_testS)\n",
    "\n",
    "lasso\n",
    "#lasso.scores_"
   ]
  },
  {
   "cell_type": "markdown",
   "metadata": {},
   "source": [
    "## Extract random lasso"
   ]
  },
  {
   "cell_type": "raw",
   "metadata": {},
   "source": [
    "# Extract scaled coefficients  -- Random lasso\n",
    "coef = pd.Series(lasso.scores_, index = X_train.columns)\n",
    "\n",
    "# Get top 20 most important features\n",
    "imp_coef = coef.sort_values().tail(12)\n",
    "\n",
    "imp_coef = pd.DataFrame(imp_coef)                    # Make coef data frame\n",
    "imp_coef.columns= [\"coef\"]                           # Name first column coef \n",
    "imp_coef['var'] = imp_coef.index                      # add KOs\n",
    "#imp_coef\n",
    "\n",
    "imp_coef['KO'] = imp_coef.index                      # add KOs\n",
    "coef_info = pd.merge(imp_coef, gene_ontol_colors, how='left')    # Merge with colors, ontology (incl sm. name)\n",
    "#pal = coef_info['color']                             # get colors\n",
    "\n",
    "# Display coefficients, colored by gene category\n",
    "\n",
    "sns.barplot(data=imp_coef, y='var', x='coef', color=\"slategrey\")#, palette=pal) #, orient='h')\n",
    "sns.despine()\n",
    "#coef\n",
    "# imp_coef\n",
    "\n",
    "# To merge colors including genes / env\n",
    "imp_coef['KO'] = imp_coef.index                      # add KOs\n",
    "\n",
    "coef_info = pd.merge(imp_coef, gene_ontol_colors, how='left')            # Merge with colors, ontology (incl sm. name)\n",
    "coef_info['sm_name'] = coef_info['sm_name'].fillna(coef_info['var'])     # fill missing from genes\n",
    "coef_info['color'] = coef_info['color'].fillna('#708090')                # fill missing colors, here slate grey\n",
    "pal = coef_info['color']                             # get colors\n",
    "\n",
    "sns.barplot(data=coef_info, y='sm_name', x='coef', palette=pal) #, orient='h')\n",
    "coef2 = coef.sort_values()\n",
    "coef2\n",
    "imp_coef\n",
    "lasso.all_scores_.max()"
   ]
  },
  {
   "cell_type": "code",
   "execution_count": 68,
   "metadata": {
    "collapsed": true
   },
   "outputs": [],
   "source": [
    "#env_var_df"
   ]
  },
  {
   "cell_type": "markdown",
   "metadata": {},
   "source": [
    "# Import 16S guilds"
   ]
  },
  {
   "cell_type": "markdown",
   "metadata": {},
   "source": [
    "### Import guild counts"
   ]
  },
  {
   "cell_type": "code",
   "execution_count": 69,
   "metadata": {
    "collapsed": true
   },
   "outputs": [],
   "source": [
    "Guild_counts = pd.read_csv('OTU_Guild_abundT_counts.txt', sep='\\t')#, index_col=0)      # RAST_KO_ordered133_R2_F200_DESeq2_nrm.txt"
   ]
  },
  {
   "cell_type": "code",
   "execution_count": 70,
   "metadata": {},
   "outputs": [
    {
     "data": {
      "text/html": [
       "<div>\n",
       "<style>\n",
       "    .dataframe thead tr:only-child th {\n",
       "        text-align: right;\n",
       "    }\n",
       "\n",
       "    .dataframe thead th {\n",
       "        text-align: left;\n",
       "    }\n",
       "\n",
       "    .dataframe tbody tr th {\n",
       "        vertical-align: top;\n",
       "    }\n",
       "</style>\n",
       "<table border=\"1\" class=\"dataframe\">\n",
       "  <thead>\n",
       "    <tr style=\"text-align: right;\">\n",
       "      <th></th>\n",
       "      <th>CH4_H2</th>\n",
       "      <th>CH4_ac</th>\n",
       "      <th>MOB_I</th>\n",
       "      <th>MOB_II</th>\n",
       "      <th>MOB_IIa</th>\n",
       "      <th>MeOB</th>\n",
       "      <th>AOA</th>\n",
       "      <th>AOB</th>\n",
       "      <th>NOB</th>\n",
       "      <th>Anamx</th>\n",
       "      <th>SOxB</th>\n",
       "      <th>SRB_syn</th>\n",
       "      <th>SRB</th>\n",
       "      <th>FeOB</th>\n",
       "      <th>FeRB</th>\n",
       "      <th>Methanogen</th>\n",
       "      <th>Methanotroph</th>\n",
       "      <th>Methanogen_Troph</th>\n",
       "      <th>AOA_NOB</th>\n",
       "      <th>AO_NOB</th>\n",
       "    </tr>\n",
       "  </thead>\n",
       "  <tbody>\n",
       "    <tr>\n",
       "      <th>Sandmound_TuleA_D1</th>\n",
       "      <td>10.791848</td>\n",
       "      <td>8.213227</td>\n",
       "      <td>13.546500</td>\n",
       "      <td>0.0</td>\n",
       "      <td>13.262216</td>\n",
       "      <td>12.616351</td>\n",
       "      <td>14.307374</td>\n",
       "      <td>0.000000</td>\n",
       "      <td>15.440273</td>\n",
       "      <td>6.872190</td>\n",
       "      <td>11.322852</td>\n",
       "      <td>15.959300</td>\n",
       "      <td>14.433924</td>\n",
       "      <td>10.798190</td>\n",
       "      <td>12.284972</td>\n",
       "      <td>11.015148</td>\n",
       "      <td>14.411349</td>\n",
       "      <td>-3.396201</td>\n",
       "      <td>-1.132899</td>\n",
       "      <td>-1.132899</td>\n",
       "    </tr>\n",
       "    <tr>\n",
       "      <th>Sandmound_TuleA_D2</th>\n",
       "      <td>11.116336</td>\n",
       "      <td>9.157559</td>\n",
       "      <td>13.414017</td>\n",
       "      <td>0.0</td>\n",
       "      <td>13.498663</td>\n",
       "      <td>12.239033</td>\n",
       "      <td>13.961281</td>\n",
       "      <td>4.007812</td>\n",
       "      <td>16.065127</td>\n",
       "      <td>6.592774</td>\n",
       "      <td>11.850162</td>\n",
       "      <td>16.358337</td>\n",
       "      <td>15.680679</td>\n",
       "      <td>12.144803</td>\n",
       "      <td>12.124156</td>\n",
       "      <td>11.446604</td>\n",
       "      <td>14.456960</td>\n",
       "      <td>-3.010357</td>\n",
       "      <td>-2.103846</td>\n",
       "      <td>-2.102392</td>\n",
       "    </tr>\n",
       "    <tr>\n",
       "      <th>Sandmound_TuleB_D1</th>\n",
       "      <td>9.804864</td>\n",
       "      <td>0.000000</td>\n",
       "      <td>13.892327</td>\n",
       "      <td>0.0</td>\n",
       "      <td>11.389827</td>\n",
       "      <td>11.389827</td>\n",
       "      <td>13.612219</td>\n",
       "      <td>0.000000</td>\n",
       "      <td>15.052792</td>\n",
       "      <td>11.389827</td>\n",
       "      <td>12.974789</td>\n",
       "      <td>16.052792</td>\n",
       "      <td>17.062252</td>\n",
       "      <td>12.389827</td>\n",
       "      <td>13.264296</td>\n",
       "      <td>9.804864</td>\n",
       "      <td>14.126792</td>\n",
       "      <td>-4.321928</td>\n",
       "      <td>-1.440573</td>\n",
       "      <td>-1.440573</td>\n",
       "    </tr>\n",
       "    <tr>\n",
       "      <th>Sandmound_TuleB_D2</th>\n",
       "      <td>11.068043</td>\n",
       "      <td>8.681020</td>\n",
       "      <td>14.052042</td>\n",
       "      <td>0.0</td>\n",
       "      <td>13.626238</td>\n",
       "      <td>12.878425</td>\n",
       "      <td>14.229693</td>\n",
       "      <td>0.000000</td>\n",
       "      <td>16.268292</td>\n",
       "      <td>6.980580</td>\n",
       "      <td>12.468420</td>\n",
       "      <td>16.685996</td>\n",
       "      <td>16.064724</td>\n",
       "      <td>12.687939</td>\n",
       "      <td>12.920159</td>\n",
       "      <td>11.320430</td>\n",
       "      <td>14.854793</td>\n",
       "      <td>-3.534363</td>\n",
       "      <td>-2.038599</td>\n",
       "      <td>-2.038599</td>\n",
       "    </tr>\n",
       "    <tr>\n",
       "      <th>Sandmound_TuleC_D1</th>\n",
       "      <td>10.116270</td>\n",
       "      <td>6.883610</td>\n",
       "      <td>12.981642</td>\n",
       "      <td>0.0</td>\n",
       "      <td>13.071457</td>\n",
       "      <td>12.187390</td>\n",
       "      <td>14.386640</td>\n",
       "      <td>0.000000</td>\n",
       "      <td>15.452706</td>\n",
       "      <td>7.468572</td>\n",
       "      <td>10.837806</td>\n",
       "      <td>15.857451</td>\n",
       "      <td>14.232338</td>\n",
       "      <td>10.627771</td>\n",
       "      <td>12.150396</td>\n",
       "      <td>10.262121</td>\n",
       "      <td>14.027248</td>\n",
       "      <td>-3.765127</td>\n",
       "      <td>-1.066065</td>\n",
       "      <td>-1.066065</td>\n",
       "    </tr>\n",
       "  </tbody>\n",
       "</table>\n",
       "</div>"
      ],
      "text/plain": [
       "                       CH4_H2    CH4_ac      MOB_I  MOB_II    MOB_IIa  \\\n",
       "Sandmound_TuleA_D1  10.791848  8.213227  13.546500     0.0  13.262216   \n",
       "Sandmound_TuleA_D2  11.116336  9.157559  13.414017     0.0  13.498663   \n",
       "Sandmound_TuleB_D1   9.804864  0.000000  13.892327     0.0  11.389827   \n",
       "Sandmound_TuleB_D2  11.068043  8.681020  14.052042     0.0  13.626238   \n",
       "Sandmound_TuleC_D1  10.116270  6.883610  12.981642     0.0  13.071457   \n",
       "\n",
       "                         MeOB        AOA       AOB        NOB      Anamx  \\\n",
       "Sandmound_TuleA_D1  12.616351  14.307374  0.000000  15.440273   6.872190   \n",
       "Sandmound_TuleA_D2  12.239033  13.961281  4.007812  16.065127   6.592774   \n",
       "Sandmound_TuleB_D1  11.389827  13.612219  0.000000  15.052792  11.389827   \n",
       "Sandmound_TuleB_D2  12.878425  14.229693  0.000000  16.268292   6.980580   \n",
       "Sandmound_TuleC_D1  12.187390  14.386640  0.000000  15.452706   7.468572   \n",
       "\n",
       "                         SOxB    SRB_syn        SRB       FeOB       FeRB  \\\n",
       "Sandmound_TuleA_D1  11.322852  15.959300  14.433924  10.798190  12.284972   \n",
       "Sandmound_TuleA_D2  11.850162  16.358337  15.680679  12.144803  12.124156   \n",
       "Sandmound_TuleB_D1  12.974789  16.052792  17.062252  12.389827  13.264296   \n",
       "Sandmound_TuleB_D2  12.468420  16.685996  16.064724  12.687939  12.920159   \n",
       "Sandmound_TuleC_D1  10.837806  15.857451  14.232338  10.627771  12.150396   \n",
       "\n",
       "                    Methanogen  Methanotroph  Methanogen_Troph   AOA_NOB  \\\n",
       "Sandmound_TuleA_D1   11.015148     14.411349         -3.396201 -1.132899   \n",
       "Sandmound_TuleA_D2   11.446604     14.456960         -3.010357 -2.103846   \n",
       "Sandmound_TuleB_D1    9.804864     14.126792         -4.321928 -1.440573   \n",
       "Sandmound_TuleB_D2   11.320430     14.854793         -3.534363 -2.038599   \n",
       "Sandmound_TuleC_D1   10.262121     14.027248         -3.765127 -1.066065   \n",
       "\n",
       "                      AO_NOB  \n",
       "Sandmound_TuleA_D1 -1.132899  \n",
       "Sandmound_TuleA_D2 -2.102392  \n",
       "Sandmound_TuleB_D1 -1.440573  \n",
       "Sandmound_TuleB_D2 -2.038599  \n",
       "Sandmound_TuleC_D1 -1.066065  "
      ]
     },
     "execution_count": 70,
     "metadata": {},
     "output_type": "execute_result"
    }
   ],
   "source": [
    "# Log2 n+1 transform data\n",
    "Guild_counts2 = Guild_counts.replace(0,2)                     # For log n+1, replace 0 with 2\n",
    "Guild_countsLog2 = np.log2(Guild_counts2)                     # Get log2 data \n",
    "Guild_countsLog2 = Guild_countsLog2.replace(1,0)                  # Make 0 again 0\n",
    "\n",
    "Guild_countsLog2.head()"
   ]
  },
  {
   "cell_type": "code",
   "execution_count": 71,
   "metadata": {},
   "outputs": [
    {
     "data": {
      "text/html": [
       "<div>\n",
       "<style>\n",
       "    .dataframe thead tr:only-child th {\n",
       "        text-align: right;\n",
       "    }\n",
       "\n",
       "    .dataframe thead th {\n",
       "        text-align: left;\n",
       "    }\n",
       "\n",
       "    .dataframe tbody tr th {\n",
       "        vertical-align: top;\n",
       "    }\n",
       "</style>\n",
       "<table border=\"1\" class=\"dataframe\">\n",
       "  <thead>\n",
       "    <tr style=\"text-align: right;\">\n",
       "      <th></th>\n",
       "      <th>CH4_ug_m2_h</th>\n",
       "      <th>CH4_H2</th>\n",
       "      <th>CH4_ac</th>\n",
       "      <th>MOB_I</th>\n",
       "      <th>MOB_II</th>\n",
       "      <th>MOB_IIa</th>\n",
       "      <th>MeOB</th>\n",
       "      <th>AOA</th>\n",
       "      <th>AOB</th>\n",
       "      <th>NOB</th>\n",
       "      <th>Anamx</th>\n",
       "      <th>SOxB</th>\n",
       "      <th>SRB_syn</th>\n",
       "      <th>SRB</th>\n",
       "      <th>FeOB</th>\n",
       "      <th>FeRB</th>\n",
       "      <th>Methanogen</th>\n",
       "      <th>Methanotroph</th>\n",
       "    </tr>\n",
       "    <tr>\n",
       "      <th>Sample</th>\n",
       "      <th></th>\n",
       "      <th></th>\n",
       "      <th></th>\n",
       "      <th></th>\n",
       "      <th></th>\n",
       "      <th></th>\n",
       "      <th></th>\n",
       "      <th></th>\n",
       "      <th></th>\n",
       "      <th></th>\n",
       "      <th></th>\n",
       "      <th></th>\n",
       "      <th></th>\n",
       "      <th></th>\n",
       "      <th></th>\n",
       "      <th></th>\n",
       "      <th></th>\n",
       "      <th></th>\n",
       "    </tr>\n",
       "  </thead>\n",
       "  <tbody>\n",
       "    <tr>\n",
       "      <th>Sandmound_CattailA_D1</th>\n",
       "      <td>0.000000</td>\n",
       "      <td>11.280585</td>\n",
       "      <td>8.535966</td>\n",
       "      <td>14.155054</td>\n",
       "      <td>2.981377</td>\n",
       "      <td>13.763556</td>\n",
       "      <td>13.166253</td>\n",
       "      <td>12.787121</td>\n",
       "      <td>2.981377</td>\n",
       "      <td>15.351792</td>\n",
       "      <td>6.151302</td>\n",
       "      <td>12.352065</td>\n",
       "      <td>16.573250</td>\n",
       "      <td>15.594246</td>\n",
       "      <td>11.712696</td>\n",
       "      <td>13.313414</td>\n",
       "      <td>11.481223</td>\n",
       "      <td>14.972899</td>\n",
       "    </tr>\n",
       "    <tr>\n",
       "      <th>Sandmound_TuleA_D1</th>\n",
       "      <td>0.650605</td>\n",
       "      <td>10.791848</td>\n",
       "      <td>8.213227</td>\n",
       "      <td>13.546500</td>\n",
       "      <td>0.000000</td>\n",
       "      <td>13.262216</td>\n",
       "      <td>12.616351</td>\n",
       "      <td>14.307374</td>\n",
       "      <td>0.000000</td>\n",
       "      <td>15.440273</td>\n",
       "      <td>6.872190</td>\n",
       "      <td>11.322852</td>\n",
       "      <td>15.959300</td>\n",
       "      <td>14.433924</td>\n",
       "      <td>10.798190</td>\n",
       "      <td>12.284972</td>\n",
       "      <td>11.015148</td>\n",
       "      <td>14.411349</td>\n",
       "    </tr>\n",
       "    <tr>\n",
       "      <th>Sandmound_TuleB_D1</th>\n",
       "      <td>0.000000</td>\n",
       "      <td>9.804864</td>\n",
       "      <td>0.000000</td>\n",
       "      <td>13.892327</td>\n",
       "      <td>0.000000</td>\n",
       "      <td>11.389827</td>\n",
       "      <td>11.389827</td>\n",
       "      <td>13.612219</td>\n",
       "      <td>0.000000</td>\n",
       "      <td>15.052792</td>\n",
       "      <td>11.389827</td>\n",
       "      <td>12.974789</td>\n",
       "      <td>16.052792</td>\n",
       "      <td>17.062252</td>\n",
       "      <td>12.389827</td>\n",
       "      <td>13.264296</td>\n",
       "      <td>9.804864</td>\n",
       "      <td>14.126792</td>\n",
       "    </tr>\n",
       "    <tr>\n",
       "      <th>Sandmound_TuleC_D1</th>\n",
       "      <td>-0.033444</td>\n",
       "      <td>10.116270</td>\n",
       "      <td>6.883610</td>\n",
       "      <td>12.981642</td>\n",
       "      <td>0.000000</td>\n",
       "      <td>13.071457</td>\n",
       "      <td>12.187390</td>\n",
       "      <td>14.386640</td>\n",
       "      <td>0.000000</td>\n",
       "      <td>15.452706</td>\n",
       "      <td>7.468572</td>\n",
       "      <td>10.837806</td>\n",
       "      <td>15.857451</td>\n",
       "      <td>14.232338</td>\n",
       "      <td>10.627771</td>\n",
       "      <td>12.150396</td>\n",
       "      <td>10.262121</td>\n",
       "      <td>14.027248</td>\n",
       "    </tr>\n",
       "    <tr>\n",
       "      <th>Sandmound_ThreeSqA_D1</th>\n",
       "      <td>-0.147209</td>\n",
       "      <td>10.480372</td>\n",
       "      <td>7.702764</td>\n",
       "      <td>11.672391</td>\n",
       "      <td>0.000000</td>\n",
       "      <td>13.171534</td>\n",
       "      <td>12.910360</td>\n",
       "      <td>13.962395</td>\n",
       "      <td>0.000000</td>\n",
       "      <td>15.155545</td>\n",
       "      <td>6.769878</td>\n",
       "      <td>10.932499</td>\n",
       "      <td>15.803051</td>\n",
       "      <td>13.978445</td>\n",
       "      <td>9.753390</td>\n",
       "      <td>12.721958</td>\n",
       "      <td>10.676769</td>\n",
       "      <td>13.608509</td>\n",
       "    </tr>\n",
       "  </tbody>\n",
       "</table>\n",
       "</div>"
      ],
      "text/plain": [
       "                       CH4_ug_m2_h     CH4_H2    CH4_ac      MOB_I    MOB_II  \\\n",
       "Sample                                                                         \n",
       "Sandmound_CattailA_D1     0.000000  11.280585  8.535966  14.155054  2.981377   \n",
       "Sandmound_TuleA_D1        0.650605  10.791848  8.213227  13.546500  0.000000   \n",
       "Sandmound_TuleB_D1        0.000000   9.804864  0.000000  13.892327  0.000000   \n",
       "Sandmound_TuleC_D1       -0.033444  10.116270  6.883610  12.981642  0.000000   \n",
       "Sandmound_ThreeSqA_D1    -0.147209  10.480372  7.702764  11.672391  0.000000   \n",
       "\n",
       "                         MOB_IIa       MeOB        AOA       AOB        NOB  \\\n",
       "Sample                                                                        \n",
       "Sandmound_CattailA_D1  13.763556  13.166253  12.787121  2.981377  15.351792   \n",
       "Sandmound_TuleA_D1     13.262216  12.616351  14.307374  0.000000  15.440273   \n",
       "Sandmound_TuleB_D1     11.389827  11.389827  13.612219  0.000000  15.052792   \n",
       "Sandmound_TuleC_D1     13.071457  12.187390  14.386640  0.000000  15.452706   \n",
       "Sandmound_ThreeSqA_D1  13.171534  12.910360  13.962395  0.000000  15.155545   \n",
       "\n",
       "                           Anamx       SOxB    SRB_syn        SRB       FeOB  \\\n",
       "Sample                                                                         \n",
       "Sandmound_CattailA_D1   6.151302  12.352065  16.573250  15.594246  11.712696   \n",
       "Sandmound_TuleA_D1      6.872190  11.322852  15.959300  14.433924  10.798190   \n",
       "Sandmound_TuleB_D1     11.389827  12.974789  16.052792  17.062252  12.389827   \n",
       "Sandmound_TuleC_D1      7.468572  10.837806  15.857451  14.232338  10.627771   \n",
       "Sandmound_ThreeSqA_D1   6.769878  10.932499  15.803051  13.978445   9.753390   \n",
       "\n",
       "                            FeRB  Methanogen  Methanotroph  \n",
       "Sample                                                      \n",
       "Sandmound_CattailA_D1  13.313414   11.481223     14.972899  \n",
       "Sandmound_TuleA_D1     12.284972   11.015148     14.411349  \n",
       "Sandmound_TuleB_D1     13.264296    9.804864     14.126792  \n",
       "Sandmound_TuleC_D1     12.150396   10.262121     14.027248  \n",
       "Sandmound_ThreeSqA_D1  12.721958   10.676769     13.608509  "
      ]
     },
     "execution_count": 71,
     "metadata": {},
     "output_type": "execute_result"
    }
   ],
   "source": [
    "# To Filter only delta samples, or other\n",
    "Guild_countsLog2[\"Sample\"] = Guild_countsLog2.index           # Get sample column from index\n",
    "# Guild_countsLog2\n",
    "\n",
    "Guild_abund = pd.merge(env_var_df, Guild_countsLog2, on='Sample')    # Merge Env var with KO abundance by Samp.\n",
    "Guild_abund = Guild_abund.set_index('Sample')\n",
    "#env_var_df# \n",
    "\n",
    "Guild_abund= Guild_abund.iloc[:,0:18]                               # drops ratios\n",
    "Guild_abund.head()"
   ]
  },
  {
   "cell_type": "markdown",
   "metadata": {},
   "source": [
    "### Import guild taxa"
   ]
  },
  {
   "cell_type": "code",
   "execution_count": 88,
   "metadata": {},
   "outputs": [],
   "source": [
    "Guild_CH4_tax = pd.read_csv('CH4_guildG_log2abund_wkey.txt', sep='\\t')#, index_col=0)      # RAST_KO_ordered133_R2_F200_DESeq2_nrm.txt\n",
    "\n",
    "drop_vars = [\"Guild\", \"color\", \"G_index\"]\n",
    "Guild_CH4_tax = Guild_CH4_tax.drop(drop_vars, 1)\n",
    "Guild_CH4_tax = Guild_CH4_tax.set_index(\"Genus\")\n",
    "Guild_CH4_taxT = Guild_CH4_tax.T\n",
    "Guild_CH4_taxT[\"Sample\"] = Guild_CH4_taxT.index \n",
    "Guild_CH4_taxa = pd.merge(env_var_df, Guild_CH4_taxT, on='Sample')\n",
    "Guild_CH4_taxa = Guild_CH4_taxa.set_index('Sample')\n",
    "Guild_CH4_taxa.head()\n",
    "\n",
    "X = Guild_CH4_taxa.drop(env_var,1)\n",
    "y = Guild_CH4_taxa[env_var]\n"
   ]
  },
  {
   "cell_type": "code",
   "execution_count": 89,
   "metadata": {
    "collapsed": true
   },
   "outputs": [],
   "source": [
    "# envVar_KOabundO.head()"
   ]
  },
  {
   "cell_type": "markdown",
   "metadata": {},
   "source": [
    "## Define and scale variables for ML "
   ]
  },
  {
   "cell_type": "raw",
   "metadata": {
    "collapsed": true
   },
   "source": [
    "X = Guild_abund.drop(env_var,1)\n",
    "y = Guild_abund[env_var]"
   ]
  },
  {
   "cell_type": "markdown",
   "metadata": {},
   "source": [
    "### @@ combine guilds and chem"
   ]
  },
  {
   "cell_type": "raw",
   "metadata": {
    "collapsed": true
   },
   "source": [
    "# Here combine guilds and chem\n",
    "Guild_abund_chem = Guild_abund.drop(env_var,1)\n",
    "Guild_abund_chem = Guild_abund_chem.join(chem_ML)\n",
    "Guild_abund_chem\n",
    "#chem_mL #= pd.merge(chem_ML, CH4nps_KOabund_T, on='Sample')\n",
    "Guild_abund_chem = Guild_abund_chem.set_index('Sample')\n",
    "\n",
    "X = Guild_abund_chem.drop(env_var,1)\n",
    "y = Guild_abund_chem[env_var]"
   ]
  },
  {
   "cell_type": "markdown",
   "metadata": {},
   "source": [
    "## @@ combine guilds and genes"
   ]
  },
  {
   "cell_type": "raw",
   "metadata": {
    "collapsed": true
   },
   "source": [
    "genes = envVar_KOabundO.drop(env_var,1)\n",
    "Guild_genes = Guild_abund.join(genes)\n",
    "#Guild_genes = pd.merge(envVar_KOabundO, Guild_abund)\n",
    "Guild_genes = Guild_genes.fillna(0)\n",
    "\n",
    "X = Guild_genes.drop(env_var,1)\n",
    "y = Guild_genes[env_var]"
   ]
  },
  {
   "cell_type": "markdown",
   "metadata": {},
   "source": [
    "## @@ guilds, chem, genes"
   ]
  },
  {
   "cell_type": "raw",
   "metadata": {
    "collapsed": true
   },
   "source": [
    "Guild_abund_chem2 = Guild_abund.drop(env_var,1)\n",
    "Guild_abund_chem2 = Guild_abund_chem2.join(chem_ML)\n",
    "genes = envVar_KOabundO.drop(env_var,1)\n",
    "Guild_chem_genes = Guild_abund_chem2.join(genes)\n",
    "Guild_chem_genes = Guild_chem_genes.set_index('Sample')\n",
    "Guild_chem_genes = Guild_chem_genes.fillna(0)\n",
    "Guild_chem_genes\n",
    "X = Guild_chem_genes.drop(env_var,1)\n",
    "\n",
    "#X = X.drop(\"CO2_mg_m2_h\", 1)\n",
    "#X = X.drop(\"CO2_soilC_mg_g_d\", 1)\n",
    "# would need to keep dropping\n",
    "\n",
    "y = Guild_chem_genes[env_var]"
   ]
  },
  {
   "cell_type": "code",
   "execution_count": 90,
   "metadata": {
    "collapsed": true
   },
   "outputs": [],
   "source": [
    "#Guild_chem_genes.select_dtypes(exclude = [\"object\"]).columns"
   ]
  },
  {
   "cell_type": "markdown",
   "metadata": {},
   "source": [
    "### Partion the data into training set and testing set"
   ]
  },
  {
   "cell_type": "code",
   "execution_count": 91,
   "metadata": {},
   "outputs": [
    {
     "name": "stdout",
     "output_type": "stream",
     "text": [
      "X_train : (50, 22)\n",
      "X_test : (22, 22)\n",
      "y_train : (50,)\n",
      "y_test : (22,)\n"
     ]
    }
   ],
   "source": [
    "# Partition the dataset in train + validation sets\n",
    "X_train, X_test, y_train, y_test = train_test_split(X, y, test_size = 0.3, random_state = 0)\n",
    "\n",
    "print(\"X_train : \" + str(X_train.shape))\n",
    "print(\"X_test : \" + str(X_test.shape))\n",
    "print(\"y_train : \" + str(y_train.shape))\n",
    "print(\"y_test : \" + str(y_test.shape))"
   ]
  },
  {
   "cell_type": "code",
   "execution_count": 92,
   "metadata": {
    "collapsed": true
   },
   "outputs": [],
   "source": [
    "# Standardize numerical features, not using Standard scaler but log2 DESeq2 counts should be relatively normal?\n",
    "robSc = RobustScaler()\n",
    "\n",
    "X_scaled = robSc.fit_transform(X)\n",
    "X_trainS = robSc.fit_transform(X_train)\n",
    "X_testS = robSc.fit_transform(X_test)"
   ]
  },
  {
   "cell_type": "markdown",
   "metadata": {},
   "source": [
    "# LASSO Regression"
   ]
  },
  {
   "cell_type": "code",
   "execution_count": 93,
   "metadata": {},
   "outputs": [
    {
     "name": "stdout",
     "output_type": "stream",
     "text": [
      "Best alpha : 0.01\n"
     ]
    }
   ],
   "source": [
    "# Lasso\n",
    "lasso = LassoCV(alphas = [0.0001, 0.0003, 0.0006, 0.001, 0.003, 0.006, 0.01, 0.03, 0.06, 0.1, \n",
    "                          0.3, 0.6, 1], \n",
    "                max_iter = 50000, cv = 10)\n",
    "lasso.fit(X_train, y_train)\n",
    "alpha = lasso.alpha_\n",
    "print(\"Best alpha :\", alpha)\n"
   ]
  },
  {
   "cell_type": "code",
   "execution_count": 94,
   "metadata": {},
   "outputs": [
    {
     "name": "stdout",
     "output_type": "stream",
     "text": [
      "Try again for more precision with alphas centered around 0.01\n",
      "Best alpha : 0.0125\n",
      "Lasso RMSE on Training set : 0.673530446379\n",
      "Lasso RMSE on Test set : 0.728800051964\n"
     ]
    }
   ],
   "source": [
    "print(\"Try again for more precision with alphas centered around \" + str(alpha))\n",
    "lasso = LassoCV(alphas = [alpha * .6, alpha * .65, alpha * .7, alpha * .75, alpha * .8, \n",
    "                          alpha * .85, alpha * .9, alpha * .95, alpha, alpha * 1.05, \n",
    "                          alpha * 1.1, alpha * 1.15, alpha * 1.25, alpha * 1.3, alpha * 1.35, \n",
    "                          alpha * 1.4], \n",
    "                max_iter = 50000, cv = 10)\n",
    "lasso.fit(X_train, y_train)\n",
    "alpha = lasso.alpha_\n",
    "print(\"Best alpha :\", alpha)\n",
    "\n",
    "print(\"Lasso RMSE on Training set :\", rmse_cv_train(lasso).mean())\n",
    "print(\"Lasso RMSE on Test set :\", rmse_cv_test(lasso).mean())\n",
    "y_train_las = lasso.predict(X_scaled)\n",
    "y_test_las = lasso.predict(X_test)"
   ]
  },
  {
   "cell_type": "code",
   "execution_count": 95,
   "metadata": {},
   "outputs": [
    {
     "name": "stdout",
     "output_type": "stream",
     "text": [
      "R2= 0.323165975486\n"
     ]
    }
   ],
   "source": [
    "accuracy = metrics.r2_score(y, y_train_las)\n",
    "print(\"R2=\", accuracy)"
   ]
  },
  {
   "cell_type": "code",
   "execution_count": 96,
   "metadata": {
    "scrolled": true
   },
   "outputs": [
    {
     "data": {
      "text/plain": [
       "<matplotlib.axes._subplots.AxesSubplot at 0x117a8eeb8>"
      ]
     },
     "execution_count": 96,
     "metadata": {},
     "output_type": "execute_result"
    },
    {
     "data": {
      "image/png": "[encoded data removed]",
      "text/plain": [
       "<matplotlib.figure.Figure at 0x117bfc518>"
      ]
     },
     "metadata": {},
     "output_type": "display_data"
    }
   ],
   "source": [
    "sns.regplot(x=y, y=y_train_las)"
   ]
  },
  {
   "cell_type": "code",
   "execution_count": 97,
   "metadata": {},
   "outputs": [
    {
     "name": "stdout",
     "output_type": "stream",
     "text": [
      "R2= 0.566984221373\n"
     ]
    }
   ],
   "source": [
    "accuracy = metrics.r2_score(y_test, y_test_las)\n",
    "print(\"R2=\", accuracy)"
   ]
  },
  {
   "cell_type": "code",
   "execution_count": 98,
   "metadata": {},
   "outputs": [
    {
     "data": {
      "text/plain": [
       "<matplotlib.axes._subplots.AxesSubplot at 0x117bf1fd0>"
      ]
     },
     "execution_count": 98,
     "metadata": {},
     "output_type": "execute_result"
    },
    {
     "data": {
      "image/png": "[encoded data removed]",
      "text/plain": [
       "<matplotlib.figure.Figure at 0x118583780>"
      ]
     },
     "metadata": {},
     "output_type": "display_data"
    }
   ],
   "source": [
    "sns.regplot(x=y_test, y=y_test_las)"
   ]
  },
  {
   "cell_type": "code",
   "execution_count": null,
   "metadata": {
    "collapsed": true
   },
   "outputs": [],
   "source": []
  },
  {
   "cell_type": "code",
   "execution_count": 99,
   "metadata": {},
   "outputs": [
    {
     "data": {
      "image/png": "[encoded data removed]",
      "text/plain": [
       "<matplotlib.figure.Figure at 0x1185f77f0>"
      ]
     },
     "metadata": {},
     "output_type": "display_data"
    }
   ],
   "source": [
    "# Extract scaled coefficients\n",
    "coef = pd.Series(lasso.coef_, index = X_train.columns)\n",
    "\n",
    "# Get top 20 most important features\n",
    "imp_coef = pd.concat([coef.sort_values().head(10),\n",
    "                     coef.sort_values().tail(10)])\n",
    "\n",
    "imp_coef = pd.DataFrame(imp_coef)                    # Make coef data frame\n",
    "imp_coef.columns= [\"coef\"]                           # Name first column coef \n",
    "imp_coef['var'] = imp_coef.index                      # add KOs\n",
    "imp_coef\n",
    "\n",
    "sns.barplot(data=imp_coef, y='var', x='coef', color=\"slategrey\")#, palette=pal) #, orient='h')\n",
    "sns.despine()"
   ]
  },
  {
   "cell_type": "code",
   "execution_count": 101,
   "metadata": {},
   "outputs": [
    {
     "data": {
      "image/png": "[encoded data removed]",
      "text/plain": [
       "<matplotlib.figure.Figure at 0x118b3da20>"
      ]
     },
     "metadata": {},
     "output_type": "display_data"
    }
   ],
   "source": [
    "from matplotlib.backends.backend_pdf import PdfPages\n",
    "#pp = PdfPages(\"test_Lasso_SOILS_all_sites.pdf\")                     # Initialize the pdf file\n",
    "#pp = PdfPages(\"Lasso_Guilds.pdf\")\n",
    "#pp = PdfPages(\"Lasso_CorrCH4_Guilds.pdf\")\n",
    "#pp = PdfPages(\"Lasso_Soils_Guilds.pdf\")\n",
    "\n",
    "fig = plt.figure(figsize=(4, 4))           # Define plot\n",
    "sns.barplot(data=imp_coef, y='var', x='coef', color=\"slategrey\")#, palette=pal) #, orient='h')\n",
    "\n",
    "#sns.barplot(data=coef_info, y='sm_name', x='coef', palette=pal) #, orient='h')\n",
    "fig.tight_layout()                    # Make tight layout\n",
    "#pp.savefig()                            # Save the figure PDF created at top, else add file name .pdf  or  \n",
    "#pp.close()   # Close the file"
   ]
  },
  {
   "cell_type": "code",
   "execution_count": null,
   "metadata": {
    "collapsed": true
   },
   "outputs": [],
   "source": []
  },
  {
   "cell_type": "code",
   "execution_count": null,
   "metadata": {
    "collapsed": true
   },
   "outputs": [],
   "source": []
  }
 ],
 "metadata": {
  "anaconda-cloud": {},
  "kernelspec": {
   "display_name": "Python [cdips2017]",
   "language": "python",
   "name": "Python [cdips2017]"
  },
  "language_info": {
   "codemirror_mode": {
    "name": "ipython",
    "version": 3
   },
   "file_extension": ".py",
   "mimetype": "text/x-python",
   "name": "python",
   "nbconvert_exporter": "python",
   "pygments_lexer": "ipython3",
   "version": "3.6.1"
  }
 },
 "nbformat": 4,
 "nbformat_minor": 1
}
